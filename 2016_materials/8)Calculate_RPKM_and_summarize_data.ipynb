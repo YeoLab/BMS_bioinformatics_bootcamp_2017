{
 "cells": [
  {
   "cell_type": "markdown",
   "metadata": {},
   "source": [
    "# We will now start coding in python! We are going to load our counts data from featureCounts and do some calculations "
   ]
  },
  {
   "cell_type": "markdown",
   "metadata": {
    "collapsed": true
   },
   "source": [
    "First we need to import all the python packages that we will use. We will do that in the following cell. **WARNING** you most likely won't have all these packages installed. If you get the error \"Cannot import package name ....\" You need to go back to your command line and install it on tscc. \n",
    "\n",
    "Remember how we installed things before? Try conda, then bioconda, then pip. Once you have installed it on your command line on tscc, you will need to restart your kernel to refresh those changes (Kernel - Restart)\n",
    "\n",
    "**NOTE - **since these are python specific packages, you will not be able to tell if they installed properly on your command line with \n",
    "\n",
    "    which packagename\n",
    "   \n",
    "Instead, you will first need to open python in your terminal with:\n",
    "\n",
    "    python\n",
    "    \n",
    "Then try to import it (this is the same thing you do in a Jupyter notebook)\n",
    "\n",
    "    import packagename\n",
    "    \n",
    "If you don't get any errors, then success! It is installed. To get out of python and back to your normal command line:\n",
    "\n",
    "    quit()\n",
    "    \n",
    "**Don't be afraid of error messages! Learn how to read them and solve them!!**"
   ]
  },
  {
   "cell_type": "code",
   "execution_count": 1,
   "metadata": {
    "collapsed": true
   },
   "outputs": [],
   "source": [
    "import pandas as pd\n",
    "import numpy as np\n",
    "import seaborn as sns\n",
    "from matplotlib import pyplot as plt\n",
    "%matplotlib inline"
   ]
  },
  {
   "cell_type": "code",
   "execution_count": 3,
   "metadata": {
    "collapsed": false
   },
   "outputs": [
    {
     "name": "stdout",
     "output_type": "stream",
     "text": [
      "(57820, 10)\n"
     ]
    },
    {
     "data": {
      "text/html": [
       "<div>\n",
       "<table border=\"1\" class=\"dataframe\">\n",
       "  <thead>\n",
       "    <tr style=\"text-align: right;\">\n",
       "      <th></th>\n",
       "      <th>Chr</th>\n",
       "      <th>Start</th>\n",
       "      <th>End</th>\n",
       "      <th>Strand</th>\n",
       "      <th>Length</th>\n",
       "      <th>/home/ucsd-train01/scratch/annotations/allchrom.fa</th>\n",
       "      <th>lin28b_ctrl_rep1.bam</th>\n",
       "      <th>lin28b_ctrl_rep2.bam</th>\n",
       "      <th>lin28b_kd_rep1.bam</th>\n",
       "      <th>lin28b_kd_rep2.bam</th>\n",
       "    </tr>\n",
       "    <tr>\n",
       "      <th>Geneid</th>\n",
       "      <th></th>\n",
       "      <th></th>\n",
       "      <th></th>\n",
       "      <th></th>\n",
       "      <th></th>\n",
       "      <th></th>\n",
       "      <th></th>\n",
       "      <th></th>\n",
       "      <th></th>\n",
       "      <th></th>\n",
       "    </tr>\n",
       "  </thead>\n",
       "  <tbody>\n",
       "    <tr>\n",
       "      <th>ENSG00000223972.4</th>\n",
       "      <td>chr1;chr1;chr1;chr1</td>\n",
       "      <td>11869;12595;12975;13221</td>\n",
       "      <td>12227;12721;13052;14412</td>\n",
       "      <td>+;+;+;+</td>\n",
       "      <td>1756</td>\n",
       "      <td>0</td>\n",
       "      <td>0</td>\n",
       "      <td>2</td>\n",
       "      <td>0</td>\n",
       "      <td>0</td>\n",
       "    </tr>\n",
       "    <tr>\n",
       "      <th>ENSG00000227232.4</th>\n",
       "      <td>chr1;chr1;chr1;chr1;chr1;chr1;chr1;chr1;chr1;c...</td>\n",
       "      <td>14363;14970;15796;16607;16854;17233;17498;1760...</td>\n",
       "      <td>14829;15038;15947;16765;17055;17368;17504;1774...</td>\n",
       "      <td>-;-;-;-;-;-;-;-;-;-;-;-;-</td>\n",
       "      <td>2073</td>\n",
       "      <td>0</td>\n",
       "      <td>294</td>\n",
       "      <td>294</td>\n",
       "      <td>334</td>\n",
       "      <td>410</td>\n",
       "    </tr>\n",
       "    <tr>\n",
       "      <th>ENSG00000243485.2</th>\n",
       "      <td>chr1;chr1;chr1</td>\n",
       "      <td>29554;30267;30976</td>\n",
       "      <td>30039;30667;31109</td>\n",
       "      <td>+;+;+</td>\n",
       "      <td>1021</td>\n",
       "      <td>0</td>\n",
       "      <td>0</td>\n",
       "      <td>0</td>\n",
       "      <td>0</td>\n",
       "      <td>0</td>\n",
       "    </tr>\n",
       "    <tr>\n",
       "      <th>ENSG00000237613.2</th>\n",
       "      <td>chr1;chr1;chr1</td>\n",
       "      <td>34554;35245;35721</td>\n",
       "      <td>35174;35481;36081</td>\n",
       "      <td>-;-;-</td>\n",
       "      <td>1219</td>\n",
       "      <td>0</td>\n",
       "      <td>0</td>\n",
       "      <td>2</td>\n",
       "      <td>4</td>\n",
       "      <td>7</td>\n",
       "    </tr>\n",
       "    <tr>\n",
       "      <th>ENSG00000268020.2</th>\n",
       "      <td>chr1;chr1</td>\n",
       "      <td>52473;54830</td>\n",
       "      <td>53312;54936</td>\n",
       "      <td>+;+</td>\n",
       "      <td>947</td>\n",
       "      <td>0</td>\n",
       "      <td>0</td>\n",
       "      <td>0</td>\n",
       "      <td>0</td>\n",
       "      <td>0</td>\n",
       "    </tr>\n",
       "  </tbody>\n",
       "</table>\n",
       "</div>"
      ],
      "text/plain": [
       "                                                                 Chr  \\\n",
       "Geneid                                                                 \n",
       "ENSG00000223972.4                                chr1;chr1;chr1;chr1   \n",
       "ENSG00000227232.4  chr1;chr1;chr1;chr1;chr1;chr1;chr1;chr1;chr1;c...   \n",
       "ENSG00000243485.2                                     chr1;chr1;chr1   \n",
       "ENSG00000237613.2                                     chr1;chr1;chr1   \n",
       "ENSG00000268020.2                                          chr1;chr1   \n",
       "\n",
       "                                                               Start  \\\n",
       "Geneid                                                                 \n",
       "ENSG00000223972.4                            11869;12595;12975;13221   \n",
       "ENSG00000227232.4  14363;14970;15796;16607;16854;17233;17498;1760...   \n",
       "ENSG00000243485.2                                  29554;30267;30976   \n",
       "ENSG00000237613.2                                  34554;35245;35721   \n",
       "ENSG00000268020.2                                        52473;54830   \n",
       "\n",
       "                                                                 End  \\\n",
       "Geneid                                                                 \n",
       "ENSG00000223972.4                            12227;12721;13052;14412   \n",
       "ENSG00000227232.4  14829;15038;15947;16765;17055;17368;17504;1774...   \n",
       "ENSG00000243485.2                                  30039;30667;31109   \n",
       "ENSG00000237613.2                                  35174;35481;36081   \n",
       "ENSG00000268020.2                                        53312;54936   \n",
       "\n",
       "                                      Strand  Length  \\\n",
       "Geneid                                                 \n",
       "ENSG00000223972.4                    +;+;+;+    1756   \n",
       "ENSG00000227232.4  -;-;-;-;-;-;-;-;-;-;-;-;-    2073   \n",
       "ENSG00000243485.2                      +;+;+    1021   \n",
       "ENSG00000237613.2                      -;-;-    1219   \n",
       "ENSG00000268020.2                        +;+     947   \n",
       "\n",
       "                   /home/ucsd-train01/scratch/annotations/allchrom.fa  \\\n",
       "Geneid                                                                  \n",
       "ENSG00000223972.4                                                  0    \n",
       "ENSG00000227232.4                                                  0    \n",
       "ENSG00000243485.2                                                  0    \n",
       "ENSG00000237613.2                                                  0    \n",
       "ENSG00000268020.2                                                  0    \n",
       "\n",
       "                   lin28b_ctrl_rep1.bam  lin28b_ctrl_rep2.bam  \\\n",
       "Geneid                                                          \n",
       "ENSG00000223972.4                     0                     2   \n",
       "ENSG00000227232.4                   294                   294   \n",
       "ENSG00000243485.2                     0                     0   \n",
       "ENSG00000237613.2                     0                     2   \n",
       "ENSG00000268020.2                     0                     0   \n",
       "\n",
       "                   lin28b_kd_rep1.bam  lin28b_kd_rep2.bam  \n",
       "Geneid                                                     \n",
       "ENSG00000223972.4                   0                   0  \n",
       "ENSG00000227232.4                 334                 410  \n",
       "ENSG00000243485.2                   0                   0  \n",
       "ENSG00000237613.2                   4                   7  \n",
       "ENSG00000268020.2                   0                   0  "
      ]
     },
     "execution_count": 3,
     "metadata": {},
     "output_type": "execute_result"
    }
   ],
   "source": [
    "# This notebook is linked to TSCC, so we can load data directly by providing \n",
    "# the full path of the file location on tscc. Change the directory below to match your path\n",
    "directory = '/home/ucsd-train##/scratch/projects/lin28b_shrna/all_bams/'\n",
    "\n",
    "# We are going to load the featurecounts file and assign it to the variable name: counts\n",
    "# change the \"featureCounts.txt\" to match the filename you used in your featureCounts script\n",
    "counts = pd.read_csv(directory+\"featureCounts.txt\",sep=\"\\t\",index_col=0,\n",
    "                    comment=\"#\")\n",
    "print counts.shape\n",
    "counts.head()"
   ]
  },
  {
   "cell_type": "code",
   "execution_count": 4,
   "metadata": {
    "collapsed": false
   },
   "outputs": [
    {
     "data": {
      "text/html": [
       "<div>\n",
       "<table border=\"1\" class=\"dataframe\">\n",
       "  <thead>\n",
       "    <tr style=\"text-align: right;\">\n",
       "      <th></th>\n",
       "      <th>Length</th>\n",
       "      <th>lin28b_ctrl_rep1.bam</th>\n",
       "      <th>lin28b_ctrl_rep2.bam</th>\n",
       "      <th>lin28b_kd_rep1.bam</th>\n",
       "      <th>lin28b_kd_rep2.bam</th>\n",
       "    </tr>\n",
       "    <tr>\n",
       "      <th>Geneid</th>\n",
       "      <th></th>\n",
       "      <th></th>\n",
       "      <th></th>\n",
       "      <th></th>\n",
       "      <th></th>\n",
       "    </tr>\n",
       "  </thead>\n",
       "  <tbody>\n",
       "    <tr>\n",
       "      <th>ENSG00000223972.4</th>\n",
       "      <td>1756</td>\n",
       "      <td>0</td>\n",
       "      <td>2</td>\n",
       "      <td>0</td>\n",
       "      <td>0</td>\n",
       "    </tr>\n",
       "    <tr>\n",
       "      <th>ENSG00000227232.4</th>\n",
       "      <td>2073</td>\n",
       "      <td>294</td>\n",
       "      <td>294</td>\n",
       "      <td>334</td>\n",
       "      <td>410</td>\n",
       "    </tr>\n",
       "    <tr>\n",
       "      <th>ENSG00000243485.2</th>\n",
       "      <td>1021</td>\n",
       "      <td>0</td>\n",
       "      <td>0</td>\n",
       "      <td>0</td>\n",
       "      <td>0</td>\n",
       "    </tr>\n",
       "    <tr>\n",
       "      <th>ENSG00000237613.2</th>\n",
       "      <td>1219</td>\n",
       "      <td>0</td>\n",
       "      <td>2</td>\n",
       "      <td>4</td>\n",
       "      <td>7</td>\n",
       "    </tr>\n",
       "    <tr>\n",
       "      <th>ENSG00000268020.2</th>\n",
       "      <td>947</td>\n",
       "      <td>0</td>\n",
       "      <td>0</td>\n",
       "      <td>0</td>\n",
       "      <td>0</td>\n",
       "    </tr>\n",
       "  </tbody>\n",
       "</table>\n",
       "</div>"
      ],
      "text/plain": [
       "                   Length  lin28b_ctrl_rep1.bam  lin28b_ctrl_rep2.bam  \\\n",
       "Geneid                                                                  \n",
       "ENSG00000223972.4    1756                     0                     2   \n",
       "ENSG00000227232.4    2073                   294                   294   \n",
       "ENSG00000243485.2    1021                     0                     0   \n",
       "ENSG00000237613.2    1219                     0                     2   \n",
       "ENSG00000268020.2     947                     0                     0   \n",
       "\n",
       "                   lin28b_kd_rep1.bam  lin28b_kd_rep2.bam  \n",
       "Geneid                                                     \n",
       "ENSG00000223972.4                   0                   0  \n",
       "ENSG00000227232.4                 334                 410  \n",
       "ENSG00000243485.2                   0                   0  \n",
       "ENSG00000237613.2                   4                   7  \n",
       "ENSG00000268020.2                   0                   0  "
      ]
     },
     "execution_count": 4,
     "metadata": {},
     "output_type": "execute_result"
    }
   ],
   "source": [
    "#Let's drop unnecessary columns\n",
    "\n",
    "#Look at the column names in your dataframe above, we only want to keep Length and the four files\n",
    "#containing the count information. Make sure the names that you have after drop below match the \n",
    "#column names that you want to eliminate\n",
    "\n",
    "counts.drop(['Chr','Start','End','Strand',\n",
    "              '/home/ucsd-train01/scratch/annotations/allchrom.fa'], \n",
    "           axis=1, inplace=True)\n",
    "counts.head()"
   ]
  },
  {
   "cell_type": "code",
   "execution_count": null,
   "metadata": {
    "collapsed": false
   },
   "outputs": [],
   "source": [
    "#Here we are going to change the name of the columns by providing a list of the new column names we want to use. Order matters!\n",
    "\n",
    "counts.columns = [['Length','lin28b_ctrl_rep1','lin28b_ctrl_rep2','lin28b_kd_rep1','lin28b_kd_rep2']]\n",
    "counts.head()"
   ]
  },
  {
   "cell_type": "code",
   "execution_count": 6,
   "metadata": {
    "collapsed": true
   },
   "outputs": [],
   "source": [
    "#We will save this counts matrix to use as the input for differential expression. \n",
    "#This will be saved in the directory location that you defined above and will have the filename \n",
    "#counts_for_deseq2.csv\n",
    "counts.to_csv(directory+'counts_for_deseq2.csv')"
   ]
  },
  {
   "cell_type": "code",
   "execution_count": 8,
   "metadata": {
    "collapsed": false
   },
   "outputs": [
    {
     "data": {
      "text/html": [
       "<div>\n",
       "<table border=\"1\" class=\"dataframe\">\n",
       "  <thead>\n",
       "    <tr style=\"text-align: right;\">\n",
       "      <th></th>\n",
       "    </tr>\n",
       "  </thead>\n",
       "  <tbody>\n",
       "    <tr>\n",
       "      <th>lin28b_ctrl_rep1</th>\n",
       "    </tr>\n",
       "    <tr>\n",
       "      <th>lin28b_ctrl_rep2</th>\n",
       "    </tr>\n",
       "    <tr>\n",
       "      <th>lin28b_kd_rep1</th>\n",
       "    </tr>\n",
       "    <tr>\n",
       "      <th>lin28b_kd_rep2</th>\n",
       "    </tr>\n",
       "  </tbody>\n",
       "</table>\n",
       "</div>"
      ],
      "text/plain": [
       "Empty DataFrame\n",
       "Columns: []\n",
       "Index: [lin28b_ctrl_rep1, lin28b_ctrl_rep2, lin28b_kd_rep1, lin28b_kd_rep2]"
      ]
     },
     "execution_count": 8,
     "metadata": {},
     "output_type": "execute_result"
    }
   ],
   "source": [
    "#We also need to make a condition matrix for deseq2. The row names need to match the column names\n",
    "#from the count matrix and we will assign a condition to each row\n",
    "\n",
    "conditions = pd.DataFrame(index = counts.columns[1:])\n",
    "conditions.head()"
   ]
  },
  {
   "cell_type": "code",
   "execution_count": 9,
   "metadata": {
    "collapsed": false
   },
   "outputs": [
    {
     "data": {
      "text/html": [
       "<div>\n",
       "<table border=\"1\" class=\"dataframe\">\n",
       "  <thead>\n",
       "    <tr style=\"text-align: right;\">\n",
       "      <th></th>\n",
       "      <th>condition</th>\n",
       "    </tr>\n",
       "  </thead>\n",
       "  <tbody>\n",
       "    <tr>\n",
       "      <th>lin28b_ctrl_rep1</th>\n",
       "      <td>control</td>\n",
       "    </tr>\n",
       "    <tr>\n",
       "      <th>lin28b_ctrl_rep2</th>\n",
       "      <td>control</td>\n",
       "    </tr>\n",
       "    <tr>\n",
       "      <th>lin28b_kd_rep1</th>\n",
       "      <td>knockdown</td>\n",
       "    </tr>\n",
       "    <tr>\n",
       "      <th>lin28b_kd_rep2</th>\n",
       "      <td>knockdown</td>\n",
       "    </tr>\n",
       "  </tbody>\n",
       "</table>\n",
       "</div>"
      ],
      "text/plain": [
       "                  condition\n",
       "lin28b_ctrl_rep1    control\n",
       "lin28b_ctrl_rep2    control\n",
       "lin28b_kd_rep1    knockdown\n",
       "lin28b_kd_rep2    knockdown"
      ]
     },
     "execution_count": 9,
     "metadata": {},
     "output_type": "execute_result"
    }
   ],
   "source": [
    "#Make sure the features listed below match the order of the rows that are listed in the \n",
    "#conditions dataframe that is printed above. If necessary, change the order to match your\n",
    "#setup. Check that the conditions match on the dataframe created below\n",
    "\n",
    "features= ['control','control','knockdown','knockdown']\n",
    "conditions['condition'] = features\n",
    "conditions.head()"
   ]
  },
  {
   "cell_type": "code",
   "execution_count": 9,
   "metadata": {
    "collapsed": true
   },
   "outputs": [],
   "source": [
    "#We will save this conditions matrix to use as the input for differential expression. \n",
    "#This will be saved in the that you defined above and will have the filename \n",
    "#counts_for_deseq2.csv\n",
    "\n",
    "conditions.to_csv(directory+\"conditions_matrix_deseq2.csv\")"
   ]
  },
  {
   "cell_type": "code",
   "execution_count": 10,
   "metadata": {
    "collapsed": true
   },
   "outputs": [],
   "source": [
    "#Here is a handy function that will turn our counts matrix into RPKM\n",
    "\n",
    "#You don't need to do anything here other than run the cell\n",
    "\n",
    "def counts_to_rpkm(featureCountsTable):\n",
    "    counts = featureCountsTable.ix[:,1:]\n",
    "    lengths = featureCountsTable['Length']\n",
    "    mapped_reads = counts.sum()\n",
    "    return (counts * pow(10,9)).div(mapped_reads, axis=1).div(lengths, axis=0)"
   ]
  },
  {
   "cell_type": "code",
   "execution_count": 11,
   "metadata": {
    "collapsed": false
   },
   "outputs": [
    {
     "name": "stdout",
     "output_type": "stream",
     "text": [
      "(57820, 4)\n"
     ]
    },
    {
     "data": {
      "text/html": [
       "<div>\n",
       "<table border=\"1\" class=\"dataframe\">\n",
       "  <thead>\n",
       "    <tr style=\"text-align: right;\">\n",
       "      <th></th>\n",
       "      <th>lin28b_ctrl_rep1.bam</th>\n",
       "      <th>lin28b_ctrl_rep2.bam</th>\n",
       "      <th>lin28b_kd_rep1.bam</th>\n",
       "      <th>lin28b_kd_rep2.bam</th>\n",
       "    </tr>\n",
       "    <tr>\n",
       "      <th>Geneid</th>\n",
       "      <th></th>\n",
       "      <th></th>\n",
       "      <th></th>\n",
       "      <th></th>\n",
       "    </tr>\n",
       "  </thead>\n",
       "  <tbody>\n",
       "    <tr>\n",
       "      <th>ENSG00000223972.4</th>\n",
       "      <td>0.000000</td>\n",
       "      <td>0.062309</td>\n",
       "      <td>0.000000</td>\n",
       "      <td>0.000000</td>\n",
       "    </tr>\n",
       "    <tr>\n",
       "      <th>ENSG00000227232.4</th>\n",
       "      <td>9.087219</td>\n",
       "      <td>7.758734</td>\n",
       "      <td>10.038027</td>\n",
       "      <td>8.460869</td>\n",
       "    </tr>\n",
       "    <tr>\n",
       "      <th>ENSG00000243485.2</th>\n",
       "      <td>0.000000</td>\n",
       "      <td>0.000000</td>\n",
       "      <td>0.000000</td>\n",
       "      <td>0.000000</td>\n",
       "    </tr>\n",
       "    <tr>\n",
       "      <th>ENSG00000237613.2</th>\n",
       "      <td>0.000000</td>\n",
       "      <td>0.089757</td>\n",
       "      <td>0.204436</td>\n",
       "      <td>0.245655</td>\n",
       "    </tr>\n",
       "    <tr>\n",
       "      <th>ENSG00000268020.2</th>\n",
       "      <td>0.000000</td>\n",
       "      <td>0.000000</td>\n",
       "      <td>0.000000</td>\n",
       "      <td>0.000000</td>\n",
       "    </tr>\n",
       "  </tbody>\n",
       "</table>\n",
       "</div>"
      ],
      "text/plain": [
       "                   lin28b_ctrl_rep1.bam  lin28b_ctrl_rep2.bam  \\\n",
       "Geneid                                                          \n",
       "ENSG00000223972.4              0.000000              0.062309   \n",
       "ENSG00000227232.4              9.087219              7.758734   \n",
       "ENSG00000243485.2              0.000000              0.000000   \n",
       "ENSG00000237613.2              0.000000              0.089757   \n",
       "ENSG00000268020.2              0.000000              0.000000   \n",
       "\n",
       "                   lin28b_kd_rep1.bam  lin28b_kd_rep2.bam  \n",
       "Geneid                                                     \n",
       "ENSG00000223972.4            0.000000            0.000000  \n",
       "ENSG00000227232.4           10.038027            8.460869  \n",
       "ENSG00000243485.2            0.000000            0.000000  \n",
       "ENSG00000237613.2            0.204436            0.245655  \n",
       "ENSG00000268020.2            0.000000            0.000000  "
      ]
     },
     "execution_count": 11,
     "metadata": {},
     "output_type": "execute_result"
    }
   ],
   "source": [
    "#Now we are applying the function we wrote in the cell above to our data and looking at the first 5 lines\n",
    "#of our output dataframe. We are also looking at the total number of rows and columns we have in our \n",
    "#dataframe with shape\n",
    "\n",
    "rpkm = counts_to_rpkm(counts)\n",
    "print rpkm.shape\n",
    "rpkm.head()"
   ]
  },
  {
   "cell_type": "code",
   "execution_count": 12,
   "metadata": {
    "collapsed": false
   },
   "outputs": [
    {
     "name": "stdout",
     "output_type": "stream",
     "text": [
      "(11973, 4)\n"
     ]
    },
    {
     "data": {
      "text/html": [
       "<div>\n",
       "<table border=\"1\" class=\"dataframe\">\n",
       "  <thead>\n",
       "    <tr style=\"text-align: right;\">\n",
       "      <th></th>\n",
       "      <th>lin28b_ctrl_rep1.bam</th>\n",
       "      <th>lin28b_ctrl_rep2.bam</th>\n",
       "      <th>lin28b_kd_rep1.bam</th>\n",
       "      <th>lin28b_kd_rep2.bam</th>\n",
       "    </tr>\n",
       "    <tr>\n",
       "      <th>Geneid</th>\n",
       "      <th></th>\n",
       "      <th></th>\n",
       "      <th></th>\n",
       "      <th></th>\n",
       "    </tr>\n",
       "  </thead>\n",
       "  <tbody>\n",
       "    <tr>\n",
       "      <th>ENSG00000227232.4</th>\n",
       "      <td>9.087219</td>\n",
       "      <td>7.758734</td>\n",
       "      <td>10.038027</td>\n",
       "      <td>8.460869</td>\n",
       "    </tr>\n",
       "    <tr>\n",
       "      <th>ENSG00000238009.2</th>\n",
       "      <td>1.543956</td>\n",
       "      <td>1.992690</td>\n",
       "      <td>2.391527</td>\n",
       "      <td>1.953761</td>\n",
       "    </tr>\n",
       "    <tr>\n",
       "      <th>ENSG00000237683.5</th>\n",
       "      <td>18.444499</td>\n",
       "      <td>24.506101</td>\n",
       "      <td>35.775001</td>\n",
       "      <td>33.052831</td>\n",
       "    </tr>\n",
       "    <tr>\n",
       "      <th>ENSG00000239906.1</th>\n",
       "      <td>2.182092</td>\n",
       "      <td>1.863086</td>\n",
       "      <td>4.822127</td>\n",
       "      <td>5.959920</td>\n",
       "    </tr>\n",
       "    <tr>\n",
       "      <th>ENSG00000241860.2</th>\n",
       "      <td>1.996177</td>\n",
       "      <td>0.953730</td>\n",
       "      <td>1.267157</td>\n",
       "      <td>0.987473</td>\n",
       "    </tr>\n",
       "  </tbody>\n",
       "</table>\n",
       "</div>"
      ],
      "text/plain": [
       "                   lin28b_ctrl_rep1.bam  lin28b_ctrl_rep2.bam  \\\n",
       "Geneid                                                          \n",
       "ENSG00000227232.4              9.087219              7.758734   \n",
       "ENSG00000238009.2              1.543956              1.992690   \n",
       "ENSG00000237683.5             18.444499             24.506101   \n",
       "ENSG00000239906.1              2.182092              1.863086   \n",
       "ENSG00000241860.2              1.996177              0.953730   \n",
       "\n",
       "                   lin28b_kd_rep1.bam  lin28b_kd_rep2.bam  \n",
       "Geneid                                                     \n",
       "ENSG00000227232.4           10.038027            8.460869  \n",
       "ENSG00000238009.2            2.391527            1.953761  \n",
       "ENSG00000237683.5           35.775001           33.052831  \n",
       "ENSG00000239906.1            4.822127            5.959920  \n",
       "ENSG00000241860.2            1.267157            0.987473  "
      ]
     },
     "execution_count": 12,
     "metadata": {},
     "output_type": "execute_result"
    }
   ],
   "source": [
    "#To get rid of a lot of noise, we are going to drop rows that have combined RPKM less than 4\n",
    "#We are going to save the clean output in dataframe called rpkm_filtered\n",
    "\n",
    "rpkm_filtered = rpkm.loc[rpkm.sum(axis=1) > 4]\n",
    "print rpkm_filtered.shape\n",
    "rpkm_filtered.head()"
   ]
  },
  {
   "cell_type": "code",
   "execution_count": 13,
   "metadata": {
    "collapsed": false
   },
   "outputs": [],
   "source": [
    "#Now we will save the file. Note that it will go to the same location we defined as \n",
    "#directory above and it will be given the filename rpkm_filtered.csv\n",
    "rpkm_filtered.to_csv(directory+\"rpkm_filtered.csv\")"
   ]
  },
  {
   "cell_type": "code",
   "execution_count": 14,
   "metadata": {
    "collapsed": false
   },
   "outputs": [
    {
     "data": {
      "image/png": "[encoded data removed]",
      "text/plain": [
       "<matplotlib.figure.Figure at 0x2b7e9e90b650>"
      ]
     },
     "metadata": {},
     "output_type": "display_data"
    },
    {
     "data": {
      "image/png": "[encoded data removed]",
      "text/plain": [
       "<matplotlib.figure.Figure at 0x2b7ea806b690>"
      ]
     },
     "metadata": {},
     "output_type": "display_data"
    },
    {
     "data": {
      "image/png": "[encoded data removed]",
      "text/plain": [
       "<matplotlib.figure.Figure at 0x2b7ea806b650>"
      ]
     },
     "metadata": {},
     "output_type": "display_data"
    },
    {
     "data": {
      "image/png": "[encoded data removed]",
      "text/plain": [
       "<matplotlib.figure.Figure at 0x2b7ea806b610>"
      ]
     },
     "metadata": {},
     "output_type": "display_data"
    }
   ],
   "source": [
    "#Let's look at a histogram of the rpkm values for each sample.\n",
    "#Notice how the vast majority cluster near zero. Let's tranfsorm our data to a log2 scale \n",
    "#for better viewing.\n",
    "sns.set_style(\"whitegrid\")\n",
    "for i, a in zip(rpkm.columns, range(1,5)):\n",
    "    plt.figure(figsize=(20,4))\n",
    "    plt.subplot(1,4,a)\n",
    "    plt.hist(rpkm[i], bins=100)\n",
    "    plt.xlabel(\"RPKM\")\n",
    "    plt.ylabel(\"count\")\n",
    "    plt.title(i)"
   ]
  },
  {
   "cell_type": "code",
   "execution_count": 15,
   "metadata": {
    "collapsed": false
   },
   "outputs": [
    {
     "name": "stdout",
     "output_type": "stream",
     "text": [
      "(11973, 4)\n"
     ]
    },
    {
     "data": {
      "text/html": [
       "<div>\n",
       "<table border=\"1\" class=\"dataframe\">\n",
       "  <thead>\n",
       "    <tr style=\"text-align: right;\">\n",
       "      <th></th>\n",
       "      <th>lin28b_ctrl_rep1.bam</th>\n",
       "      <th>lin28b_ctrl_rep2.bam</th>\n",
       "      <th>lin28b_kd_rep1.bam</th>\n",
       "      <th>lin28b_kd_rep2.bam</th>\n",
       "    </tr>\n",
       "    <tr>\n",
       "      <th>Geneid</th>\n",
       "      <th></th>\n",
       "      <th></th>\n",
       "      <th></th>\n",
       "      <th></th>\n",
       "    </tr>\n",
       "  </thead>\n",
       "  <tbody>\n",
       "    <tr>\n",
       "      <th>ENSG00000227232.4</th>\n",
       "      <td>3.183839</td>\n",
       "      <td>2.955821</td>\n",
       "      <td>3.327404</td>\n",
       "      <td>3.080806</td>\n",
       "    </tr>\n",
       "    <tr>\n",
       "      <th>ENSG00000238009.2</th>\n",
       "      <td>0.626631</td>\n",
       "      <td>0.994717</td>\n",
       "      <td>1.257932</td>\n",
       "      <td>0.966254</td>\n",
       "    </tr>\n",
       "    <tr>\n",
       "      <th>ENSG00000237683.5</th>\n",
       "      <td>4.205119</td>\n",
       "      <td>4.615069</td>\n",
       "      <td>5.160880</td>\n",
       "      <td>5.046702</td>\n",
       "    </tr>\n",
       "    <tr>\n",
       "      <th>ENSG00000239906.1</th>\n",
       "      <td>1.125712</td>\n",
       "      <td>0.897695</td>\n",
       "      <td>2.269670</td>\n",
       "      <td>2.575293</td>\n",
       "    </tr>\n",
       "    <tr>\n",
       "      <th>ENSG00000241860.2</th>\n",
       "      <td>0.997239</td>\n",
       "      <td>-0.068348</td>\n",
       "      <td>0.341595</td>\n",
       "      <td>-0.018187</td>\n",
       "    </tr>\n",
       "  </tbody>\n",
       "</table>\n",
       "</div>"
      ],
      "text/plain": [
       "                   lin28b_ctrl_rep1.bam  lin28b_ctrl_rep2.bam  \\\n",
       "Geneid                                                          \n",
       "ENSG00000227232.4              3.183839              2.955821   \n",
       "ENSG00000238009.2              0.626631              0.994717   \n",
       "ENSG00000237683.5              4.205119              4.615069   \n",
       "ENSG00000239906.1              1.125712              0.897695   \n",
       "ENSG00000241860.2              0.997239             -0.068348   \n",
       "\n",
       "                   lin28b_kd_rep1.bam  lin28b_kd_rep2.bam  \n",
       "Geneid                                                     \n",
       "ENSG00000227232.4            3.327404            3.080806  \n",
       "ENSG00000238009.2            1.257932            0.966254  \n",
       "ENSG00000237683.5            5.160880            5.046702  \n",
       "ENSG00000239906.1            2.269670            2.575293  \n",
       "ENSG00000241860.2            0.341595           -0.018187  "
      ]
     },
     "execution_count": 15,
     "metadata": {},
     "output_type": "execute_result"
    }
   ],
   "source": [
    "#Now let's take the log2RPKM we will look at the size and the first 5 lines of the output dataframe\n",
    "\n",
    "rpkm_log2 = np.log2(rpkm_filtered)\n",
    "print rpkm_log2.shape\n",
    "rpkm_log2.head()"
   ]
  },
  {
   "cell_type": "code",
   "execution_count": 16,
   "metadata": {
    "collapsed": false
   },
   "outputs": [],
   "source": [
    "#First we have to replace negative infinite values with 0 in order to plot a histogram. This is an \n",
    "#artifact of taking the log2 of very small numbers\n",
    "\n",
    "rpkm_log2.replace(to_replace='-inf', value=0, inplace=True)"
   ]
  },
  {
   "cell_type": "code",
   "execution_count": 17,
   "metadata": {
    "collapsed": false
   },
   "outputs": [
    {
     "data": {
      "image/png": "[encoded data removed]",
      "text/plain": [
       "<matplotlib.figure.Figure at 0x2b7ea8cdc8d0>"
      ]
     },
     "metadata": {},
     "output_type": "display_data"
    },
    {
     "data": {
      "image/png": "[encoded data removed]",
      "text/plain": [
       "<matplotlib.figure.Figure at 0x2b7ea85c4350>"
      ]
     },
     "metadata": {},
     "output_type": "display_data"
    },
    {
     "data": {
      "image/png": "[encoded data removed]",
      "text/plain": [
       "<matplotlib.figure.Figure at 0x2b7ea8d72450>"
      ]
     },
     "metadata": {},
     "output_type": "display_data"
    },
    {
     "data": {
      "image/png": "[encoded data removed]",
      "text/plain": [
       "<matplotlib.figure.Figure at 0x2b7ea8d72410>"
      ]
     },
     "metadata": {},
     "output_type": "display_data"
    }
   ],
   "source": [
    "sns.set_style(\"whitegrid\")\n",
    "for i, a in zip(rpkm_log2.columns, range(1,5)):\n",
    "    plt.figure(figsize=(20,4))\n",
    "    plt.subplot(1,4,a)\n",
    "    plt.hist(rpkm_log2[i], bins=100)\n",
    "    plt.xlabel(\"log2 RPKM\")\n",
    "    plt.ylabel(\"count\")\n",
    "    plt.title(i)"
   ]
  },
  {
   "cell_type": "code",
   "execution_count": 18,
   "metadata": {
    "collapsed": false
   },
   "outputs": [
    {
     "name": "stdout",
     "output_type": "stream",
     "text": [
      "(11847, 4)\n"
     ]
    },
    {
     "data": {
      "text/html": [
       "<div>\n",
       "<table border=\"1\" class=\"dataframe\">\n",
       "  <thead>\n",
       "    <tr style=\"text-align: right;\">\n",
       "      <th></th>\n",
       "      <th>lin28b_ctrl_rep1.bam</th>\n",
       "      <th>lin28b_ctrl_rep2.bam</th>\n",
       "      <th>lin28b_kd_rep1.bam</th>\n",
       "      <th>lin28b_kd_rep2.bam</th>\n",
       "    </tr>\n",
       "    <tr>\n",
       "      <th>Geneid</th>\n",
       "      <th></th>\n",
       "      <th></th>\n",
       "      <th></th>\n",
       "      <th></th>\n",
       "    </tr>\n",
       "  </thead>\n",
       "  <tbody>\n",
       "    <tr>\n",
       "      <th>ENSG00000227232.4</th>\n",
       "      <td>3.183839</td>\n",
       "      <td>2.955821</td>\n",
       "      <td>3.327404</td>\n",
       "      <td>3.080806</td>\n",
       "    </tr>\n",
       "    <tr>\n",
       "      <th>ENSG00000238009.2</th>\n",
       "      <td>0.626631</td>\n",
       "      <td>0.994717</td>\n",
       "      <td>1.257932</td>\n",
       "      <td>0.966254</td>\n",
       "    </tr>\n",
       "    <tr>\n",
       "      <th>ENSG00000237683.5</th>\n",
       "      <td>4.205119</td>\n",
       "      <td>4.615069</td>\n",
       "      <td>5.160880</td>\n",
       "      <td>5.046702</td>\n",
       "    </tr>\n",
       "    <tr>\n",
       "      <th>ENSG00000239906.1</th>\n",
       "      <td>1.125712</td>\n",
       "      <td>0.897695</td>\n",
       "      <td>2.269670</td>\n",
       "      <td>2.575293</td>\n",
       "    </tr>\n",
       "    <tr>\n",
       "      <th>ENSG00000241860.2</th>\n",
       "      <td>0.997239</td>\n",
       "      <td>-0.068348</td>\n",
       "      <td>0.341595</td>\n",
       "      <td>-0.018187</td>\n",
       "    </tr>\n",
       "  </tbody>\n",
       "</table>\n",
       "</div>"
      ],
      "text/plain": [
       "                   lin28b_ctrl_rep1.bam  lin28b_ctrl_rep2.bam  \\\n",
       "Geneid                                                          \n",
       "ENSG00000227232.4              3.183839              2.955821   \n",
       "ENSG00000238009.2              0.626631              0.994717   \n",
       "ENSG00000237683.5              4.205119              4.615069   \n",
       "ENSG00000239906.1              1.125712              0.897695   \n",
       "ENSG00000241860.2              0.997239             -0.068348   \n",
       "\n",
       "                   lin28b_kd_rep1.bam  lin28b_kd_rep2.bam  \n",
       "Geneid                                                     \n",
       "ENSG00000227232.4            3.327404            3.080806  \n",
       "ENSG00000238009.2            1.257932            0.966254  \n",
       "ENSG00000237683.5            5.160880            5.046702  \n",
       "ENSG00000239906.1            2.269670            2.575293  \n",
       "ENSG00000241860.2            0.341595           -0.018187  "
      ]
     },
     "execution_count": 18,
     "metadata": {},
     "output_type": "execute_result"
    }
   ],
   "source": [
    "#Let's filter again to remove rows where the average log2RPKM < 0\n",
    "\n",
    "rpkm_log2_filtered = rpkm_log2.loc[rpkm_log2.mean(axis=1) > 0]\n",
    "print rpkm_log2_filtered.shape\n",
    "rpkm_log2_filtered.head()"
   ]
  },
  {
   "cell_type": "code",
   "execution_count": 19,
   "metadata": {
    "collapsed": false
   },
   "outputs": [
    {
     "data": {
      "image/png": "[encoded data removed]",
      "text/plain": [
       "<matplotlib.figure.Figure at 0x2b7ea966d890>"
      ]
     },
     "metadata": {},
     "output_type": "display_data"
    },
    {
     "data": {
      "image/png": "[encoded data removed]",
      "text/plain": [
       "<matplotlib.figure.Figure at 0x2b7ea92aea50>"
      ]
     },
     "metadata": {},
     "output_type": "display_data"
    },
    {
     "data": {
      "image/png": "[encoded data removed]",
      "text/plain": [
       "<matplotlib.figure.Figure at 0x2b7ea879ec90>"
      ]
     },
     "metadata": {},
     "output_type": "display_data"
    },
    {
     "data": {
      "image/png": "[encoded data removed]",
      "text/plain": [
       "<matplotlib.figure.Figure at 0x2b7ea879e610>"
      ]
     },
     "metadata": {},
     "output_type": "display_data"
    }
   ],
   "source": [
    "#Now we will makehistograms of the log2 transformed values of rpkm\n",
    "\n",
    "sns.set_style(\"whitegrid\")\n",
    "for i, a in zip(rpkm_log2_filtered.columns, range(1,5)):\n",
    "    plt.figure(figsize=(20,4))\n",
    "    plt.subplot(1,4,a)\n",
    "    plt.hist(rpkm_log2_filtered[i], bins=100)\n",
    "    plt.xlabel(\"log2 RPKM\")\n",
    "    plt.ylabel(\"count\")\n",
    "    plt.title(i)"
   ]
  },
  {
   "cell_type": "code",
   "execution_count": 20,
   "metadata": {
    "collapsed": true
   },
   "outputs": [],
   "source": [
    "#Now we will save the file. Note that it will go to the same location we defined as \n",
    "#directory above and it will be given the filename rpkm_log2_filtered.csv\n",
    "rpkm_log2_filtered.to_csv(directory+\"rpkm_log2_filtered.csv\")"
   ]
  },
  {
   "cell_type": "code",
   "execution_count": 23,
   "metadata": {
    "collapsed": false
   },
   "outputs": [
    {
     "name": "stderr",
     "output_type": "stream",
     "text": [
      "/home/ecwheele/anaconda2/lib/python2.7/site-packages/matplotlib-1.4.2-py2.7-linux-x86_64.egg/matplotlib/collections.py:571: FutureWarning: elementwise comparison failed; returning scalar instead, but in the future will perform elementwise comparison\n",
      "  if self._edgecolors == str('face'):\n"
     ]
    },
    {
     "data": {
      "text/plain": [
       "<seaborn.matrix.ClusterGrid at 0x2b7ea8645d50>"
      ]
     },
     "execution_count": 23,
     "metadata": {},
     "output_type": "execute_result"
    },
    {
     "data": {
      "image/png": "[encoded data removed]",
      "text/plain": [
       "<matplotlib.figure.Figure at 0x2b7ea8f48110>"
      ]
     },
     "metadata": {},
     "output_type": "display_data"
    }
   ],
   "source": [
    "#This will make a clustermap based on the rpkm values we calculated clustering based on spearman correlation\n",
    "\n",
    "sns.clustermap(rpkm.corr(method='spearman'))"
   ]
  },
  {
   "cell_type": "code",
   "execution_count": 24,
   "metadata": {
    "collapsed": false
   },
   "outputs": [
    {
     "data": {
      "text/plain": [
       "<seaborn.matrix.ClusterGrid at 0x2b7ea8f56510>"
      ]
     },
     "execution_count": 24,
     "metadata": {},
     "output_type": "execute_result"
    },
    {
     "data": {
      "image/png": "[encoded data removed]",
      "text/plain": [
       "<matplotlib.figure.Figure at 0x2b7ea870b390>"
      ]
     },
     "metadata": {},
     "output_type": "display_data"
    }
   ],
   "source": [
    "#How does the clustering look different when we only include information from the filtered dataframe?\n",
    "\n",
    "sns.clustermap(rpkm_filtered.corr(method='spearman'))"
   ]
  },
  {
   "cell_type": "code",
   "execution_count": null,
   "metadata": {
    "collapsed": true
   },
   "outputs": [],
   "source": []
  }
 ],
 "metadata": {
  "kernelspec": {
   "display_name": "Python 2",
   "language": "python",
   "name": "python2"
  },
  "language_info": {
   "codemirror_mode": {
    "name": "ipython",
    "version": 2
   },
   "file_extension": ".py",
   "mimetype": "text/x-python",
   "name": "python",
   "nbconvert_exporter": "python",
   "pygments_lexer": "ipython2",
   "version": "2.7.12"
  }
 },
 "nbformat": 4,
 "nbformat_minor": 0
}
