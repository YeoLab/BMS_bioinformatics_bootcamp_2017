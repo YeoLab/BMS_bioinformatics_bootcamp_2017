{
 "cells": [
  {
   "cell_type": "markdown",
   "metadata": {},
   "source": [
    "# Installing and using GenePattern Notebook on TSCC\n",
    "\n",
    "GenePattern Notebook provides hundreds of analytical tools for the analysis of gene expression (RNA-seq and microarray), sequence variation and copy number, proteomic, flow cytometry, and network analysis. These tools are all available through the Jupyter interface with no programming experience required.\n",
    "\n",
    "To install and begin using [GenePattern Notebook](http://genepattern-notebook.org/), perform the following steps."
   ]
  },
  {
   "cell_type": "markdown",
   "metadata": {},
   "source": [
    "** 1) Copy and paste the following commands to the TSCC command line.** These will download and install the GenePattern Notebook extension for Jupyter.\n",
    "<pre><code>\n",
    "# Install GenePattern Notebook\n",
    "pip install genepattern-notebook\n",
    "\n",
    "# Enable the GenePattern Notebook extensions in Jupyter\n",
    "jupyter nbextension install --user --py nbtools\n",
    "jupyter nbextension install --user --py genepattern\n",
    "jupyter nbextension enable --user --py nbtools\n",
    "jupyter nbextension enable --user --py genepattern\n",
    "</code></pre>"
   ]
  },
  {
   "cell_type": "markdown",
   "metadata": {},
   "source": [
    "**2) In Jupyter, open a new notebook. If GenePattern Notebook installed correctly, you should now see a <span style=\"border:solid gray 1px; padding:2px;\"><span class=\"fa-th fa\"></span> Tools</span> button in the toolbar.**\n",
    "\n",
    "**3) Clicking this button will display a list of the available GenePattern analysis tools. Right now, however, the only tool in the list will be <i>GenePattern Login</i>. Click on it to add a GenePattern login cell to your notebook.**\n",
    "\n",
    "<img src=\"http://genepattern-notebook.org/wp-content/uploads/2017/02/content_screen_shot_2015-08-24_at_10_27_12.png\" />"
   ]
  },
  {
   "cell_type": "markdown",
   "metadata": {},
   "source": [
    "**4) If you don't already have a GenePattern account, click the <i>Register an Account</i> button on the login and then fill out the displayed form. Once you have an account, go back to your Jupyter notebook and log in with your GenePattern username and password.**\n",
    "\n",
    "**5) Once you're logged in, if you click the <span style=\"border:solid gray 1px; padding:2px;\"><span class=\"fa-th fa\"></span> Tools</span> button you will see the full list, containing hundreds of available GenePattern analysis tools. You can browse or search through these tools to find the analysis you want to perform. Clicking on an analysis will insert a new analysis cell into your notebook.**\n",
    "\n",
    "<img src=\"http://genepattern-notebook.org/wp-content/uploads/2017/02/content_screen_shot_2015-08-24_at_10_32_11.png\" />"
   ]
  },
  {
   "cell_type": "markdown",
   "metadata": {},
   "source": [
    "More information, including tutorials and examples, are available on the [GenePattern Notebook](http://genepattern-notebook.org/features/) website."
   ]
  }
 ],
 "metadata": {
  "kernelspec": {
   "display_name": "Python 2",
   "language": "python",
   "name": "python2"
  },
  "language_info": {
   "codemirror_mode": {
    "name": "ipython",
    "version": 2
   },
   "file_extension": ".py",
   "mimetype": "text/x-python",
   "name": "python",
   "nbconvert_exporter": "python",
   "pygments_lexer": "ipython2",
   "version": "2.7.10"
  }
 },
 "nbformat": 4,
 "nbformat_minor": 2
}
