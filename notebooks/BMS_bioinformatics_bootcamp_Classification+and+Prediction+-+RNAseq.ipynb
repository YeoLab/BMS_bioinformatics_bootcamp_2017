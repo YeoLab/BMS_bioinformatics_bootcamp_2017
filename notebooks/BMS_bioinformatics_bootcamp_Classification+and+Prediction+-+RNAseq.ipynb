{
 "cells": [
  {
   "cell_type": "markdown",
   "metadata": {},
   "source": [
    "# Classification and Prediction in GenePattern Notebook\n",
    "\n",
    "This notebook will show you how to use k-Nearest Neighbors (kNN) to build a predictor and assess its accuracy in cross-validation."
   ]
  },
  {
   "cell_type": "markdown",
   "metadata": {},
   "source": [
    "### K-nearest-neighbors (KNN)\n",
    "KNN classifies an unknown sample by assigning it the phenotype label most frequently represented among the k nearest known samples (Golub and Slonim et al., 1999). \n",
    "\n",
    "Additionally, you can select a weighting factor for the 'votes' of the nearest neighbors. For example, one might weight the votes by the reciprocal of the distance between neighbors to give closer neighors a greater vote."
   ]
  },
  {
   "cell_type": "markdown",
   "metadata": {},
   "source": [
    "<h2>1. Log in to GenePattern</h2>\n",
    "\n",
    "<ul>\n",
    "\t<li>Select Broad Institute as the server</li>\n",
    "\t<li>Enter your username and password.</li>\n",
    "\t<li>Click <em>Login to GenePattern</em>.</li>\n",
    "\t<li>When you are logged in, you can click the - button in the upper right hand corner to collapse the cell.</li>\n",
    "\t<li>Alternatively, if you are prompted to Login as your username, just click that button and give it a couple seconds to authenticate.</li>\n",
    "</ul>\n"
   ]
  },
  {
   "cell_type": "code",
   "execution_count": 15,
   "metadata": {
    "genepattern": {
     "server": "https://genepattern.broadinstitute.org/gp",
     "type": "auth"
    }
   },
   "outputs": [
    {
     "data": {
      "application/vnd.jupyter.widget-view+json": {
       "model_id": "c0d167c65227485eb14a02842ec51256"
      }
     },
     "metadata": {},
     "output_type": "display_data"
    }
   ],
   "source": [
    "# Requires GenePattern Notebook: pip install genepattern-notebook\n",
    "import gp\n",
    "import genepattern\n",
    "\n",
    "# Username and password removed for security reasons.\n",
    "genepattern.GPAuthWidget(genepattern.register_session(\"https://genepattern.broadinstitute.org/gp\", \"\", \"\"))"
   ]
  },
  {
   "cell_type": "markdown",
   "metadata": {},
   "source": [
    "\n",
    "<div class=\"alert alert-info\">\n",
    "<h3>Instructions</h3>\n",
    "<li>For the <strong><em>input.file</em></strong> parameter, click and drag <a href=\"counts_for_deseq2_genes.gct\" target=\"_blank\">counts_for_deseq2_genes.gct</a> into the <em>&quot;Enter Path or URL&quot; </em>text box</li>         <li>For the <strong><em>cls.file</em></strong> parameter, click and drag <a href=\"FTO_vs_NT.cls\"target=\"_blank\">FTO_vs_NT.cls</a> into the <em>&quot;Enter Path or URL&quot; </em>text box</li> <li>Click *Run*.</li>\n",
    "</ol>\n",
    "</p>\n",
    "</div>"
   ]
  },
  {
   "cell_type": "code",
   "execution_count": 18,
   "metadata": {
    "genepattern": {
     "type": "task"
    }
   },
   "outputs": [
    {
     "data": {
      "application/vnd.jupyter.widget-view+json": {
       "model_id": "5132d0402ae041e3b4b5378d1b692b0e"
      }
     },
     "metadata": {},
     "output_type": "display_data"
    }
   ],
   "source": [
    "preprocessreadcounts_task = gp.GPTask(genepattern.get_session(0), 'urn:lsid:broad.mit.edu:cancer.software.genepattern.module.analysis:00355')\n",
    "preprocessreadcounts_job_spec = preprocessreadcounts_task.make_job_spec()\n",
    "preprocessreadcounts_job_spec.set_parameter(\"input.file\", \"\")\n",
    "preprocessreadcounts_job_spec.set_parameter(\"cls.file\", \"\")\n",
    "preprocessreadcounts_job_spec.set_parameter(\"output.file\", \"<input.file_basename>.preprocessed.gct\")\n",
    "preprocessreadcounts_job_spec.set_parameter(\"expression.value.filter.threshold\", \"1\")\n",
    "genepattern.GPTaskWidget(preprocessreadcounts_task)"
   ]
  },
  {
   "cell_type": "markdown",
   "metadata": {},
   "source": [
    "## 3. Run k-Nearest Neighbors Cross Validation\n",
    "In the result cell for the PreprocessReadCounts job, you will see 2 files. \n",
    "<div class=\"alert alert-info\">Click the \"i\" icon next to the MergedHTSeqCounts_GSE52778.preprocessed.gct file.</div>\n",
    "You will see a dialog box with several options.\n",
    "\n",
    "<div class=\"alert alert-info\">\n",
    "- Select \"Send to existing GenePattern Cell\"\n",
    "- Choose \"KNNXvalidation\"\n",
    "- Click Run."
   ]
  },
  {
   "cell_type": "code",
   "execution_count": 16,
   "metadata": {
    "genepattern": {
     "type": "task"
    }
   },
   "outputs": [
    {
     "data": {
      "application/vnd.jupyter.widget-view+json": {
       "model_id": "d27578fced39483a8251a1b23d167f28"
      }
     },
     "metadata": {},
     "output_type": "display_data"
    }
   ],
   "source": [
    "knnxvalidation_task = gp.GPTask(genepattern.get_session(0), 'urn:lsid:broad.mit.edu:cancer.software.genepattern.module.analysis:00013')\n",
    "knnxvalidation_job_spec = knnxvalidation_task.make_job_spec()\n",
    "knnxvalidation_job_spec.set_parameter(\"data.filename\", \"\")\n",
    "knnxvalidation_job_spec.set_parameter(\"class.filename\", \"\")\n",
    "knnxvalidation_job_spec.set_parameter(\"num.features\", \"10\")\n",
    "knnxvalidation_job_spec.set_parameter(\"feature.selection.statistic\", \"0\")\n",
    "knnxvalidation_job_spec.set_parameter(\"min.std\", \"\")\n",
    "knnxvalidation_job_spec.set_parameter(\"num.neighbors\", \"1\")\n",
    "knnxvalidation_job_spec.set_parameter(\"weighting.type\", \"1\")\n",
    "knnxvalidation_job_spec.set_parameter(\"distance.measure\", \"1\")\n",
    "knnxvalidation_job_spec.set_parameter(\"pred.results.file\", \"<data.filename_basename>.pred.odf\")\n",
    "knnxvalidation_job_spec.set_parameter(\"feature.summary.file\", \"<data.filename_basename>.feat.odf\")\n",
    "genepattern.GPTaskWidget(knnxvalidation_task)"
   ]
  },
  {
   "cell_type": "markdown",
   "metadata": {},
   "source": [
    "## 4. View prediction results\n",
    "\n",
    "### a. Read the results into a dataframe\n"
   ]
  },
  {
   "cell_type": "markdown",
   "metadata": {},
   "source": [
    "<div class=\"alert alert-info\">\n",
    "1. Select the cell containing the job result by clicking anywhere in it.\n",
    "2. Click on the i icon next to the result file that is in odf format\n",
    "3. Select \"Send to DataFrame\"\n",
    "4. You will see a new cell that contains 3 lines of code starting with `from gp.data import ODF`\n",
    "5. Execute this cell\n",
    "6. You will see the prediction results as a table."
   ]
  },
  {
   "cell_type": "markdown",
   "metadata": {},
   "source": [
    "### b. View prediction results as a bar chart\n",
    "\n",
    "- Execute the following cell. \n",
    "\n",
    "You will see a bar graph of class predictions.\n",
    "- Direction of bars indicate which class was predicted\n",
    "- Length of bars indicates confidence level\n",
    "- Blue = true prediction\n",
    "- Red = false prediction"
   ]
  },
  {
   "cell_type": "code",
   "execution_count": 9,
   "metadata": {
    "collapsed": true
   },
   "outputs": [
    {
     "data": {
      "image/png": "[encoded data removed]",
      "text/plain": [
       "<matplotlib.figure.Figure at 0x7f7f0abaa278>"
      ]
     },
     "metadata": {},
     "output_type": "display_data"
    }
   ],
   "source": [
    "%matplotlib inline\n",
    "\n",
    "import matplotlib.pyplot as plt\n",
    "import pandas as pd\n",
    "import numpy as np\n",
    "\n",
    "# _ is a reference to the result of the last executed cell\n",
    "df = _\n",
    "\n",
    "result_bars = list()\n",
    "bar_colors = list()\n",
    "tick_labels = list()\n",
    "data_rows = df.row_count()\n",
    "\n",
    "class_labels = list((set(df.dataframe[\"True Class\"])))\n",
    "\n",
    "confidence = pd.to_numeric(df.dataframe[\"Confidence\"])\n",
    "\n",
    "for i in range(0, data_rows):\n",
    "    tick_labels.append(df.dataframe[\"Samples\"][i])\n",
    "    if df.dataframe[\"Predicted Class\"][i] == class_labels[1]:\n",
    "        result_bars.append(confidence[i])\n",
    "    else:\n",
    "        result_bars.append(-confidence[i])\n",
    "        \n",
    "    if df.dataframe[\"Correct?\"][i]:\n",
    "        bar_colors.append('b')\n",
    "    else:\n",
    "        bar_colors.append('r')\n",
    "\n",
    "ind = np.arange(data_rows)  # the x locations for the groups\n",
    "width = 0.8\n",
    "if hasattr(plt, 'style'):\n",
    "    plt.style.use('ggplot')\n",
    "fig = plt.figure(figsize=(16,12))\n",
    "ax = fig.add_subplot(111)\n",
    "\n",
    "# Set figure and axis titles\n",
    "plt.title(class_labels[0]+\" versus \"+class_labels[1]+\" Prediction Results\")\n",
    "plt.xlabel(\"Sample Name\")\n",
    "plt.ylabel(\"Confidence value\")\n",
    "plt.axis([0,data_rows,-1.25,1.25])\n",
    "plt.text(0.2, -1.15, \"Predicted \" + class_labels[0])\n",
    "plt.text(data_rows, 1.05, \"Predicted \" + class_labels[1], horizontalalignment='right')\n",
    "plt.grid(True)\n",
    "\n",
    "# Plot bar chart of predicted classes\n",
    "rects1 = ax.bar(ind, result_bars, color=bar_colors, width=width)\n",
    "tick_locs, tick_xlabels = plt.xticks()\n",
    "plt.setp(tick_xlabels, rotation=50)\n",
    "plt.show()"
   ]
  },
  {
   "cell_type": "markdown",
   "metadata": {},
   "source": [
    "## References\n",
    "\n",
    "Breiman, L., Friedman, J. H., Olshen, R. A., & Stone, C. J. 1984. [Classification and regression trees](https://www.amazon.com/Classification-Regression-Wadsworth-Statistics-Probability/dp/0412048418?ie=UTF8&*Version*=1&*entries*=0). Wadsworth & Brooks/Cole Advanced Books & Software, Monterey, CA.\n",
    "\n",
    "Golub, T.R., Slonim, D.K., Tamayo, P., Huard, C., Gaasenbeek, M., Mesirov, J.P., Coller, H., Loh, M., Downing, J.R., Caligiuri, M.A., Bloomfield, C.D., and Lander, E.S. 1999. Molecular Classification of Cancer: Class Discovery and Class Prediction by Gene Expression. [Science 286:531-537](http://science.sciencemag.org/content/286/5439/531.long).\n",
    "\n",
    "Lu, J., Getz, G., Miska, E.A., Alvarez-Saavedra, E., Lamb, J., Peck, D., Sweet-Cordero, A., Ebert, B.L., Mak, R.H., Ferrando, A.A, Downing, J.R., Jacks, T., Horvitz, H.R., Golub, T.R. 2005. MicroRNA expression profiles classify human cancers. [Nature 435:834-838](http://www.nature.com/nature/journal/v435/n7043/full/nature03702.html).\n",
    "\n",
    "Rifkin, R., Mukherjee, S., Tamayo, P., Ramaswamy, S., Yeang, C-H, Angelo, M., Reich, M., Poggio, T., Lander, E.S., Golub, T.R., Mesirov, J.P. 2003. An Analytical Method for Multiclass Molecular Cancer Classification. [SIAM Review 45(4):706-723](http://epubs.siam.org/doi/abs/10.1137/S0036144502411986).\n",
    "\n",
    "Slonim, D.K., Tamayo, P., Mesirov, J.P., Golub, T.R., Lander, E.S. 2000. Class prediction and discovery using gene expression data. In [Proceedings of the Fourth Annual International Conference on Computational Molecular Biology (RECOMB)](http://dl.acm.org/citation.cfm?id=332564). ACM Press, New York. pp. 263-272."
   ]
  }
 ],
 "metadata": {
  "anaconda-cloud": {},
  "kernelspec": {
   "display_name": "Python 3.6",
   "language": "python",
   "name": "python3.6"
  },
  "language_info": {
   "codemirror_mode": {
    "name": "ipython",
    "version": 3
   },
   "file_extension": ".py",
   "mimetype": "text/x-python",
   "name": "python",
   "nbconvert_exporter": "python",
   "pygments_lexer": "ipython3",
   "version": "3.6.1"
  },
  "widgets": {
   "state": {
    "4f07490870de4bc288ac9aa5a97520c1": {
     "views": [
      {
       "cell_index": 5
      }
     ]
    },
    "5095e18fe6bc4af99f4a77dec05a3e4d": {
     "views": [
      {
       "cell_index": 3
      }
     ]
    },
    "f8b01462103f45fea177a69b9e2390f7": {
     "views": [
      {
       "cell_index": 7
      }
     ]
    }
   },
   "version": "1.2.0"
  }
 },
 "nbformat": 4,
 "nbformat_minor": 1
}
