{
 "cells": [
  {
   "cell_type": "markdown",
   "metadata": {},
   "source": [
    "The files on GEO are sra files, not fastq. So we need sra-tools to convert those files to fastq. Install that with conda. (Google \"is sra-tools available with bioconda. You will see that it is. So let's use the bioconda channel to install it).\n",
    "\n",
    "    conda install -c bioconda sra-tools\n",
    "    \n",
    "Now we will use fastq-dump to get the fastq files from .sra files. For paired end data, add the flag --split-files. If the data is single end, this additional flag won't do anything. This command may take a few minutes to finish. Be patient! Example:\n",
    "\n",
    "    fastq-dump --split-files SRR2046996.sra \n",
    "    \n",
    "Zip that output file to save space. Again this might take a few minutes:\n",
    "\n",
    "    gzip SRR2046996_1.fastq\n",
    "    \n",
    "And let's give it a meaningful name. \n",
    "\n",
    "    mv SRR2046996_1.fastq.gz NOD2_MDP_rep1_R1.fastq.gz\n",
    "    \n",
    "If you don't want to do all this on the head node and wait for it to finish, write a script for all your samples and submit it as a job!\n"
   ]
  },
  {
   "cell_type": "code",
   "execution_count": null,
   "metadata": {
    "collapsed": true
   },
   "outputs": [],
   "source": []
  }
 ],
 "metadata": {
  "kernelspec": {
   "display_name": "python2-base",
   "language": "python",
   "name": "python2"
  },
  "language_info": {
   "codemirror_mode": {
    "name": "ipython",
    "version": 2
   },
   "file_extension": ".py",
   "mimetype": "text/x-python",
   "name": "python",
   "nbconvert_exporter": "python",
   "pygments_lexer": "ipython2",
   "version": "2.7.12"
  }
 },
 "nbformat": 4,
 "nbformat_minor": 0
}
