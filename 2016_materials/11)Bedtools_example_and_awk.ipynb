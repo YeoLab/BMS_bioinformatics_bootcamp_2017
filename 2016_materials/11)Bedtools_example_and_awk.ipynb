{
 "cells": [
  {
   "cell_type": "markdown",
   "metadata": {},
   "source": [
    "# Here we will download transcription factor binding sites and overlap them with promoters of genes"
   ]
  },
  {
   "cell_type": "markdown",
   "metadata": {},
   "source": [
    "Take a look at the bedtools documentation\n",
    "\n",
    "\n",
    "We need a file of transcription factor binding sites. We will get one from UCSC:\n",
    "\n",
    "Go to the Table [Browser](https://genome.ucsc.edu/cgi-bin/hgTables)\n",
    "1. Choose \"clade: Mammal,\" \"genome: Human,\" and \"assembly: Feb. 2009 (GRCh37/hg19)\"\n",
    "2. Choose \"group: Regulation\", \"track: Txn Fac ChIP V2\"\n",
    "3. Use the default table (there are no others anyway)\n",
    "4. Put \"chr22\" for the Region\n",
    "5. Choose \"output format: BED - browser extensible data\".\n",
    "6. Save as \"tf.bed\"\n",
    "7. Click \"get output\".\n",
    "8. Do one bed record per gene (They really mean per \"item\", not a whole gene)\n",
    "9. Click \"get BED\"\n",
    "10. Use scp to move this file to TSCC. Think about where you want to put it. Maybe make a new folder in your projects directory called nfkb_binding\n",
    "\n",
    "[This](https://genome.ucsc.edu/FAQ/FAQformat.html) is a good reference point for standar file formats. Check out  bed format."
   ]
  },
  {
   "cell_type": "code",
   "execution_count": 15,
   "metadata": {
    "collapsed": false
   },
   "outputs": [
    {
     "name": "stdout",
     "output_type": "stream",
     "text": [
      "chr22\t16166497\t16166741\tCTCF\t186\t.\t16166497\t16166741\t0\t1\t244,\t0,\n",
      "chr22\t16201947\t16202317\tCTCF\t603\t.\t16201947\t16202317\t0\t1\t370,\t0,\n",
      "chr22\t16201988\t16202252\tYY1_(C-20)\t63\t.\t16201988\t16202252\t0\t1\t264,\t0,\n",
      "chr22\t16202021\t16202231\tRad21\t92\t.\t16202021\t16202231\t0\t1\t210,\t0,\n",
      "chr22\t16202128\t16202242\tE2F6_(H-50)\t269\t.\t16202128\t16202242\t0\t1\t114,\t0,\n",
      "chr22\t16205233\t16205683\tSETDB1\t356\t.\t16205233\t16205683\t0\t1\t450,\t0,\n",
      "chr22\t16325696\t16325900\tNRSF\t36\t.\t16325696\t16325900\t0\t1\t204,\t0,\n",
      "chr22\t16560670\t16560910\tMafK_(ab50322)\t102\t.\t16560670\t16560910\t0\t1\t240,\t0,\n",
      "chr22\t16872258\t16872628\tCTCF\t279\t.\t16872258\t16872628\t0\t1\t370,\t0,\n",
      "chr22\t16872319\t16872563\tSMC3_(ab9263)\t309\t.\t16872319\t16872563\t0\t1\t244,\t0,\n"
     ]
    }
   ],
   "source": [
    "%%bash\n",
    "\n",
    "cd ~/test/\n",
    "\n",
    "head ~/test/tf_binding.bed"
   ]
  },
  {
   "cell_type": "markdown",
   "metadata": {},
   "source": [
    "extract the rows that contain data on nkfb"
   ]
  },
  {
   "cell_type": "code",
   "execution_count": 7,
   "metadata": {
    "collapsed": false
   },
   "outputs": [
    {
     "name": "stdout",
     "output_type": "stream",
     "text": [
      "702 nfkb_binding.bed\n"
     ]
    }
   ],
   "source": [
    "%%bash \n",
    "\n",
    "grep 'NFKB' ~/test/tf_binding.bed > nfkb_binding.bed\n",
    "\n",
    "#count the number of lines in the file with wc -l\n",
    "wc -l nfkb_binding.bed"
   ]
  },
  {
   "cell_type": "markdown",
   "metadata": {},
   "source": [
    "make an annotation file that only contains chromosome 22 - this is for space and time purposes"
   ]
  },
  {
   "cell_type": "code",
   "execution_count": 12,
   "metadata": {
    "collapsed": false
   },
   "outputs": [
    {
     "name": "stdout",
     "output_type": "stream",
     "text": [
      "chr22\tHAVANA\tgene\t16062157\t16063236\t.\t+\t.\tgene_id \"ENSG00000233866.1\"; transcript_id \"ENSG00000233866.1\"; gene_type \"lincRNA\"; gene_status \"KNOWN\"; gene_name \"LA16c-4G1.3\"; transcript_type \"lincRNA\"; transcript_status \"KNOWN\"; transcript_name \"LA16c-4G1.3\"; level 2; havana_gene \"OTTHUMG00000140195.1\";\n",
      "chr22\tHAVANA\ttranscript\t16062157\t16063236\t.\t+\t.\tgene_id \"ENSG00000233866.1\"; transcript_id \"ENST00000424770.1\"; gene_type \"lincRNA\"; gene_status \"KNOWN\"; gene_name \"LA16c-4G1.3\"; transcript_type \"lincRNA\"; transcript_status \"KNOWN\"; transcript_name \"LA16c-4G1.3-001\"; level 2; tag \"basic\"; havana_gene \"OTTHUMG00000140195.1\"; havana_transcript \"OTTHUMT00000276574.1\";\n",
      "chr22\tHAVANA\texon\t16062157\t16062316\t.\t+\t.\tgene_id \"ENSG00000233866.1\"; transcript_id \"ENST00000424770.1\"; gene_type \"lincRNA\"; gene_status \"KNOWN\"; gene_name \"LA16c-4G1.3\"; transcript_type \"lincRNA\"; transcript_status \"KNOWN\"; transcript_name \"LA16c-4G1.3-001\"; exon_number 1; exon_id \"ENSE00001660730.1\"; level 2; tag \"basic\"; havana_gene \"OTTHUMG00000140195.1\"; havana_transcript \"OTTHUMT00000276574.1\";\n",
      "chr22\tHAVANA\texon\t16062811\t16063236\t.\t+\t.\tgene_id \"ENSG00000233866.1\"; transcript_id \"ENST00000424770.1\"; gene_type \"lincRNA\"; gene_status \"KNOWN\"; gene_name \"LA16c-4G1.3\"; transcript_type \"lincRNA\"; transcript_status \"KNOWN\"; transcript_name \"LA16c-4G1.3-001\"; exon_number 2; exon_id \"ENSE00001798223.1\"; level 2; tag \"basic\"; havana_gene \"OTTHUMG00000140195.1\"; havana_transcript \"OTTHUMT00000276574.1\";\n",
      "chr22\tHAVANA\tgene\t16076052\t16076172\t.\t-\t.\tgene_id \"ENSG00000229286.1\"; transcript_id \"ENSG00000229286.1\"; gene_type \"pseudogene\"; gene_status \"KNOWN\"; gene_name \"LA16c-4G1.4\"; transcript_type \"pseudogene\"; transcript_status \"KNOWN\"; transcript_name \"LA16c-4G1.4\"; level 2; havana_gene \"OTTHUMG00000140193.1\";\n",
      "chr22\tHAVANA\ttranscript\t16076052\t16076172\t.\t-\t.\tgene_id \"ENSG00000229286.1\"; transcript_id \"ENST00000448070.1\"; gene_type \"pseudogene\"; gene_status \"KNOWN\"; gene_name \"LA16c-4G1.4\"; transcript_type \"unprocessed_pseudogene\"; transcript_status \"KNOWN\"; transcript_name \"LA16c-4G1.4-001\"; level 2; ont \"PGO:0000005\"; havana_gene \"OTTHUMG00000140193.1\"; havana_transcript \"OTTHUMT00000276571.1\";\n",
      "chr22\tHAVANA\texon\t16076052\t16076172\t.\t-\t.\tgene_id \"ENSG00000229286.1\"; transcript_id \"ENST00000448070.1\"; gene_type \"pseudogene\"; gene_status \"KNOWN\"; gene_name \"LA16c-4G1.4\"; transcript_type \"unprocessed_pseudogene\"; transcript_status \"KNOWN\"; transcript_name \"LA16c-4G1.4-001\"; exon_number 1; exon_id \"ENSE00001645102.1\"; level 2; ont \"PGO:0000005\"; havana_gene \"OTTHUMG00000140193.1\"; havana_transcript \"OTTHUMT00000276571.1\";\n",
      "chr22\tHAVANA\tgene\t16084249\t16084826\t.\t-\t.\tgene_id \"ENSG00000235265.1\"; transcript_id \"ENSG00000235265.1\"; gene_type \"pseudogene\"; gene_status \"KNOWN\"; gene_name \"LA16c-4G1.5\"; transcript_type \"pseudogene\"; transcript_status \"KNOWN\"; transcript_name \"LA16c-4G1.5\"; level 2; havana_gene \"OTTHUMG00000140197.1\";\n",
      "chr22\tHAVANA\ttranscript\t16084249\t16084826\t.\t-\t.\tgene_id \"ENSG00000235265.1\"; transcript_id \"ENST00000413156.1\"; gene_type \"pseudogene\"; gene_status \"KNOWN\"; gene_name \"LA16c-4G1.5\"; transcript_type \"unprocessed_pseudogene\"; transcript_status \"KNOWN\"; transcript_name \"LA16c-4G1.5-001\"; level 2; ont \"PGO:0000005\"; havana_gene \"OTTHUMG00000140197.1\"; havana_transcript \"OTTHUMT00000276576.1\";\n",
      "chr22\tHAVANA\texon\t16084249\t16084826\t.\t-\t.\tgene_id \"ENSG00000235265.1\"; transcript_id \"ENST00000413156.1\"; gene_type \"pseudogene\"; gene_status \"KNOWN\"; gene_name \"LA16c-4G1.5\"; transcript_type \"unprocessed_pseudogene\"; transcript_status \"KNOWN\"; transcript_name \"LA16c-4G1.5-001\"; exon_number 1; exon_id \"ENSE00001776112.1\"; level 2; ont \"PGO:0000005\"; havana_gene \"OTTHUMG00000140197.1\"; havana_transcript \"OTTHUMT00000276576.1\";\n"
     ]
    }
   ],
   "source": [
    "%%bash\n",
    "\n",
    "grep 'chr22' gencode.v19.annotation.gtf > gencode.v19.annotation.chr22.gtf\n",
    "\n",
    "head /home/ecwheele/scratch/test_annotations/gencode.v19.annotation.chr22.gtf "
   ]
  },
  {
   "cell_type": "markdown",
   "metadata": {},
   "source": [
    "**Introduction to awk**\n",
    "\n",
    "Another way to extract all lines\n",
    "\n",
    "    awk -F \"\\t\" '{print;}' knownGene.txt\n",
    "What if we only wanted one column\n",
    "\n",
    "    awk -F \"\\t\" '{print $8;}' knownGene.txt  | head\n",
    "What if we wanted the length of genes?\n",
    "\n",
    "    awk -F \"\\t\" '{ len = $5-$4;} {print len;}' knownGene.txt | head\n",
    "Length of all genes summed?\n",
    "\n",
    "    awk -F \"\\t\" '{ len = $5-$4;} {tot = tot + len;} END {print tot;}' knownGene.txt | head\n",
    "Don't process the header line (introduction to conditionals)\n",
    "\n",
    "    awk -F \"\\t\" '{\n",
    "    if (FNR==1){\n",
    "        next\n",
    "    };\n",
    "    tot = tot + $5-$4};\n",
    "    END {print tot;}' knownGene.txt | head\n",
    "    What if you only want the total length of genes in chromosome 1?\n",
    "\n",
    "    awk -F \"\\t\" '{\n",
    "        if (FNR==1){\n",
    "            next;\n",
    "            };\n",
    "        chr =$2;\n",
    "        if (chr == \"chr1\") {\n",
    "            tot = tot + $5-$4;\n",
    "        }\n",
    "    };\n",
    "    END {print tot;}' knownGene.txt"
   ]
  },
  {
   "cell_type": "code",
   "execution_count": 24,
   "metadata": {
    "collapsed": false
   },
   "outputs": [],
   "source": [
    "%%bash\n",
    "\n",
    "awk -F \"\\t\" '{if($3 == \"transcript\") {print $0}}' ~/scratch/test_annotations/gencode.v19.annotation.chr22.gtf > gencode.v19.annotation.chr22.transcript.gtf\n"
   ]
  },
  {
   "cell_type": "markdown",
   "metadata": {},
   "source": [
    "**Use flank to get promoter regions for genes** \n",
    "\n",
    "Get 2000bp upstream from each gene. The genome we are using is \"hg19.genome\", provided in the mtsp_bootcamp directory. Save this file as gencode.v19.annotation.chr22.transcript.promoter.gtf\n",
    "\n",
    "Go to the documentation for bedtools and find the entry for \"bedtools flank\". bedtools flank -h is also informative (below)\n",
    "\n",
    "$ bedtools flank -h\n",
    "\n",
    "Tool:    bedtools flank (aka flankBed)\n",
    "Version: v2.22.1\n",
    "Summary: Creates flanking interval(s) for each BED/GFF/VCF feature.\n",
    "\n",
    "Usage:   bedtools flank [OPTIONS] -i <bed/gff/vcf> -g <genome> [-b <int> or (-l and -r)]\n",
    "\n",
    "Options: \n",
    "        -b      Create flanking interval(s) using -b base pairs in each direction.\n",
    "                - (Integer) or (Float, e.g. 0.1) if used with -pct.\n",
    "\n",
    "        -l      The number of base pairs that a flank should start from\n",
    "                orig. start coordinate.\n",
    "                - (Integer) or (Float, e.g. 0.1) if used with -pct.\n",
    "\n",
    "        -r      The number of base pairs that a flank should end from\n",
    "                orig. end coordinate.\n",
    "                - (Integer) or (Float, e.g. 0.1) if used with -pct.\n",
    "\n",
    "        -s      Define -l and -r based on strand.\n",
    "                E.g. if used, -l 500 for a negative-stranded feature, \n",
    "                it will start the flank 500 bp downstream.  Default = false.\n",
    "\n",
    "        -pct    Define -l and -r as a fraction of the feature's length.\n",
    "                E.g. if used on a 1000bp feature, -l 0.50, \n",
    "                will add 500 bp \"upstream\".  Default = false.\n",
    "\n",
    "        -header Print the header from the input file prior to results.\n",
    "\n",
    "Notes: \n",
    "        (1)  Starts will be set to 0 if options would force it below 0.\n",
    "        (2)  Ends will be set to the chromosome length if requested flank would\n",
    "        force it above the max chrom length.\n",
    "        (3)  In contrast to slop, which _extends_ intervals, bedtools flank\n",
    "        creates new intervals from the regions just up- and down-stream\n",
    "        of your existing intervals.\n",
    "        (4)  The genome file should tab delimited and structured as follows:\n",
    "\n",
    "        <chromName><TAB><chromSize>\n",
    "\n",
    "        For example, Human (hg19):\n",
    "        chr1    249250621\n",
    "        chr2    243199373\n",
    "        ...\n",
    "        chr18_gl000207_random   4262\n",
    "\n",
    "Tips: \n",
    "        One can use the UCSC Genome Browser's MySQL database to extract\n",
    "        chromosome sizes. For example, H. sapiens:\n",
    "\n",
    "        mysql --user=genome --host=genome-mysql.cse.ucsc.edu -A -e \\\n",
    "        \"select chrom, size from hg19.chromInfo\"  > hg19.genome"
   ]
  },
  {
   "cell_type": "markdown",
   "metadata": {},
   "source": [
    "**Use bedtools intersect to overlap promoters with nfkb binding sites**\n",
    "\n",
    "Take a look at the diagrams in the documentation for bedtools intersect and think about how it can answer these questions:\n",
    "\n",
    "Given locations of genome methylation, which genes does it overlap?\n",
    "\n",
    "Given locations of RBP binding, which exons does it overlap?\n",
    "\n",
    "Given two CHIP-Seq experiments, which peaks are consistent between them?\n",
    "\n",
    "Use bedtools intersect to find which promoters overlap with the NFKB binding sites. Use the promoters as \"A\" and the binding sites as \"B\". Call this file gencode.v19.annotation.chr22.transcript.promoter.nfkb.gtf."
   ]
  },
  {
   "cell_type": "markdown",
   "metadata": {},
   "source": [
    "**Use bedtools getfasta to extract sequences**\n",
    "Read the documentation for bedtools getfasta and figure out how to request the sequences in fasta format for the peaks which overlap in gene promoters. Does the strand matter?"
   ]
  },
  {
   "cell_type": "code",
   "execution_count": null,
   "metadata": {
    "collapsed": true
   },
   "outputs": [],
   "source": []
  }
 ],
 "metadata": {
  "kernelspec": {
   "display_name": "Python 2",
   "language": "python",
   "name": "python2"
  },
  "language_info": {
   "codemirror_mode": {
    "name": "ipython",
    "version": 2
   },
   "file_extension": ".py",
   "mimetype": "text/x-python",
   "name": "python",
   "nbconvert_exporter": "python",
   "pygments_lexer": "ipython2",
   "version": "2.7.12"
  }
 },
 "nbformat": 4,
 "nbformat_minor": 0
}
