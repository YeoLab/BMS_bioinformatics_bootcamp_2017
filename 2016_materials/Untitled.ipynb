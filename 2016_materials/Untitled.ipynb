{
 "cells": [
  {
   "cell_type": "code",
   "execution_count": 1,
   "metadata": {
    "collapsed": true
   },
   "outputs": [],
   "source": [
    "import pandas as pd"
   ]
  },
  {
   "cell_type": "code",
   "execution_count": 6,
   "metadata": {
    "collapsed": false
   },
   "outputs": [
    {
     "data": {
      "text/html": [
       "<div>\n",
       "<table border=\"1\" class=\"dataframe\">\n",
       "  <thead>\n",
       "    <tr style=\"text-align: right;\">\n",
       "      <th></th>\n",
       "      <th>chr1</th>\n",
       "      <th>HAVANA</th>\n",
       "      <th>gene</th>\n",
       "      <th>11869</th>\n",
       "      <th>14412</th>\n",
       "      <th>.</th>\n",
       "      <th>+</th>\n",
       "      <th>..1</th>\n",
       "      <th>gene_id \"ENSG00000223972.4\"; transcript_id \"ENSG00000223972.4\"; gene_type \"pseudogene\"; gene_status \"KNOWN\"; gene_name \"DDX11L1\"; transcript_type \"pseudogene\"; transcript_status \"KNOWN\"; transcript_name \"DDX11L1\"; level 2; havana_gene \"OTTHUMG00000000961.2\";</th>\n",
       "    </tr>\n",
       "  </thead>\n",
       "  <tbody>\n",
       "    <tr>\n",
       "      <th>0</th>\n",
       "      <td>chr1</td>\n",
       "      <td>HAVANA</td>\n",
       "      <td>gene</td>\n",
       "      <td>14363</td>\n",
       "      <td>29806</td>\n",
       "      <td>.</td>\n",
       "      <td>-</td>\n",
       "      <td>.</td>\n",
       "      <td>gene_id \"ENSG00000227232.4\"; transcript_id \"EN...</td>\n",
       "    </tr>\n",
       "    <tr>\n",
       "      <th>1</th>\n",
       "      <td>chr1</td>\n",
       "      <td>HAVANA</td>\n",
       "      <td>gene</td>\n",
       "      <td>29554</td>\n",
       "      <td>31109</td>\n",
       "      <td>.</td>\n",
       "      <td>+</td>\n",
       "      <td>.</td>\n",
       "      <td>gene_id \"ENSG00000243485.2\"; transcript_id \"EN...</td>\n",
       "    </tr>\n",
       "    <tr>\n",
       "      <th>2</th>\n",
       "      <td>chr1</td>\n",
       "      <td>HAVANA</td>\n",
       "      <td>gene</td>\n",
       "      <td>34554</td>\n",
       "      <td>36081</td>\n",
       "      <td>.</td>\n",
       "      <td>-</td>\n",
       "      <td>.</td>\n",
       "      <td>gene_id \"ENSG00000237613.2\"; transcript_id \"EN...</td>\n",
       "    </tr>\n",
       "    <tr>\n",
       "      <th>3</th>\n",
       "      <td>chr1</td>\n",
       "      <td>HAVANA</td>\n",
       "      <td>gene</td>\n",
       "      <td>52473</td>\n",
       "      <td>54936</td>\n",
       "      <td>.</td>\n",
       "      <td>+</td>\n",
       "      <td>.</td>\n",
       "      <td>gene_id \"ENSG00000268020.2\"; transcript_id \"EN...</td>\n",
       "    </tr>\n",
       "    <tr>\n",
       "      <th>4</th>\n",
       "      <td>chr1</td>\n",
       "      <td>HAVANA</td>\n",
       "      <td>gene</td>\n",
       "      <td>62948</td>\n",
       "      <td>63887</td>\n",
       "      <td>.</td>\n",
       "      <td>+</td>\n",
       "      <td>.</td>\n",
       "      <td>gene_id \"ENSG00000240361.1\"; transcript_id \"EN...</td>\n",
       "    </tr>\n",
       "  </tbody>\n",
       "</table>\n",
       "</div>"
      ],
      "text/plain": [
       "   chr1  HAVANA  gene  11869  14412  .  + ..1  \\\n",
       "0  chr1  HAVANA  gene  14363  29806  .  -   .   \n",
       "1  chr1  HAVANA  gene  29554  31109  .  +   .   \n",
       "2  chr1  HAVANA  gene  34554  36081  .  -   .   \n",
       "3  chr1  HAVANA  gene  52473  54936  .  +   .   \n",
       "4  chr1  HAVANA  gene  62948  63887  .  +   .   \n",
       "\n",
       "  gene_id \"ENSG00000223972.4\"; transcript_id \"ENSG00000223972.4\"; gene_type \"pseudogene\"; gene_status \"KNOWN\"; gene_name \"DDX11L1\"; transcript_type \"pseudogene\"; transcript_status \"KNOWN\"; transcript_name \"DDX11L1\"; level 2; havana_gene \"OTTHUMG00000000961.2\";  \n",
       "0  gene_id \"ENSG00000227232.4\"; transcript_id \"EN...                                                                                                                                                                                                                  \n",
       "1  gene_id \"ENSG00000243485.2\"; transcript_id \"EN...                                                                                                                                                                                                                  \n",
       "2  gene_id \"ENSG00000237613.2\"; transcript_id \"EN...                                                                                                                                                                                                                  \n",
       "3  gene_id \"ENSG00000268020.2\"; transcript_id \"EN...                                                                                                                                                                                                                  \n",
       "4  gene_id \"ENSG00000240361.1\"; transcript_id \"EN...                                                                                                                                                                                                                  "
      ]
     },
     "execution_count": 6,
     "metadata": {},
     "output_type": "execute_result"
    }
   ],
   "source": [
    "genes_gtf = pd.read_table(\"/home/ecwheele/scratch/annotations/hg19/gencode.v19.annotation.genes.gtf\")\n",
    "genes_gtf.head()"
   ]
  },
  {
   "cell_type": "code",
   "execution_count": null,
   "metadata": {
    "collapsed": true
   },
   "outputs": [],
   "source": []
  }
 ],
 "metadata": {
  "kernelspec": {
   "display_name": "Python 2",
   "language": "python",
   "name": "python2"
  },
  "language_info": {
   "codemirror_mode": {
    "name": "ipython",
    "version": 2
   },
   "file_extension": ".py",
   "mimetype": "text/x-python",
   "name": "python",
   "nbconvert_exporter": "python",
   "pygments_lexer": "ipython2",
   "version": "2.7.12"
  }
 },
 "nbformat": 4,
 "nbformat_minor": 0
}
