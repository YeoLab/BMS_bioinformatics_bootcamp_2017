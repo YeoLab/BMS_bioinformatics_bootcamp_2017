{
 "cells": [
  {
   "cell_type": "markdown",
   "metadata": {},
   "source": [
    "You will first need to install DESeq2. This is a program that runs in R, so we need to install it within R. First, we will use conda to download R in our anaconda. If you check which R before installing it to conda, it might take you to a R installation that already exists on TSCC. Since we want to be in control of our specific version and installs, we will use anaconda to install it.\n",
    "\n",
    "    conda install -c r r\n",
    "    \n",
    "There is an r-essentials packages that has a lot of the commonly used R packages available for install all in one! We will use conda to install that package too.\n",
    "\n",
    "    conda install -c r r-essentials\n",
    "    \n",
    "In order to run DESeq2, we need to update a few other r packages (I found this out by trying to install DESeq2 and getting errors that it needs a newer version of these programs).\n",
    "\n",
    "    conda install -c r r-xml\n",
    "    \n",
    "    conda install gcc\n",
    "\n",
    "Open R in your terminal on TSCC by typing:\n",
    "\n",
    "    R\n",
    "    \n",
    "This will now take you into R where you can do your installation. Note that your command line now has a > rather than your TSCC login. This is specific to the R language. Now you are coding in R, not BASH. Use the following two commands to install DESeq2:\n",
    "\n",
    "    source(\"http://bioconductor.org/biocLite.R\")\n",
    "    \n",
    "    biocLite(\"DESeq2\")\n",
    "    \n",
    "It will ask you about updating packages:\n",
    "\n",
    "    Update all/some/none? [a/s/n]: \n",
    "    \n",
    "Type a to update all.\n",
    "\n",
    "It might error out at the end saying that some packages had \"Non-Zero Exit status.\" That is okay, move forward with the next command to see if you can load DESeq2.\n",
    "\n",
    "    library(\"DESeq2\")\n",
    "    \n",
    "It should load without any error messages. There will be a lot of other messages that come up with the package loading, but nothing that says error or failed. Great! Now that we know it installed properly, let's get out of R and go back to the bash terminal. To get back to a bash command line, quit R with:\n",
    "\n",
    "    quit()\n",
    "    \n",
    "Do you want to save the workspace image? No."
   ]
  }
 ],
 "metadata": {
  "kernelspec": {
   "display_name": "python2-base",
   "language": "python",
   "name": "python2"
  },
  "language_info": {
   "codemirror_mode": {
    "name": "ipython",
    "version": 2
   },
   "file_extension": ".py",
   "mimetype": "text/x-python",
   "name": "python",
   "nbconvert_exporter": "python",
   "pygments_lexer": "ipython2",
   "version": "2.7.12"
  }
 },
 "nbformat": 4,
 "nbformat_minor": 0
}
