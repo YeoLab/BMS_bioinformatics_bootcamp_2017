{
 "cells": [
  {
   "cell_type": "markdown",
   "metadata": {},
   "source": [
    "# Bioinformatics Bootcamp 2017\n",
    "**University of California San Diego (UCSD)**  \n",
    "\n",
    "### Contact us:\n",
    "Instructor [Emily Wheeler](mailto:ecwheele@ucsd.edu) (ecwheele@ucsd.edu)  \n",
    "Instructor [Ryan Marina](mailto:rmarina@ucsd.edu) (rmarina@ucsd.edu)  \n",
    "  \n",
    "Lecture-specific contact info provided below.\n",
    "\n",
    "### Lecture Location\n",
    "Lectures will all be held in CMME room 2017. See below for daily schedule as times change.\n",
    "\n",
    "\n",
    "### Homework Submission\n",
    "One homework will be assigned on Friday and due on Monday.\n",
    "\n"
    ]
  },
  {
   "cell_type": "markdown",
   "metadata": {},
   "source": [
    "## Syllabus\n",
    "\n",
    "| Lecture Num. | Date | Time | Topic | Lecture |\n",
    "| ----------- | ---- | ----| ----- | ------- |\n",
    "| **0** |  |  |  | Pre-class Setup |\n",
    "| **1** | 1/10/17 | |  |  |\n",
    "| **2** | 1/17/17 | | | |\n",
    "| **3** | 1/24/17 | | | |\n",
    "| **4** | 1/31/17 | | | |\n",
    "| **5** | 2/7/16 | | | |\n",
    "| **6** | 2/14/16 | | | |\n",
    "| **7** | 2/21/16 | | | |\n",
    "| **8** | 2/28/16 | | | |\n",
   ]
  },
  {
   "cell_type": "markdown",
   "metadata": {},
   "source": [
    "\n",
    "\n",
    "## Group Project\n",
    "\n",
    "**Details to come:**"
   ]
  }
 ],
 "metadata": {
  "kernelspec": {
   "display_name": "Python 2",
   "language": "python",
   "name": "python2"
  },
  "language_info": {
   "codemirror_mode": {
    "name": "ipython",
    "version": 2
   },
   "file_extension": ".py",
   "mimetype": "text/x-python",
   "name": "python",
   "nbconvert_exporter": "python",
   "pygments_lexer": "ipython2",
   "version": "2.7.11"
  }
 },
 "nbformat": 4,
 "nbformat_minor": 0
}
