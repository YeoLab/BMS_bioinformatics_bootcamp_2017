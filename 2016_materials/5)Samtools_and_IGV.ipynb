{
 "cells": [
  {
   "cell_type": "markdown",
   "metadata": {},
   "source": [
    "# In this notebook, we will sort and index bam files for downstream analyses and look at the alignment with IGV"
   ]
  },
  {
   "cell_type": "markdown",
   "metadata": {},
   "source": [
    "**Introduction to samtools**\n",
    "\n",
    "Check out the samtools [documentation](http://www.htslib.org/doc/samtools.html). Since BAM files are binary, they can only be read by the computer. Samtools is a great tool that lets us view the contents of bamfiles and perform various manipulations on them. \n",
    "\n",
    "*Q: Remember we downloaded samtools on day 1. How do you check if it downloaded and what version you are running?*\n",
    "\n",
    "Try out some of the samtools commands:\n",
    "\n",
    "    samtools view interesting_file.bam (or intersting_file.sam)\n",
    "    \n",
    "    samtools flagstat insteresting_file.bam\n",
    "    \n",
    "\n",
    "Now we need to use samtools to soft and index the bam file. Work with your partner to figure out how you would sort a bam file and save it to a new file with the extension .sorted.bam\n",
    "\n",
    "    samtools sort -@ 8 -o interesting_file.sorted.bam interesting_file.bam \n",
    "    \n",
    "We also need a bai index of the sorted bam file. Again, work with your partner to determine what that command would look like:\n",
    "\n",
    "    samtools index interesting_file.sorted.bam\n",
    "\n",
    "Now that you have figured out what the commands should be, write a submitter script with both of those commands that you can submit for the file you made. The sorting takes 8 processors, so we need to submit a job. Keep in mind that you can include two commands in the same script. Just put one below the other and your second one will run after the first one is finished.\n",
    "\n",
    "This is just for practice on the bam file you made. I have done this already on the bam files provided so you can view them on IGV.\n",
    "    "
   ]
  },
  {
   "cell_type": "markdown",
   "metadata": {},
   "source": [
    "**Download IGV to view your alignments**\n",
    "\n",
    "Check out the IGV [website](https://www.broadinstitute.org/igv/) to download the application.\n",
    "\n",
    "On the downloads page scroll down to \"Binary Distribution\" and click \"Download Binary Distribution\". You are going to load IGV from your desktop, NOT TSCC. Move the downloaded file into some meaningful directory for you.\n",
    "\n",
    "    mv ~/Downloads/IGV_2.3.79.zip ~/Desktop/BIOM200/module1/IGV\n",
    "    \n",
    "Unzip the file\n",
    "\n",
    "    unzip ~/Desktop/BIOM200/module1/IGV/IGV_2.3.79.zip\n",
    "    \n",
    "This will make a new folder in that directory called IGV_2.3.79. Go into that directory to find the igv.sh script. Open IGV with bash. Remember all of this is done on your local machine, NOT tscc\n",
    "\n",
    "    cd IGV_2.3.79\n",
    "    bash igv.sh\n",
    "    \n",
    "This will open the application.\n",
    "\n",
    "In order to view alignments, you need to upload the bam files to an external server (not TSCC) for viewing. You can also download the bam and the indexed bai files to your desktop and load them from there. But since the files are big, I have uploaded them to an external server for you to view. I have uploaded four files in total, two for each condition (control and knockdown).\n",
    "\n",
    "After you complete the download, open IGV (as described above). \n",
    "\n",
    "Select your genome with genome - load from server. Choose hg19. \n",
    "\n",
    "Upload the bam files with - Select File - Load from URL\n",
    "\n",
    "The URL links are:\n",
    "\n",
    "    https://s3-us-west-2.amazonaws.com/mstp-bioinformatics-2016/lin28b_ctrl_rep1.bam\n",
    "    \n",
    "    https://s3-us-west-2.amazonaws.com/mstp-bioinformatics-2016/lin28b_ctrl_rep2.bam\n",
    "    \n",
    "    https://s3-us-west-2.amazonaws.com/mstp-bioinformatics-2016/lin28b_kd_rep1.bam\n",
    "    \n",
    "    https://s3-us-west-2.amazonaws.com/mstp-bioinformatics-2016/lin28b_kd_rep2.bam\n",
    "\n",
    "You can leave the index field blank. By default the program searches in the same location for another file by the same name with the extension .bai. I have uploaded these files as well, so IGV will find them by default.\n",
    "\n",
    "Once you have uploaded all 4 files, play around by viewing different genes or chromosome locations. Can you see genes that clearly have fewer reads in the knockdown vs control datasets? What does LIN28B look like? What about let7?\n",
    "\n",
    "We will come back to these later on for the initial pass that our most highly differetially expressed genes show expression differences.   \n",
    "\n",
    "When you are ready to quit IGV, you can save the session with File - Save session. Next time you open IGV you can open your saved session without having to reload the BAM files. "
   ]
  },
  {
   "cell_type": "markdown",
   "metadata": {
    "collapsed": true
   },
   "source": [
    "**Make softlinks to the rest of the bam files we are interested in**\n",
    "\n",
    "Since we only processed one dataset together, I will provide the bam files for the rest of the datasets we are interested in. They are located in:\n",
    "\n",
    "    /projects/ps-yeolab/biom200_module1_2016/\n",
    "    \n",
    "Go into this folder and check out what is there to see what files you want to copy. You need to copy 8 total, 4 bam files and 4 index files.\n",
    "    \n",
    "Remember the softlink syntax we learned before?\n",
    "\n",
    "    ln -s sourcefilename destinationfilename\n",
    "    \n",
    "Use this syntax to make a softlink for each of the bams provided and put the link in your ~/projects/lin28b_shrna/all_bams/ directory (you will need to make a directory called all_bams first)\n",
    "    \n",
    "Remember to use your full path properly for both the source and destination file to make a softlink for each of the four bam files in that folder. \n",
    "\n",
    "*Q: How do you check that your softlink was made properly?*\n"
   ]
  },
  {
   "cell_type": "code",
   "execution_count": null,
   "metadata": {
    "collapsed": true
   },
   "outputs": [],
   "source": []
  }
 ],
 "metadata": {
  "kernelspec": {
   "display_name": "Python 2",
   "language": "python",
   "name": "python2"
  },
  "language_info": {
   "codemirror_mode": {
    "name": "ipython",
    "version": 2
   },
   "file_extension": ".py",
   "mimetype": "text/x-python",
   "name": "python",
   "nbconvert_exporter": "python",
   "pygments_lexer": "ipython2",
   "version": "2.7.12"
  }
 },
 "nbformat": 4,
 "nbformat_minor": 0
}
