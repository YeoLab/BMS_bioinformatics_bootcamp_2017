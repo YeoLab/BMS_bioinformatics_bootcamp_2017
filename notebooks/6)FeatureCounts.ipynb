{
 "cells": [
  {
   "cell_type": "markdown",
   "metadata": {},
   "source": [
    "# In this notebook, we will learn how to download and run featureCounts to count reads mapping to genes "
   ]
  },
  {
   "cell_type": "markdown",
   "metadata": {},
   "source": [
    "**1) Go find the user documentation for featureCounts.** Google - user manual featurecounts. You will find the documentation in a larger package called subread.\n",
    "\n",
    "**2) Install featureCounts** Since featureCounts is packaged in a larger package called subread that is available on bioconda, we can install it with:\n",
    "\n",
    "    conda install -c bioconda subread\n",
    "    \n",
    "Did it install properly?\n",
    "\n",
    "    which featureCounts\n",
    "    \n",
    "**3) Refer to the manual to determine find the command you want to run.** Scroll down in the manual to section 6: Read summarization. This package also contains an aligner, but we used STAR instead. So we will skip that part and only use the part of the package important for quantification of reads mapping to genes."
   ]
  },
  {
   "cell_type": "markdown",
   "metadata": {},
   "source": [
    "**4) Refer to lecture notes about stranded information in a library.**\n",
    "\n",
    "**5) In groups of 2 or 3 discuss the arguments you can use.** \n",
    "Some hints of things to pay attention to... Notice you can count multiple files at the same time! Use this to your advantage to count for all bam files at once. \n",
    "\n",
    "Write a .sh script with your command. We will use 1 node, 2 processors per node, and a 1 hour walltime. \n",
    "\n",
    "Put the output somewhere meaningful. This is a form of processed data. Maybe make a new folder called featureCounts. Or you can simply include it in the processed_data folder with featureCounts in the filename. This is up to you, but make sure you understand your setup.\n",
    "\n",
    "If you scroll down below the arguments table in the manual, you will see example commands.\n",
    "\n",
    "When you think you have a command written properly in a .sh script, raise your hand and we will check it.\n"
   ]
  },
  {
   "cell_type": "code",
   "execution_count": null,
   "metadata": {
    "collapsed": true
   },
   "outputs": [],
   "source": []
  }
 ],
 "metadata": {
  "kernelspec": {
   "display_name": "Python [Root]",
   "language": "python",
   "name": "Python [Root]"
  },
  "language_info": {
   "codemirror_mode": {
    "name": "ipython",
    "version": 2
   },
   "file_extension": ".py",
   "mimetype": "text/x-python",
   "name": "python",
   "nbconvert_exporter": "python",
   "pygments_lexer": "ipython2",
   "version": "2.7.12"
  }
 },
 "nbformat": 4,
 "nbformat_minor": 0
}
