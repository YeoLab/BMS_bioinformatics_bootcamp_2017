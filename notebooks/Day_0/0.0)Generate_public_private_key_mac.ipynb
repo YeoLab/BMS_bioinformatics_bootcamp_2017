{
 "cells": [
  {
   "cell_type": "markdown",
   "metadata": {},
   "source": [
    "# This is for all students who will be using a mac in class. Please follow the instructions below before day 1 so I can get your account properly setup with TSCC"
   ]
  },
  {
   "cell_type": "markdown",
   "metadata": {},
   "source": [
    "**1) Open a terminal**\n",
    "\n",
    "For mac users: Applications Folder - Utilities - Launch Terminal\n",
    "\n",
    "For Linux users: Applications - System tools - Terminal\n",
    "\n",
    "**2) Type the following command exactly as it appears below:**\n",
    "\n",
    "    ssh-keygen -t rsa\n",
    "\n",
    "Press enter to continue\n",
    "\n",
    "Enter a passphrase (the cursor won't move), it will ask you to do this twice to make sure there aren't any typos. REMEMBER this passphrase, this is what you will use to logon to TSCC. Do not include the * character in the passphrase. \n",
    "\n",
    "You will be prompted with a location to save the key. Press Enter to accept the default setting (it should look something like /Users/emily/.ssh/id_rsa except the /Users/emily/ part will be your default home directory.)\n",
    "\n",
    "**3) Use the following commands to copy your public key:**\n",
    "\n",
    "    cat ~/.ssh/id_rsa.pub\n",
    "    \n",
    "Something like this should pop up on your screen:\n",
    "\n",
    "    ssh-rsa AAAAB3NzaC1yc2EAAAADAQABAAABAQC76Ew4UJTblrl2c8RkCtVOKS2FDVzMm51fueE+SrIQxiPbeHy/64tK/TfUYGUie6Eq4sr5w0i6LoMXGNKlfwX8O3nym/coitxTRXcOalGb/CbPIWDN9nvlCa+JB/oYRMTmff/Is6VJur+Ir2eJZnHiB9BlmwjOoKusaqzXesjx0pym7QEEBTpCVF07lj5rkvAF1K/ia4tnkHRlnc7JDcAvOwQvkvL2swOrYYJhTGqThCwkEebEqEuDhC7UcX1itkaOd5KmCasGVHfgLkqp+QT5pEdaSzSm/iho0VvkNpPd+B0H5179/ZkUyN7jfSda0C54MAG+Hek8CNEkxyjpvS/R emily@Emilys-MacBook-Air.local\n",
    "    \n",
    "Highlight everything in your terminal window and copy it with command c.\n",
    "    \n",
    "**4) Paste what you have copied into the text of an email to me.**\n",
    "\n",
    "ecwheele@ucsd.edu\n",
    "\n",
    "**5) I will send you confirmation that I received your email**\n",
    "\n",
    "I will respond with your tscc username. Log on to tscc!\n",
    "\n",
    "In your terminal window, type: \n",
    "\n",
    "ssh ucsd-train##@tscc-login.sdsc.edu\n",
    "\n",
    "Remember to replace the ## with your specific number. Press enter to get the prompt to enter your passphrase. You might get a security warning the first time you login. Just select \"Yes\" to move past it. Once you have logged on, there will be a bunch of text on your screen including \"Welcome to TSCC\"\n",
    "\n",
    "To get out of TSCC, type \"exit\" and press enter."
   ]
  },
  {
   "cell_type": "code",
   "execution_count": null,
   "metadata": {
    "collapsed": true
   },
   "outputs": [],
   "source": []
  }
 ],
 "metadata": {
  "kernelspec": {
   "display_name": "Python 2",
   "language": "python",
   "name": "python2"
  },
  "language_info": {
   "codemirror_mode": {
    "name": "ipython",
    "version": 2
   },
   "file_extension": ".py",
   "mimetype": "text/x-python",
   "name": "python",
   "nbconvert_exporter": "python",
   "pygments_lexer": "ipython2",
   "version": "2.7.12"
  }
 },
 "nbformat": 4,
 "nbformat_minor": 0
}
