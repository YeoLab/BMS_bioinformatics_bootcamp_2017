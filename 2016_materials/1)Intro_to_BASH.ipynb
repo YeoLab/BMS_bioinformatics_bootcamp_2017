{
 "cells": [
  {
   "cell_type": "markdown",
   "metadata": {},
   "source": [
    "# This notebook will provide an overview of some of the most useful bash commands to navigate around the terminal"
   ]
  },
  {
   "cell_type": "markdown",
   "metadata": {},
   "source": [
    "**Start by openining a terminal window**\n",
    "\n",
    "For Mac - Applications folder - Utilities - Launch Terminal\n",
    "\n",
    "For Windows - Cygwin Terminal\n"
   ]
  },
  {
   "cell_type": "markdown",
   "metadata": {},
   "source": [
    "**What folder are you in?**\n",
    "\n",
    "\"print working directory\"\n",
    "    \n",
    "    pwd\n",
    "    \n",
    "For me, the output looks like:\n",
    "\n",
    "    /Users/emily\n",
    "    \n",
    "For windows users, the output is most likely something like:\n",
    "\n",
    "    /home/user\n",
    "    \n",
    "What is in that folder:\n",
    "\n",
    "    ls\n",
    "    \n",
    "For me, the output looks like: \n",
    "\n",
    "    Applications         Dropbox              Music                igv\n",
    "    Creative Cloud Files Dropbox (Old)        Pictures             lib\n",
    "    Desktop              ImageStudioLite      Public\n",
    "    Documents            Library              anaconda\n",
    "    Downloads            Movies               bin\n",
    "    \n",
    "For windows users, I don't know what your output will look like... the one I was testing did not have anything in that folder.  \n",
    "\n",
    "This is most likely your default home directory. Rather than typing the \"full file path\" of /Users/emily each time, there is a shortcut for the home directory. Try the following two commands below to \"change directory\" into your home and see where it takes you. \n",
    "\n",
    "    cd /Users/emily\n",
    "    pwd\n",
    "    \n",
    "    cd ~\n",
    "    pwd\n",
    "    \n",
    "For windows users, you want to navigate to a different directory. Right click on a file on your Desktop. Select \"Properties\" and find the location of that file. Change Directories into that path in your terminal. However, notice that the slashes need to be entered in the opposite direction. For me, this looks like:\n",
    "\n",
    "    cd C:/Users/user/Desktop\n",
    "    \n",
    "Now when I use pwd, the output looks like this:\n",
    "\n",
    "    /cygdrive/c/Users/user/Desktop\n",
    "    \n",
    "However, when you type:\n",
    "\n",
    "    cd ~\n",
    "    \n",
    "This will take you back to:\n",
    "\n",
    "    /home/user\n",
    "    \n",
    "Sorry, you can't use the ~ shortcut here, but you will use it on TSCC."
   ]
  },
  {
   "cell_type": "markdown",
   "metadata": {},
   "source": [
    "**View the contents of the directory you are in:**\n",
    "\n",
    "To list all files and folder in the directory:\n",
    "\n",
    "    ls\n",
    "    \n",
    "or:\n",
    "\n",
    "    ls ~/\n",
    "    \n",
    "*Q: What is the difference?*\n",
    "\n",
    "Example:\n",
    "\n",
    "    ls ~/Desktop/class_folder\n",
    "    \n",
    "    or\n",
    "    \n",
    "    ls C:/Users/user/Desktop\n",
    "    \n",
    "Is equivalent to:\n",
    "\n",
    "    cd ~/Desktop/class_folder\n",
    "    ls\n",
    "    \n",
    "    or\n",
    "    \n",
    "    cd C:/Users/user/Desktop\n",
    "    ls\n",
    "    \n",
    "ls also have some specific \"flags\" that can provide more useful information about the files and folders in a specific directory. To learn more about all the possible flags you can use:\n",
    "\n",
    "    man ls\n",
    "    \n",
    "Use the down arrow to scroll through all the options. Notice there is a colon in the bottom left corner of your screen. This means you can use up and down arrows to scroll, and to get back out to the command line, type q.\n",
    "\n",
    "*Q: How would I print file sizes in human readable format for all the files in the folder I am currenly sitting in?*\n",
    "\n",
    "*Q: How would I view all files in the directory, including hidden files?*\n"
   ]
  },
  {
   "cell_type": "markdown",
   "metadata": {},
   "source": [
    "**Make a new directory**\n",
    "\n",
    "I want to make a new directory on my Desktop called \"module_1\". NOTE - spaces in filenames are really annoying to deal with. Link things together with underscores.\n",
    "\n",
    "    cd ~/Desktop/\n",
    "    mkdir module_1\n",
    "    \n",
    "or:\n",
    "\n",
    "    mkdir ~/Deskop/module_1\n",
    "    \n",
    "or:\n",
    "\n",
    "    cd C:/Users/user/Desktop\n",
    "    mkdir module_1"
   ]
  },
  {
   "cell_type": "markdown",
   "metadata": {},
   "source": [
    "**Look at a file**\n",
    "\n",
    "There are many different ways to look at the contents of a file. I like to use \"less\" because it lets me scroll with the up and down arrows. \"cat\" will throw the entire contents of a file onto your screen. \"head\" will let you look at just the top of the file. \"tail\" will let you look at just the bottom. Try them out! Find a file somewhere on your computer that you want to look at. \n",
    "\n",
    "    less ~/Desktop/interesting_file.txt\n",
    "    \n",
    "    cat ~/Desktop/interesting_file.txt\n",
    "    \n",
    "    head ~/Desktop/interesting_file.txt\n",
    "    \n",
    "    tail ~/Desktop/interesting_file.txt\n",
    "    \n",
    "Remember when you have the colon in the bottom left corner of the screen, you need to use q to get back to the command line\n",
    "\n",
    "*Q: How would I display the top 21 lines of interesting_file.txt*"
   ]
  },
  {
   "cell_type": "markdown",
   "metadata": {},
   "source": [
    "**Make a new file or edit an existing file**\n",
    "\n",
    "There are many different text editors available. We are going to use vi. To edit the contents of an existing file or make a new one:\n",
    "\n",
    "    vi filename.txt\n",
    "    \n",
    "This will take you into an editor window. The filename will be displayed in the bottom left hand corner. You can use the arrow keys to move the cursor around the file. When you want to make changes, type the letter i which will take you into insert mode. Notice now the bottom left hand corner of the file says insert. Type something in the file. To get out of insert mode, press esc. Then to save and quit type :wq (w is for save, q is for quit). To quit without saving changes, type :q! See an example below:\n",
    "\n",
    "    cd ~/Desktop/module_1\n",
    "    vi filename.txt\n",
    "    i\n",
    "    <adding changes to the file here>\n",
    "    esc\n",
    "    :wq\n",
    "    \n",
    "Or: \n",
    "\n",
    "    vi ~/Desktop/module_1/filename.txt\n",
    "    i\n",
    "    <change the file>\n",
    "    esc\n",
    "    :q!\n",
    "    \n",
    "*Q: What is the difference between the two examples given?*\n"
   ]
  },
  {
   "cell_type": "markdown",
   "metadata": {},
   "source": [
    "**Use tab to avoid typos!**\n",
    "\n",
    "Rather than typing out the complete filename, your computer is smart enough to do it for you. Just start typing the beginning of the filename, and before you finish press tab to automatically fill in the rest. If there is more than one file name in that location with the same prefix, you will have to press tab twice to see all the options, and then you will have to type more unique characters to complete the proper filename. Try it out!\n",
    "\n",
    "    less fil<tab>\n",
    "    \n",
    "Now let's make another filename with the same prefix, but different ending. \n",
    "\n",
    "    vi filename_2.txt\n",
    "    i\n",
    "    <insert random text in the file>\n",
    "    esc\n",
    "    :wq\n",
    "    \n",
    "Now try to use tab to complete a file you want to view with less:\n",
    "\n",
    "    less fil<tab>\n",
    "    \n",
    "What happened? Try pressing tab twice (double tab)\n",
    "\n",
    "    less fil<tab><tab>"
   ]
  },
  {
   "cell_type": "markdown",
   "metadata": {},
   "source": [
    "**Copy a file**\n",
    "\n",
    "The syntax to copy a file is :\n",
    "\n",
    "    cp sourcefilename destinationfilename\n",
    "    \n",
    "Try it out. Say I want to make a copy of filename.txt and call it filename_new.txt\n",
    "\n",
    "    cp filename.txt filename_new.txt"
   ]
  },
  {
   "cell_type": "markdown",
   "metadata": {},
   "source": [
    "**Move a file around**\n",
    "\n",
    "You can also move a file to a new location rather than copying it.\n",
    "\n",
    "The syntax to move a file is:\n",
    "\n",
    "    mv sourcefilename destinationfilename\n",
    "    \n",
    "So for example if I want to move something from my Desktop into a folder called module_1:\n",
    "\n",
    "    mv ~/Desktop/file_to_move.txt ~/Desktop/module_1/file_to_move.txt\n",
    "    \n",
    "Pay close attention to the complete path of the source and destination file. The destination FOLDER must exist before you move a file into it."
   ]
  },
  {
   "cell_type": "markdown",
   "metadata": {},
   "source": [
    "**Remove a file**\n",
    "\n",
    "If you don't want a file anymore, remove it with rm.\n",
    "\n",
    "    rm ~/Desktop/filename.txt\n",
    "    \n",
    "Use the manual to check out all the different flags you can use with the rm command.\n",
    "\n",
    "    man rm"
   ]
  },
  {
   "cell_type": "markdown",
   "metadata": {},
   "source": [
    "**More information about BASH commands can be found with a google search**\n",
    "\n",
    "http://cli.learncodethehardway.org/bash_cheat_sheet.pdf"
   ]
  },
  {
   "cell_type": "code",
   "execution_count": null,
   "metadata": {
    "collapsed": true
   },
   "outputs": [],
   "source": []
  }
 ],
 "metadata": {
  "kernelspec": {
   "display_name": "Python 2",
   "language": "python",
   "name": "python2"
  },
  "language_info": {
   "codemirror_mode": {
    "name": "ipython",
    "version": 2
   },
   "file_extension": ".py",
   "mimetype": "text/x-python",
   "name": "python",
   "nbconvert_exporter": "python",
   "pygments_lexer": "ipython2",
   "version": "2.7.12"
  }
 },
 "nbformat": 4,
 "nbformat_minor": 0
}
