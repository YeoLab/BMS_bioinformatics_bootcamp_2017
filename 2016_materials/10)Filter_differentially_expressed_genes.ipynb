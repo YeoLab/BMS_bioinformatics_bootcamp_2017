{
 "cells": [
  {
   "cell_type": "code",
   "execution_count": 1,
   "metadata": {
    "collapsed": true
   },
   "outputs": [],
   "source": [
    "import pandas as pd"
   ]
  },
  {
   "cell_type": "code",
   "execution_count": 16,
   "metadata": {
    "collapsed": false
   },
   "outputs": [
    {
     "name": "stdout",
     "output_type": "stream",
     "text": [
      "(20367, 6)\n"
     ]
    },
    {
     "data": {
      "text/html": [
       "<div>\n",
       "<table border=\"1\" class=\"dataframe\">\n",
       "  <thead>\n",
       "    <tr style=\"text-align: right;\">\n",
       "      <th></th>\n",
       "      <th>baseMean</th>\n",
       "      <th>log2FoldChange</th>\n",
       "      <th>lfcSE</th>\n",
       "      <th>stat</th>\n",
       "      <th>pvalue</th>\n",
       "      <th>padj</th>\n",
       "    </tr>\n",
       "  </thead>\n",
       "  <tbody>\n",
       "    <tr>\n",
       "      <th>ENSG00000227232.4</th>\n",
       "      <td>330.362699</td>\n",
       "      <td>0.118285</td>\n",
       "      <td>0.169416</td>\n",
       "      <td>0.698196</td>\n",
       "      <td>0.485054</td>\n",
       "      <td>0.676346</td>\n",
       "    </tr>\n",
       "    <tr>\n",
       "      <th>ENSG00000237613.2</th>\n",
       "      <td>2.978620</td>\n",
       "      <td>0.074351</td>\n",
       "      <td>0.077728</td>\n",
       "      <td>0.956548</td>\n",
       "      <td>0.338796</td>\n",
       "      <td>NaN</td>\n",
       "    </tr>\n",
       "    <tr>\n",
       "      <th>ENSG00000238009.2</th>\n",
       "      <td>126.667693</td>\n",
       "      <td>0.190903</td>\n",
       "      <td>0.198352</td>\n",
       "      <td>0.962446</td>\n",
       "      <td>0.335826</td>\n",
       "      <td>NaN</td>\n",
       "    </tr>\n",
       "    <tr>\n",
       "      <th>ENSG00000237683.5</th>\n",
       "      <td>1341.555393</td>\n",
       "      <td>0.614904</td>\n",
       "      <td>0.134234</td>\n",
       "      <td>4.580836</td>\n",
       "      <td>0.000005</td>\n",
       "      <td>0.000216</td>\n",
       "    </tr>\n",
       "    <tr>\n",
       "      <th>ENSG00000239906.1</th>\n",
       "      <td>21.708253</td>\n",
       "      <td>0.325188</td>\n",
       "      <td>0.172560</td>\n",
       "      <td>1.884487</td>\n",
       "      <td>0.059499</td>\n",
       "      <td>NaN</td>\n",
       "    </tr>\n",
       "  </tbody>\n",
       "</table>\n",
       "</div>"
      ],
      "text/plain": [
       "                      baseMean  log2FoldChange     lfcSE      stat    pvalue  \\\n",
       "ENSG00000227232.4   330.362699        0.118285  0.169416  0.698196  0.485054   \n",
       "ENSG00000237613.2     2.978620        0.074351  0.077728  0.956548  0.338796   \n",
       "ENSG00000238009.2   126.667693        0.190903  0.198352  0.962446  0.335826   \n",
       "ENSG00000237683.5  1341.555393        0.614904  0.134234  4.580836  0.000005   \n",
       "ENSG00000239906.1    21.708253        0.325188  0.172560  1.884487  0.059499   \n",
       "\n",
       "                       padj  \n",
       "ENSG00000227232.4  0.676346  \n",
       "ENSG00000237613.2       NaN  \n",
       "ENSG00000238009.2       NaN  \n",
       "ENSG00000237683.5  0.000216  \n",
       "ENSG00000239906.1       NaN  "
      ]
     },
     "execution_count": 16,
     "metadata": {},
     "output_type": "execute_result"
    }
   ],
   "source": [
    "#Here we are going to load the output of our differential expression analysis\n",
    "\n",
    "directory = '/home/ucsd-train01/scratch/projects/lin28b_shrna/all_bams/'\n",
    "deseq2_output = pd.read_csv(directory+\"differential_expression.csv\",index_col=0)\n",
    "print deseq2_output.shape\n",
    "deseq2_output.head()"
   ]
  },
  {
   "cell_type": "code",
   "execution_count": 17,
   "metadata": {
    "collapsed": false
   },
   "outputs": [
    {
     "name": "stdout",
     "output_type": "stream",
     "text": [
      "(57820, 1)\n"
     ]
    },
    {
     "data": {
      "text/html": [
       "<div>\n",
       "<table border=\"1\" class=\"dataframe\">\n",
       "  <thead>\n",
       "    <tr style=\"text-align: right;\">\n",
       "      <th></th>\n",
       "      <th>gene_name</th>\n",
       "    </tr>\n",
       "  </thead>\n",
       "  <tbody>\n",
       "    <tr>\n",
       "      <th>ENSG00000242268.2</th>\n",
       "      <td>RP11-368I23.2</td>\n",
       "    </tr>\n",
       "    <tr>\n",
       "      <th>ENSG00000167578.12</th>\n",
       "      <td>RAB4B</td>\n",
       "    </tr>\n",
       "    <tr>\n",
       "      <th>ENSG00000270112.2</th>\n",
       "      <td>RP11-742D12.2</td>\n",
       "    </tr>\n",
       "    <tr>\n",
       "      <th>ENSG00000078237.4</th>\n",
       "      <td>C12orf5</td>\n",
       "    </tr>\n",
       "    <tr>\n",
       "      <th>ENSG00000263642.1</th>\n",
       "      <td>MIR4802</td>\n",
       "    </tr>\n",
       "  </tbody>\n",
       "</table>\n",
       "</div>"
      ],
      "text/plain": [
       "                        gene_name\n",
       "ENSG00000242268.2   RP11-368I23.2\n",
       "ENSG00000167578.12          RAB4B\n",
       "ENSG00000270112.2   RP11-742D12.2\n",
       "ENSG00000078237.4         C12orf5\n",
       "ENSG00000263642.1         MIR4802"
      ]
     },
     "execution_count": 17,
     "metadata": {},
     "output_type": "execute_result"
    }
   ],
   "source": [
    "#Load a handy file that I am providing you that converts the gencode geneid to gene name\n",
    "\n",
    "gene_dir = '/projects/ps-yeolab/biom200_module1_2016/'\n",
    "gene_names = pd.read_table(gene_dir+\"gencode.v19.annotation.genenames.txt\", names=['gene_name'], index_col=0)\n",
    "print gene_names.shape\n",
    "gene_names.head()"
   ]
  },
  {
   "cell_type": "code",
   "execution_count": 18,
   "metadata": {
    "collapsed": false
   },
   "outputs": [
    {
     "name": "stdout",
     "output_type": "stream",
     "text": [
      "(20367, 7)\n"
     ]
    },
    {
     "data": {
      "text/html": [
       "<div>\n",
       "<table border=\"1\" class=\"dataframe\">\n",
       "  <thead>\n",
       "    <tr style=\"text-align: right;\">\n",
       "      <th></th>\n",
       "      <th>baseMean</th>\n",
       "      <th>log2FoldChange</th>\n",
       "      <th>lfcSE</th>\n",
       "      <th>stat</th>\n",
       "      <th>pvalue</th>\n",
       "      <th>padj</th>\n",
       "      <th>gene_name</th>\n",
       "    </tr>\n",
       "  </thead>\n",
       "  <tbody>\n",
       "    <tr>\n",
       "      <th>ENSG00000227232.4</th>\n",
       "      <td>330.362699</td>\n",
       "      <td>0.118285</td>\n",
       "      <td>0.169416</td>\n",
       "      <td>0.698196</td>\n",
       "      <td>0.485054</td>\n",
       "      <td>0.676346</td>\n",
       "      <td>WASH7P</td>\n",
       "    </tr>\n",
       "    <tr>\n",
       "      <th>ENSG00000237613.2</th>\n",
       "      <td>2.978620</td>\n",
       "      <td>0.074351</td>\n",
       "      <td>0.077728</td>\n",
       "      <td>0.956548</td>\n",
       "      <td>0.338796</td>\n",
       "      <td>NaN</td>\n",
       "      <td>FAM138A</td>\n",
       "    </tr>\n",
       "    <tr>\n",
       "      <th>ENSG00000238009.2</th>\n",
       "      <td>126.667693</td>\n",
       "      <td>0.190903</td>\n",
       "      <td>0.198352</td>\n",
       "      <td>0.962446</td>\n",
       "      <td>0.335826</td>\n",
       "      <td>NaN</td>\n",
       "      <td>RP11-34P13.7</td>\n",
       "    </tr>\n",
       "    <tr>\n",
       "      <th>ENSG00000237683.5</th>\n",
       "      <td>1341.555393</td>\n",
       "      <td>0.614904</td>\n",
       "      <td>0.134234</td>\n",
       "      <td>4.580836</td>\n",
       "      <td>0.000005</td>\n",
       "      <td>0.000216</td>\n",
       "      <td>AL627309.1</td>\n",
       "    </tr>\n",
       "    <tr>\n",
       "      <th>ENSG00000239906.1</th>\n",
       "      <td>21.708253</td>\n",
       "      <td>0.325188</td>\n",
       "      <td>0.172560</td>\n",
       "      <td>1.884487</td>\n",
       "      <td>0.059499</td>\n",
       "      <td>NaN</td>\n",
       "      <td>RP11-34P13.14</td>\n",
       "    </tr>\n",
       "  </tbody>\n",
       "</table>\n",
       "</div>"
      ],
      "text/plain": [
       "                      baseMean  log2FoldChange     lfcSE      stat    pvalue  \\\n",
       "ENSG00000227232.4   330.362699        0.118285  0.169416  0.698196  0.485054   \n",
       "ENSG00000237613.2     2.978620        0.074351  0.077728  0.956548  0.338796   \n",
       "ENSG00000238009.2   126.667693        0.190903  0.198352  0.962446  0.335826   \n",
       "ENSG00000237683.5  1341.555393        0.614904  0.134234  4.580836  0.000005   \n",
       "ENSG00000239906.1    21.708253        0.325188  0.172560  1.884487  0.059499   \n",
       "\n",
       "                       padj      gene_name  \n",
       "ENSG00000227232.4  0.676346         WASH7P  \n",
       "ENSG00000237613.2       NaN        FAM138A  \n",
       "ENSG00000238009.2       NaN   RP11-34P13.7  \n",
       "ENSG00000237683.5  0.000216     AL627309.1  \n",
       "ENSG00000239906.1       NaN  RP11-34P13.14  "
      ]
     },
     "execution_count": 18,
     "metadata": {},
     "output_type": "execute_result"
    }
   ],
   "source": [
    "#Append the gene name column to the differential expression output\n",
    "\n",
    "deseq2_output_with_genes = deseq2_output.join(gene_names, how='left')\n",
    "print deseq2_output_with_genes.shape\n",
    "deseq2_output_with_genes.head()"
   ]
  },
  {
   "cell_type": "code",
   "execution_count": 25,
   "metadata": {
    "collapsed": false
   },
   "outputs": [
    {
     "name": "stdout",
     "output_type": "stream",
     "text": [
      "(1276, 7)\n"
     ]
    },
    {
     "data": {
      "text/html": [
       "<div>\n",
       "<table border=\"1\" class=\"dataframe\">\n",
       "  <thead>\n",
       "    <tr style=\"text-align: right;\">\n",
       "      <th></th>\n",
       "      <th>baseMean</th>\n",
       "      <th>log2FoldChange</th>\n",
       "      <th>lfcSE</th>\n",
       "      <th>stat</th>\n",
       "      <th>pvalue</th>\n",
       "      <th>padj</th>\n",
       "      <th>gene_name</th>\n",
       "    </tr>\n",
       "  </thead>\n",
       "  <tbody>\n",
       "    <tr>\n",
       "      <th>ENSG00000237683.5</th>\n",
       "      <td>1341.555393</td>\n",
       "      <td>0.614904</td>\n",
       "      <td>0.134234</td>\n",
       "      <td>4.580836</td>\n",
       "      <td>4.631207e-06</td>\n",
       "      <td>2.161864e-04</td>\n",
       "      <td>AL627309.1</td>\n",
       "    </tr>\n",
       "    <tr>\n",
       "      <th>ENSG00000131591.13</th>\n",
       "      <td>643.246652</td>\n",
       "      <td>0.569510</td>\n",
       "      <td>0.171856</td>\n",
       "      <td>3.313880</td>\n",
       "      <td>9.201102e-04</td>\n",
       "      <td>1.252918e-02</td>\n",
       "      <td>C1orf159</td>\n",
       "    </tr>\n",
       "    <tr>\n",
       "      <th>ENSG00000162441.7</th>\n",
       "      <td>623.046038</td>\n",
       "      <td>-0.480924</td>\n",
       "      <td>0.145241</td>\n",
       "      <td>-3.311205</td>\n",
       "      <td>9.289504e-04</td>\n",
       "      <td>1.257909e-02</td>\n",
       "      <td>LZIC</td>\n",
       "    </tr>\n",
       "    <tr>\n",
       "      <th>ENSG00000120948.11</th>\n",
       "      <td>5858.325063</td>\n",
       "      <td>-0.541656</td>\n",
       "      <td>0.089319</td>\n",
       "      <td>-6.064274</td>\n",
       "      <td>1.325509e-09</td>\n",
       "      <td>2.455361e-07</td>\n",
       "      <td>TARDBP</td>\n",
       "    </tr>\n",
       "    <tr>\n",
       "      <th>ENSG00000198793.8</th>\n",
       "      <td>3341.760589</td>\n",
       "      <td>-0.283734</td>\n",
       "      <td>0.092995</td>\n",
       "      <td>-3.051071</td>\n",
       "      <td>2.280263e-03</td>\n",
       "      <td>2.293546e-02</td>\n",
       "      <td>MTOR</td>\n",
       "    </tr>\n",
       "  </tbody>\n",
       "</table>\n",
       "</div>"
      ],
      "text/plain": [
       "                       baseMean  log2FoldChange     lfcSE      stat  \\\n",
       "ENSG00000237683.5   1341.555393        0.614904  0.134234  4.580836   \n",
       "ENSG00000131591.13   643.246652        0.569510  0.171856  3.313880   \n",
       "ENSG00000162441.7    623.046038       -0.480924  0.145241 -3.311205   \n",
       "ENSG00000120948.11  5858.325063       -0.541656  0.089319 -6.064274   \n",
       "ENSG00000198793.8   3341.760589       -0.283734  0.092995 -3.051071   \n",
       "\n",
       "                          pvalue          padj   gene_name  \n",
       "ENSG00000237683.5   4.631207e-06  2.161864e-04  AL627309.1  \n",
       "ENSG00000131591.13  9.201102e-04  1.252918e-02    C1orf159  \n",
       "ENSG00000162441.7   9.289504e-04  1.257909e-02        LZIC  \n",
       "ENSG00000120948.11  1.325509e-09  2.455361e-07      TARDBP  \n",
       "ENSG00000198793.8   2.280263e-03  2.293546e-02        MTOR  "
      ]
     },
     "execution_count": 25,
     "metadata": {},
     "output_type": "execute_result"
    }
   ],
   "source": [
    "#Filter for an adjusted p value less than 0.05\n",
    "\n",
    "sig_genes = deseq2_output_with_genes.loc[deseq2_output_with_genes['padj'] < 0.05]\n",
    "print sig_genes.shape\n",
    "sig_genes.head()"
   ]
  },
  {
   "cell_type": "code",
   "execution_count": 41,
   "metadata": {
    "collapsed": false
   },
   "outputs": [],
   "source": [
    "#Save your significant genes\n",
    "\n",
    "sig_genes.to_csv(directory+'sig_diff_expr_gene.csv')"
   ]
  },
  {
   "cell_type": "code",
   "execution_count": 35,
   "metadata": {
    "collapsed": false
   },
   "outputs": [
    {
     "data": {
      "text/html": [
       "<div>\n",
       "<table border=\"1\" class=\"dataframe\">\n",
       "  <thead>\n",
       "    <tr style=\"text-align: right;\">\n",
       "      <th></th>\n",
       "      <th>baseMean</th>\n",
       "      <th>log2FoldChange</th>\n",
       "      <th>lfcSE</th>\n",
       "      <th>stat</th>\n",
       "      <th>pvalue</th>\n",
       "      <th>padj</th>\n",
       "      <th>gene_name</th>\n",
       "    </tr>\n",
       "  </thead>\n",
       "  <tbody>\n",
       "    <tr>\n",
       "      <th>ENSG00000187772.6</th>\n",
       "      <td>1378.757254</td>\n",
       "      <td>-1.484138</td>\n",
       "      <td>0.123014</td>\n",
       "      <td>-12.064751</td>\n",
       "      <td>1.621515e-33</td>\n",
       "      <td>6.908466e-30</td>\n",
       "      <td>LIN28B</td>\n",
       "    </tr>\n",
       "  </tbody>\n",
       "</table>\n",
       "</div>"
      ],
      "text/plain": [
       "                      baseMean  log2FoldChange     lfcSE       stat  \\\n",
       "ENSG00000187772.6  1378.757254       -1.484138  0.123014 -12.064751   \n",
       "\n",
       "                         pvalue          padj gene_name  \n",
       "ENSG00000187772.6  1.621515e-33  6.908466e-30    LIN28B  "
      ]
     },
     "execution_count": 35,
     "metadata": {},
     "output_type": "execute_result"
    }
   ],
   "source": [
    "#Handy way to look up genes that you are specifically interested in\n",
    "deseq2_output_with_genes.loc[deseq2_output_with_genes['gene_name'] == 'LIN28B']"
   ]
  },
  {
   "cell_type": "code",
   "execution_count": null,
   "metadata": {
    "collapsed": true
   },
   "outputs": [],
   "source": []
  }
 ],
 "metadata": {
  "kernelspec": {
   "display_name": "Python 2",
   "language": "python",
   "name": "python2"
  },
  "language_info": {
   "codemirror_mode": {
    "name": "ipython",
    "version": 2
   },
   "file_extension": ".py",
   "mimetype": "text/x-python",
   "name": "python",
   "nbconvert_exporter": "python",
   "pygments_lexer": "ipython2",
   "version": "2.7.12"
  }
 },
 "nbformat": 4,
 "nbformat_minor": 0
}
