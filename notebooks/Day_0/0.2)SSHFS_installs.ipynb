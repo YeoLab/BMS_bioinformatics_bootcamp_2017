{
 "cells": [
  {
   "cell_type": "markdown",
   "metadata": {},
   "source": [
    "# SSHFS"
   ]
  },
  {
   "cell_type": "markdown",
   "metadata": {},
   "source": [
    "SSHFS is a great tool to mount and interact with files and directories that are located on a remote server (TSCC) right on your own computer. It allows for file sharing, transfer, and management through simple point-and-click actions rather than command-line, which can be super useful! Therefore, we thing it's pretty worthwhile to set up. To do so, please follow the relevant instructions below:"
   ]
  },
  {
   "cell_type": "markdown",
   "metadata": {},
   "source": [
    "# For Mac Users"
   ]
  },
  {
   "cell_type": "markdown",
   "metadata": {},
   "source": [
    "**1) Setup sshfs**\n",
    "\n",
    "Download Fuse for mac [here](https://osxfuse.github.io/). You need to complete BOTH downloads from the \"Stable Releases\" box (FUSE and sshfs). \n",
    "\n",
    "Make a folder on your desktop called \"sshfs-home\"\n",
    "\n",
    "Run the following command from a terminal window that is NOT logged onto TSCC:\n",
    "\n",
    "    sshfs -o follow_symlinks ucsd-train##@tscc-login.sdsc.edu:/home/ucsd-train##/ ~/Desktop/sshfs-home/\n",
    "    \n",
    "To unmount your folder, drag the desktop icon to your trash. You can reload it again with the above command."
   ]
  },
  {
   "cell_type": "markdown",
   "metadata": {},
   "source": [
    "# For Windows Users"
   ]
  },
  {
   "cell_type": "markdown",
   "metadata": {},
   "source": [
    "**1) Setup sshfs**\n",
    "\n",
    "For Windows versions before 10, download win-sshfs manager [here](http://download.cnet.com/win-sshfs/3000-7240_4-75642379.html). Follow the instructions to complete the download and installation.\n",
    "\n",
    "For Windows 10, you need to Install  Win-SSHFS and a compatible Dokan for this to work correctly. Start by first downloading and installing Dokan 1.0.3 [here](https://github.com/dokan-dev/dokany/releases/tag/v1.0.3) by clicking on \"DokanSetup.exe\" and following instructions for installation.\n",
    "\n",
    "Next, download the latest version of Win-SSHFS for Windows10 [here](https://github.com/Foreveryone-cz/win-sshfs/releases/tag/1.6.1) by clicking on \"WinSSHFS-1.6.1.13-devel.msi.\" Once downloaded, click \"WinSSHFS-1.6.1.13-devel\". An icon should appear on your Desktop.\n",
    "\n",
    "\n",
    "Go back into puttygen where you generated your public/private key. Load the one you already generated and enter your pass code from before. Once it has been loaded select \"Conversion\" and then \"export OpenSSH key.\" Give this a new name and save it somewhere you will find it again later.\n",
    "\n",
    "Open the installed sshfs manager and fill in the following information:\n",
    "\n",
    "Drive Name: TSCC-home\n",
    "\n",
    "Host: tscc.sdsc.edu\n",
    "\n",
    "Port: 22\n",
    "\n",
    "Username: ucsd-train## (remember to replace ## with your train number)\n",
    "\n",
    "Authentication method: Private Key\n",
    "\n",
    "Load your private key file that you exported above.\n",
    "\n",
    "Enter your password in the empty box below your private key.\n",
    "\n",
    "Directory: /home/ucsd-train## (remember to replace ## with your train number)\n",
    "\n",
    "Drive letter: Wherever you want it to appear in your computer.\n",
    "\n",
    "Save your settings and click the \"Mount\" button at the bottom to mount. Use the same button to unmount when you are done.\n",
    "\n",
    "Go open the drive that you specified on your computer. Your directory will be mounted there."
   ]
  },
  {
   "cell_type": "markdown",
   "metadata": {
    "collapsed": true
   },
   "source": [
    "**2) Setup Win-SCP**\n",
    "\n",
    "As a backup/alternative method for file transfer, Windows users might also like to set up Win-SCP, which can be downloaded [here](\"https://winscp.net/eng/download.php\"). Click on \"Installation Package\" under \"WinSCP 5.11.1\" to begin download of the installer. Once downloaded, run and continue with instructions to finish. You will be aked if you would like to load previously setup host keys from PuTTY. Say yes to continue.\n",
    "\n",
    "In your login screen, select tscc from your host menu on the left. Click login at the bottom and enter your passphrase. If successful, you will be successfully connected to your home directory on TSCC. The files should be listed on the right. You can now download files from TSCC by clicking on them and pressing the \"Download\" button. Although not quite as versatile as SSHFS, this is a good method of easily obtaining files from a remote server. "
   ]
  },
  {
   "cell_type": "code",
   "execution_count": null,
   "metadata": {
    "collapsed": true
   },
   "outputs": [],
   "source": []
  }
 ],
 "metadata": {
  "kernelspec": {
   "display_name": "Python [Root]",
   "language": "python",
   "name": "Python [Root]"
  },
  "language_info": {
   "codemirror_mode": {
    "name": "ipython",
    "version": 2
   },
   "file_extension": ".py",
   "mimetype": "text/x-python",
   "name": "python",
   "nbconvert_exporter": "python",
   "pygments_lexer": "ipython2",
   "version": "2.7.12"
  }
 },
 "nbformat": 4,
 "nbformat_minor": 0
}
