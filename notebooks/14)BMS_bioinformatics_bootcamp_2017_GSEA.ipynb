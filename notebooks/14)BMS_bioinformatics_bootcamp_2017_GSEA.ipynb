{
 "cells": [
  {
   "cell_type": "markdown",
   "metadata": {},
   "source": [
    "# Gene Set Enrichment Analysis (GSEA)"
   ]
  },
  {
   "cell_type": "markdown",
   "metadata": {},
   "source": [
    "Gene Set Enrichment Analysis (GSEA) identifies gene sets that are up- or downregulated between two conditions. The GSEA method can be summarized as:\n",
    "\n",
    "1. Take gene expression data from two different types of samples (e.g., treated vs non-treated) and rank all genes according to their degree of differential expression across the groups.\n",
    "2. Take a group of genes of interest (e.g., pathway, locus, etc.) and determine whether they are differentially expressed as a set (enriched) within the ranked gene expression data.\n",
    "3. Determine the significance of the enrichment analysis score via a permutation test: randomly swap the gene-set labels of the data and repeat the test many times."
   ]
  },
  {
   "cell_type": "markdown",
   "metadata": {},
   "source": [
    "## Workshop data and GSEA parameters\n",
    "\n",
    "We will run GSEA on the two K562 samples provided previously in the workshop to determine which gene sets are coordinately up-and downregulated in the treated vs non-treated data. This dataset will require us to change several of the default parameters:\n",
    "\n",
    "<b>permutation type</b>. Because there are only 4 samples, a class-label permutation test will not result in any significant gene sets. We will instead use a <b>gene set permutation</b>, which creates “random” gene sets (genes randomly selected from those in the expression dataset) of equal size to the gene sets under analysis.\n",
    "\n",
    "<b>collapse dataset</b>. GSEA also has a <b>collapse dataset</b> parameter. This is used when the dataset contains accession numbers or other IDs that may contain multiple representatives per gene. It is used most frequently for microarray data, to collapse array probes to gene names. Because the dataset we have provided already has gene names associated with it, we will choose not to collapse it."
   ]
  },
  {
   "cell_type": "code",
   "execution_count": 3,
   "metadata": {
    "genepattern": {
     "server": "https://genepattern.broadinstitute.org/gp",
     "type": "auth"
    }
   },
   "outputs": [
    {
     "data": {
      "application/vnd.jupyter.widget-view+json": {
       "model_id": "737db7c3066144b6a71579ad0087e952"
      }
     },
     "metadata": {},
     "output_type": "display_data"
    }
   ],
   "source": [
    "# Requires GenePattern Notebook: pip install genepattern-notebook\n",
    "import gp\n",
    "import genepattern\n",
    "\n",
    "# Username and password removed for security reasons.\n",
    "genepattern.GPAuthWidget(genepattern.register_session(\"https://genepattern.broadinstitute.org/gp\", \"\", \"\"))"
   ]
  },
  {
   "cell_type": "markdown",
   "metadata": {},
   "source": [
    "<div class=\"alert alert-info\">\n",
    "<h3>Instructions</h3>\n",
    "\n",
    "<ol>\n",
    "<li>For the <strong><em>expression dataset</em></strong> parameter, click and drag <a href=\"https://www.broadinstitute.org/personal/michaelr/BMS_bioinformatics_bootcamp_2017/counts_for_deseq2_genes.preprocessed.gct\" target=\"_blank\">counts_for_deseq2_genes.preprocessed.gct</a> into the <em>&quot;Enter Path or URL&quot; </em>text box</li> \n",
    "<li>For the <strong><em>gene sets database</em></strong> parameter, select <b>h.all.v6.0.symbols.gmt</b> [Hallmarks]</li>\n",
    "<li>For the <strong><em>permutation type</em></strong> parameter, select <b>gene_set</b></li>\n",
    "<li>For the <strong><em>phenotype labels</em></strong> parameter, click and drag <a href=\"https://www.broadinstitute.org/personal/michaelr/BMS_bioinformatics_bootcamp_2017/FTO_vs_NT.cls\" target=\"_blank\">FTO_vs_NT.cls</a> into the <em>&quot;Enter Path or URL&quot; </em>text box</li>   <li>Set the <strong><em>collapse dataset</em></strong> parameter to <b>false</b></li>\n",
    "<li>Click the button <strong><em>Run</em></strong> on the analysis below.</li>\n",
    "</ol>\n",
    "\n",
    "</div>\n"
   ]
  },
  {
   "cell_type": "code",
   "execution_count": 4,
   "metadata": {
    "genepattern": {
     "type": "task"
    }
   },
   "outputs": [
    {
     "data": {
      "application/vnd.jupyter.widget-view+json": {
       "model_id": "d3f48cacfa274fcdafd966273202388e"
      }
     },
     "metadata": {},
     "output_type": "display_data"
    }
   ],
   "source": [
    "gsea_task = gp.GPTask(genepattern.get_session(0), 'urn:lsid:broad.mit.edu:cancer.software.genepattern.module.analysis:00072')\n",
    "gsea_job_spec = gsea_task.make_job_spec()\n",
    "gsea_job_spec.set_parameter(\"expression.dataset\", \"\")\n",
    "gsea_job_spec.set_parameter(\"gene.sets.database\", \"h.all.v6.0.symbols.gmt\")\n",
    "gsea_job_spec.set_parameter(\"gene.sets.database.file\", \"\")\n",
    "gsea_job_spec.set_parameter(\"number.of.permutations\", \"1000\")\n",
    "gsea_job_spec.set_parameter(\"phenotype.labels\", \"\")\n",
    "gsea_job_spec.set_parameter(\"target.profile\", \"\")\n",
    "gsea_job_spec.set_parameter(\"collapse.dataset\", \"false\")\n",
    "gsea_job_spec.set_parameter(\"permutation.type\", \"gene_set\")\n",
    "gsea_job_spec.set_parameter(\"chip.platform.file\", \"\")\n",
    "gsea_job_spec.set_parameter(\"scoring.scheme\", \"weighted\")\n",
    "gsea_job_spec.set_parameter(\"metric.for.ranking.genes\", \"Signal2Noise\")\n",
    "gsea_job_spec.set_parameter(\"gene.list.sorting.mode\", \"real\")\n",
    "gsea_job_spec.set_parameter(\"gene.list.ordering.mode\", \"descending\")\n",
    "gsea_job_spec.set_parameter(\"max.gene.set.size\", \"500\")\n",
    "gsea_job_spec.set_parameter(\"min.gene.set.size\", \"15\")\n",
    "gsea_job_spec.set_parameter(\"collapsing.mode.for.probe.sets.with.more.than.one.match\", \"Max_probe\")\n",
    "gsea_job_spec.set_parameter(\"normalization.mode\", \"meandiv\")\n",
    "gsea_job_spec.set_parameter(\"randomization.mode\", \"no_balance\")\n",
    "gsea_job_spec.set_parameter(\"omit.features.with.no.symbol.match\", \"true\")\n",
    "gsea_job_spec.set_parameter(\"make.detailed.gene.set.report\", \"true\")\n",
    "gsea_job_spec.set_parameter(\"median.for.class.metrics\", \"false\")\n",
    "gsea_job_spec.set_parameter(\"number.of.markers\", \"100\")\n",
    "gsea_job_spec.set_parameter(\"plot.graphs.for.the.top.sets.of.each.phenotype\", \"20\")\n",
    "gsea_job_spec.set_parameter(\"random.seed\", \"timestamp\")\n",
    "gsea_job_spec.set_parameter(\"save.random.ranked.lists\", \"false\")\n",
    "gsea_job_spec.set_parameter(\"output.file.name\", \"<expression.dataset_basename>.zip\")\n",
    "genepattern.GPTaskWidget(gsea_task)"
   ]
  },
  {
   "cell_type": "markdown",
   "metadata": {},
   "source": [
    "## Viewing GSEA Results\n",
    "\n",
    "You should see a result file above with the name <b>counts_for_deseq2_genes.preprocessed.zip</b>. This contains information about all of the gene sets that were identified as enriched in the expression dataset. It is in the format of a set of local web pages, so you will download them to your local machine and unzip them."
   ]
  },
  {
   "cell_type": "markdown",
   "metadata": {},
   "source": [
    "<div class=\"alert alert-info\">\n",
    "<h3>Instructions</h3>\n",
    "\n",
    "<ol>\n",
    "<li>Click the \"i\" icon next to the <b>counts_for_deseq2_genes.preprocessed.zip</b> file in the cell above.</li>\n",
    "<li>Select \"Download File\"</li>\n",
    "<li>Select an accessible location on your local machine.</li>\n",
    "<li>Unzip the result file, either by double-clicking it or by executing <code>unzip counts_for_deseq2_genes.preprocessed.zip</code> on the command line.\n",
    "<li>This will create a directory named <b>counts_for_deseq2_genes.preprocessed</b>.</li>\n",
    "<li>Enter this directory either in your user interface or by executing <code>cd counts_for_deseq2_genes.preprocessed</code></li>\n",
    "<li>The main results page is titled <b>index.html</b>. Open this in your browser, either by double-clicking the file or executing <code>open index.html</code> if you are on an OS X (Mac) computer.</li>\n",
    "</ol>\n"
   ]
  }
 ],
 "metadata": {
  "kernelspec": {
   "display_name": "Python 3.6",
   "language": "python",
   "name": "python3.6"
  },
  "language_info": {
   "codemirror_mode": {
    "name": "ipython",
    "version": 3
   },
   "file_extension": ".py",
   "mimetype": "text/x-python",
   "name": "python",
   "nbconvert_exporter": "python",
   "pygments_lexer": "ipython3",
   "version": "3.6.1"
  }
 },
 "nbformat": 4,
 "nbformat_minor": 2
}
