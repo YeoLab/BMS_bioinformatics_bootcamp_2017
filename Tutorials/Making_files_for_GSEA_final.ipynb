{
 "cells": [
  {
   "cell_type": "markdown",
   "metadata": {},
   "source": [
    "# Making counts files for GSEA"
   ]
  },
  {
   "cell_type": "code",
   "execution_count": 22,
   "metadata": {
    "collapsed": true
   },
   "outputs": [],
   "source": [
    "import pandas as pd"
   ]
  },
  {
   "cell_type": "markdown",
   "metadata": {},
   "source": [
    "Here we will be importing our clean counts file (.csv) format and changing the file format for GSEA. As you might remember from the Genepattern demo, we need to convert our counts and conditions files into compatible [formats](http://software.broadinstitute.org/cancer/software/genepattern/file-formats-guide) before we can use them. In our case, we need both a *GCT file* and a *CSL file.* \n",
    "\n",
    "\n",
    "To do so, we need to use some Genepattern tools to change the format. We will start with [MergeHTSeqCounts](http://software.broadinstitute.org/cancer/software/genepattern/modules/docs/MergeHTSeqCounts/1), which will take a modified version of our counts matrices and reformat them to be GCT files (details in provided link)."
   ]
  },
  {
   "cell_type": "markdown",
   "metadata": {},
   "source": [
    "Let's start by importing our final counts file, that was saved as a CSV file"
   ]
  },
  {
   "cell_type": "code",
   "execution_count": 23,
   "metadata": {},
   "outputs": [
    {
     "data": {
      "text/html": [
       "<div>\n",
       "<style>\n",
       "    .dataframe thead tr:only-child th {\n",
       "        text-align: right;\n",
       "    }\n",
       "\n",
       "    .dataframe thead th {\n",
       "        text-align: left;\n",
       "    }\n",
       "\n",
       "    .dataframe tbody tr th {\n",
       "        vertical-align: top;\n",
       "    }\n",
       "</style>\n",
       "<table border=\"1\" class=\"dataframe\">\n",
       "  <thead>\n",
       "    <tr style=\"text-align: right;\">\n",
       "      <th></th>\n",
       "      <th>FTO_shrna_rep1</th>\n",
       "      <th>FTO_shrna_rep2</th>\n",
       "      <th>FTO_control_rep1</th>\n",
       "      <th>FTO_control_rep2</th>\n",
       "    </tr>\n",
       "    <tr>\n",
       "      <th>Geneid</th>\n",
       "      <th></th>\n",
       "      <th></th>\n",
       "      <th></th>\n",
       "      <th></th>\n",
       "    </tr>\n",
       "  </thead>\n",
       "  <tbody>\n",
       "    <tr>\n",
       "      <th>ENSG00000227232.4</th>\n",
       "      <td>154</td>\n",
       "      <td>257</td>\n",
       "      <td>170</td>\n",
       "      <td>183</td>\n",
       "    </tr>\n",
       "    <tr>\n",
       "      <th>ENSG00000238009.2</th>\n",
       "      <td>126</td>\n",
       "      <td>165</td>\n",
       "      <td>159</td>\n",
       "      <td>176</td>\n",
       "    </tr>\n",
       "    <tr>\n",
       "      <th>ENSG00000237683.5</th>\n",
       "      <td>773</td>\n",
       "      <td>1079</td>\n",
       "      <td>890</td>\n",
       "      <td>931</td>\n",
       "    </tr>\n",
       "    <tr>\n",
       "      <th>ENSG00000239906.1</th>\n",
       "      <td>28</td>\n",
       "      <td>32</td>\n",
       "      <td>46</td>\n",
       "      <td>47</td>\n",
       "    </tr>\n",
       "    <tr>\n",
       "      <th>ENSG00000241860.2</th>\n",
       "      <td>84</td>\n",
       "      <td>95</td>\n",
       "      <td>96</td>\n",
       "      <td>101</td>\n",
       "    </tr>\n",
       "  </tbody>\n",
       "</table>\n",
       "</div>"
      ],
      "text/plain": [
       "                   FTO_shrna_rep1  FTO_shrna_rep2  FTO_control_rep1  \\\n",
       "Geneid                                                                \n",
       "ENSG00000227232.4             154             257               170   \n",
       "ENSG00000238009.2             126             165               159   \n",
       "ENSG00000237683.5             773            1079               890   \n",
       "ENSG00000239906.1              28              32                46   \n",
       "ENSG00000241860.2              84              95                96   \n",
       "\n",
       "                   FTO_control_rep2  \n",
       "Geneid                               \n",
       "ENSG00000227232.4               183  \n",
       "ENSG00000238009.2               176  \n",
       "ENSG00000237683.5               931  \n",
       "ENSG00000239906.1                47  \n",
       "ENSG00000241860.2               101  "
      ]
     },
     "execution_count": 23,
     "metadata": {},
     "output_type": "execute_result"
    }
   ],
   "source": [
    "data_dir = \"/home/ucsd-train01/projects/fto_shrna/deseq2/\"\n",
    "\n",
    "fto_counts = pd.read_csv(data_dir+\"fto_counts_for_deseq2.csv\",index_col=0,comment=\"#\")\n",
    "\n",
    "fto_counts.head()"
   ]
  },
  {
   "cell_type": "code",
   "execution_count": 24,
   "metadata": {},
   "outputs": [
    {
     "data": {
      "text/html": [
       "<div>\n",
       "<style>\n",
       "    .dataframe thead tr:only-child th {\n",
       "        text-align: right;\n",
       "    }\n",
       "\n",
       "    .dataframe thead th {\n",
       "        text-align: left;\n",
       "    }\n",
       "\n",
       "    .dataframe tbody tr th {\n",
       "        vertical-align: top;\n",
       "    }\n",
       "</style>\n",
       "<table border=\"1\" class=\"dataframe\">\n",
       "  <thead>\n",
       "    <tr style=\"text-align: right;\">\n",
       "      <th></th>\n",
       "      <th>FTO_shrna_rep1</th>\n",
       "      <th>FTO_shrna_rep2</th>\n",
       "      <th>FTO_control_rep1</th>\n",
       "      <th>FTO_control_rep2</th>\n",
       "      <th>sym</th>\n",
       "    </tr>\n",
       "    <tr>\n",
       "      <th>Geneid</th>\n",
       "      <th></th>\n",
       "      <th></th>\n",
       "      <th></th>\n",
       "      <th></th>\n",
       "      <th></th>\n",
       "    </tr>\n",
       "  </thead>\n",
       "  <tbody>\n",
       "    <tr>\n",
       "      <th>ENSG00000227232.4</th>\n",
       "      <td>154</td>\n",
       "      <td>257</td>\n",
       "      <td>170</td>\n",
       "      <td>183</td>\n",
       "      <td>WASH7P</td>\n",
       "    </tr>\n",
       "    <tr>\n",
       "      <th>ENSG00000238009.2</th>\n",
       "      <td>126</td>\n",
       "      <td>165</td>\n",
       "      <td>159</td>\n",
       "      <td>176</td>\n",
       "      <td>RP11-34P13.7</td>\n",
       "    </tr>\n",
       "    <tr>\n",
       "      <th>ENSG00000237683.5</th>\n",
       "      <td>773</td>\n",
       "      <td>1079</td>\n",
       "      <td>890</td>\n",
       "      <td>931</td>\n",
       "      <td>AL627309.1</td>\n",
       "    </tr>\n",
       "    <tr>\n",
       "      <th>ENSG00000239906.1</th>\n",
       "      <td>28</td>\n",
       "      <td>32</td>\n",
       "      <td>46</td>\n",
       "      <td>47</td>\n",
       "      <td>RP11-34P13.14</td>\n",
       "    </tr>\n",
       "    <tr>\n",
       "      <th>ENSG00000241860.2</th>\n",
       "      <td>84</td>\n",
       "      <td>95</td>\n",
       "      <td>96</td>\n",
       "      <td>101</td>\n",
       "      <td>RP11-34P13.13</td>\n",
       "    </tr>\n",
       "  </tbody>\n",
       "</table>\n",
       "</div>"
      ],
      "text/plain": [
       "                   FTO_shrna_rep1  FTO_shrna_rep2  FTO_control_rep1  \\\n",
       "Geneid                                                                \n",
       "ENSG00000227232.4             154             257               170   \n",
       "ENSG00000238009.2             126             165               159   \n",
       "ENSG00000237683.5             773            1079               890   \n",
       "ENSG00000239906.1              28              32                46   \n",
       "ENSG00000241860.2              84              95                96   \n",
       "\n",
       "                   FTO_control_rep2            sym  \n",
       "Geneid                                              \n",
       "ENSG00000227232.4               183         WASH7P  \n",
       "ENSG00000238009.2               176   RP11-34P13.7  \n",
       "ENSG00000237683.5               931     AL627309.1  \n",
       "ENSG00000239906.1                47  RP11-34P13.14  \n",
       "ENSG00000241860.2               101  RP11-34P13.13  "
      ]
     },
     "execution_count": 24,
     "metadata": {},
     "output_type": "execute_result"
    }
   ],
   "source": [
    "# Since the input of the GCT file uses gene names, let's import that information from a gencode\n",
    "# annotation file with our gene names and merge with our dataframe\n",
    "names_dir = \"/oasis/tscc/scratch/biom200/fto_clip/\"\n",
    "\n",
    "gene_names = pd.read_table(names_dir+\"gencode.v19.annotation.genenames.txt\", index_col=0)\n",
    "\n",
    "fto_counts = fto_counts.join(gene_names)\n",
    "fto_counts.head()"
   ]
  },
  {
   "cell_type": "code",
   "execution_count": 25,
   "metadata": {},
   "outputs": [
    {
     "data": {
      "text/html": [
       "<div>\n",
       "<style>\n",
       "    .dataframe thead tr:only-child th {\n",
       "        text-align: right;\n",
       "    }\n",
       "\n",
       "    .dataframe thead th {\n",
       "        text-align: left;\n",
       "    }\n",
       "\n",
       "    .dataframe tbody tr th {\n",
       "        vertical-align: top;\n",
       "    }\n",
       "</style>\n",
       "<table border=\"1\" class=\"dataframe\">\n",
       "  <thead>\n",
       "    <tr style=\"text-align: right;\">\n",
       "      <th></th>\n",
       "      <th>FTO_shrna_rep1</th>\n",
       "      <th>FTO_shrna_rep2</th>\n",
       "      <th>FTO_control_rep1</th>\n",
       "      <th>FTO_control_rep2</th>\n",
       "    </tr>\n",
       "    <tr>\n",
       "      <th>sym</th>\n",
       "      <th></th>\n",
       "      <th></th>\n",
       "      <th></th>\n",
       "      <th></th>\n",
       "    </tr>\n",
       "  </thead>\n",
       "  <tbody>\n",
       "    <tr>\n",
       "      <th>WASH7P</th>\n",
       "      <td>154</td>\n",
       "      <td>257</td>\n",
       "      <td>170</td>\n",
       "      <td>183</td>\n",
       "    </tr>\n",
       "    <tr>\n",
       "      <th>RP11-34P13.7</th>\n",
       "      <td>126</td>\n",
       "      <td>165</td>\n",
       "      <td>159</td>\n",
       "      <td>176</td>\n",
       "    </tr>\n",
       "    <tr>\n",
       "      <th>AL627309.1</th>\n",
       "      <td>773</td>\n",
       "      <td>1079</td>\n",
       "      <td>890</td>\n",
       "      <td>931</td>\n",
       "    </tr>\n",
       "    <tr>\n",
       "      <th>RP11-34P13.14</th>\n",
       "      <td>28</td>\n",
       "      <td>32</td>\n",
       "      <td>46</td>\n",
       "      <td>47</td>\n",
       "    </tr>\n",
       "    <tr>\n",
       "      <th>RP11-34P13.13</th>\n",
       "      <td>84</td>\n",
       "      <td>95</td>\n",
       "      <td>96</td>\n",
       "      <td>101</td>\n",
       "    </tr>\n",
       "  </tbody>\n",
       "</table>\n",
       "</div>"
      ],
      "text/plain": [
       "               FTO_shrna_rep1  FTO_shrna_rep2  FTO_control_rep1  \\\n",
       "sym                                                               \n",
       "WASH7P                    154             257               170   \n",
       "RP11-34P13.7              126             165               159   \n",
       "AL627309.1                773            1079               890   \n",
       "RP11-34P13.14              28              32                46   \n",
       "RP11-34P13.13              84              95                96   \n",
       "\n",
       "               FTO_control_rep2  \n",
       "sym                              \n",
       "WASH7P                      183  \n",
       "RP11-34P13.7                176  \n",
       "AL627309.1                  931  \n",
       "RP11-34P13.14                47  \n",
       "RP11-34P13.13               101  "
      ]
     },
     "execution_count": 25,
     "metadata": {},
     "output_type": "execute_result"
    }
   ],
   "source": [
    "# We will then go ahead and make the gene name column our (temporary) index\n",
    "fto_counts = fto_counts.set_index(['sym'])\n",
    "fto_counts.head()"
   ]
  },
  {
   "cell_type": "code",
   "execution_count": 26,
   "metadata": {},
   "outputs": [
    {
     "data": {
      "text/plain": [
       "sym\n",
       "WASH7P           154\n",
       "RP11-34P13.7     126\n",
       "AL627309.1       773\n",
       "RP11-34P13.14     28\n",
       "RP11-34P13.13     84\n",
       "Name: FTO_shrna_rep1, dtype: int64"
      ]
     },
     "execution_count": 26,
     "metadata": {},
     "output_type": "execute_result"
    }
   ],
   "source": [
    "# Now we want to make our individual counts columns into separate files. The file format will \n",
    "# be a tab delimited format (.txt) AND will be missing a header. Beacause we will eliminate the \n",
    "# header, it is IMPORTANT to name your individual files something meaningful:\n",
    "\n",
    "FTO_shrna_rep1 = fto_counts['FTO_shrna_rep1']\n",
    "FTO_shrna_rep1.head()"
   ]
  },
  {
   "cell_type": "code",
   "execution_count": 27,
   "metadata": {
    "collapsed": true
   },
   "outputs": [],
   "source": [
    "# We will now do this for the remainder of our samples \n",
    "FTO_shrna_rep2 = fto_counts['FTO_shrna_rep2']\n",
    "FTO_control_rep1 = fto_counts['FTO_control_rep1']\n",
    "FTO_control_rep2 = fto_counts['FTO_control_rep2']"
   ]
  },
  {
   "cell_type": "code",
   "execution_count": 28,
   "metadata": {
    "collapsed": true
   },
   "outputs": [],
   "source": [
    "# We now want to save theses as independent text files with no header \n",
    "FTO_shrna_rep1.to_csv(data_dir+\"FTO_shrna_rep1.txt\",header=False,sep=\"\\t\")"
   ]
  },
  {
   "cell_type": "code",
   "execution_count": 29,
   "metadata": {},
   "outputs": [
    {
     "data": {
      "text/html": [
       "<div>\n",
       "<style>\n",
       "    .dataframe thead tr:only-child th {\n",
       "        text-align: right;\n",
       "    }\n",
       "\n",
       "    .dataframe thead th {\n",
       "        text-align: left;\n",
       "    }\n",
       "\n",
       "    .dataframe tbody tr th {\n",
       "        vertical-align: top;\n",
       "    }\n",
       "</style>\n",
       "<table border=\"1\" class=\"dataframe\">\n",
       "  <thead>\n",
       "    <tr style=\"text-align: right;\">\n",
       "      <th></th>\n",
       "      <th>0</th>\n",
       "      <th>1</th>\n",
       "    </tr>\n",
       "  </thead>\n",
       "  <tbody>\n",
       "    <tr>\n",
       "      <th>0</th>\n",
       "      <td>WASH7P</td>\n",
       "      <td>154</td>\n",
       "    </tr>\n",
       "    <tr>\n",
       "      <th>1</th>\n",
       "      <td>RP11-34P13.7</td>\n",
       "      <td>126</td>\n",
       "    </tr>\n",
       "    <tr>\n",
       "      <th>2</th>\n",
       "      <td>AL627309.1</td>\n",
       "      <td>773</td>\n",
       "    </tr>\n",
       "    <tr>\n",
       "      <th>3</th>\n",
       "      <td>RP11-34P13.14</td>\n",
       "      <td>28</td>\n",
       "    </tr>\n",
       "    <tr>\n",
       "      <th>4</th>\n",
       "      <td>RP11-34P13.13</td>\n",
       "      <td>84</td>\n",
       "    </tr>\n",
       "  </tbody>\n",
       "</table>\n",
       "</div>"
      ],
      "text/plain": [
       "               0    1\n",
       "0         WASH7P  154\n",
       "1   RP11-34P13.7  126\n",
       "2     AL627309.1  773\n",
       "3  RP11-34P13.14   28\n",
       "4  RP11-34P13.13   84"
      ]
     },
     "execution_count": 29,
     "metadata": {},
     "output_type": "execute_result"
    }
   ],
   "source": [
    "# What does out file look like now? Let's take a quick look:\n",
    "\n",
    "FTO_shrna_r1_tab = pd.read_table(data_dir+\"FTO_shrna_rep1.txt\",header=None)\n",
    "FTO_shrna_r1_tab.head()"
   ]
  },
  {
   "cell_type": "code",
   "execution_count": 30,
   "metadata": {
    "collapsed": true
   },
   "outputs": [],
   "source": [
    "# It looks like it fits the format that we want (delimited text file, first column contains \n",
    "# the gene symbol and the second column specifies the read count). Let's repeat for out other \n",
    "# columns.\n",
    "\n",
    "FTO_shrna_rep2.to_csv(data_dir+\"FTO_shrna_rep2.txt\",header=False,sep=\"\\t\")\n",
    "FTO_control_rep1.to_csv(data_dir+\"FTO_control_rep1.txt\",header=False,sep=\"\\t\")\n",
    "FTO_control_rep2.to_csv(data_dir+\"FTO_control_rep2.txt\",header=False,sep=\"\\t\")"
   ]
  },
  {
   "cell_type": "markdown",
   "metadata": {},
   "source": [
    "I'm now going to launch a Genepattern login session using the *Tools* icon located above:"
   ]
  },
  {
   "cell_type": "code",
   "execution_count": 13,
   "metadata": {
    "genepattern": {
     "server": "https://genepattern.broadinstitute.org/gp",
     "type": "auth"
    }
   },
   "outputs": [
    {
     "data": {
      "application/vnd.jupyter.widget-view+json": {
       "model_id": "70b680c2ea0e4f338438f21eea70c9df"
      }
     },
     "metadata": {},
     "output_type": "display_data"
    }
   ],
   "source": [
    "# Requires GenePattern Notebook: pip install genepattern-notebook\n",
    "import gp\n",
    "import genepattern\n",
    "\n",
    "# Username and password removed for security reasons.\n",
    "genepattern.GPAuthWidget(genepattern.register_session(\"https://genepattern.broadinstitute.org/gp\", \"\", \"\"))"
   ]
  },
  {
   "cell_type": "markdown",
   "metadata": {},
   "source": [
    "**Making GCT files**\n",
    "\n",
    "Once logged in, I will open the progam MergeHTSeqCounts using the tools icon again:\n",
    "\n",
    "Make sure to upload ALL of your files into the input files section in the order that you would like them to be in the final dataframe. I choose [control_1, control_2, shrna_1, shrna_2]. Use sshfs to do this, then press *Run*:"
   ]
  },
  {
   "cell_type": "code",
   "execution_count": 18,
   "metadata": {
    "genepattern": {
     "type": "task"
    }
   },
   "outputs": [
    {
     "data": {
      "application/vnd.jupyter.widget-view+json": {
       "model_id": "22ad5c9f78a04a07a6908d453c8ba855"
      }
     },
     "metadata": {},
     "output_type": "display_data"
    }
   ],
   "source": [
    "mergehtseqcounts_task = gp.GPTask(genepattern.get_session(0), 'urn:lsid:broad.mit.edu:cancer.software.genepattern.module.analysis:00354')\n",
    "mergehtseqcounts_job_spec = mergehtseqcounts_task.make_job_spec()\n",
    "mergehtseqcounts_job_spec.set_parameter(\"input.files\", [\"https://genepattern.broadinstitute.org/gp/users/rmarina%40ucsd.edu/tmp/run9117143890045340230.tmp/FTO_control_rep1.txt\", \"https://genepattern.broadinstitute.org/gp/users/rmarina%40ucsd.edu/tmp/run7772597350920226555.tmp/FTO_control_rep2.txt\", \"https://genepattern.broadinstitute.org/gp/users/rmarina%40ucsd.edu/tmp/run4036849629561514713.tmp/FTO_shrna_rep1.txt\", \"https://genepattern.broadinstitute.org/gp/users/rmarina%40ucsd.edu/tmp/run7783167360217589325.tmp/FTO_shrna_rep2.txt\"])\n",
    "mergehtseqcounts_job_spec.set_parameter(\"output.prefix\", \"FTO_shRNA_k562\")\n",
    "genepattern.GPTaskWidget(mergehtseqcounts_task)"
   ]
  },
  {
   "cell_type": "code",
   "execution_count": 20,
   "metadata": {
    "genepattern": {
     "type": "job"
    }
   },
   "outputs": [
    {
     "data": {
      "application/vnd.jupyter.widget-view+json": {
       "model_id": "6510d10ae6d7480da2d2a4d82a6e2174"
      }
     },
     "metadata": {},
     "output_type": "display_data"
    }
   ],
   "source": [
    "job1557259 = gp.GPJob(genepattern.get_session(0), 1557259)\n",
    "genepattern.GPJobWidget(job1557259)"
   ]
  },
  {
   "cell_type": "markdown",
   "metadata": {},
   "source": [
    "**Making CLS files**\n",
    "Download and take a look at the text file with a text editor on your local computer. Does it look like how a GCT file is supposed to? If so, we can move to the next stage, which involves creating our CLS file from out GCT. This will define our conditions from our experiment.\n",
    "\n",
    "- Move the output file of MergeHTSeqCounts to the ClsFileCreator input file area and run:\n",
    "- Check all of your samples and assign them a class (eg. knockdown, control). \n",
    "- Assign your samples to their respective classes with the arrow icons. Classes can be    controlled with the pulldown tab on the right. \n",
    "- Once everything looks in order, review and save."
   ]
  },
  {
   "cell_type": "code",
   "execution_count": 14,
   "metadata": {
    "genepattern": {
     "type": "task"
    }
   },
   "outputs": [
    {
     "data": {
      "application/vnd.jupyter.widget-view+json": {
       "model_id": "324f8fe14b5e4ba1acc785c4a3e53a18"
      }
     },
     "metadata": {},
     "output_type": "display_data"
    }
   ],
   "source": [
    "clsfilecreator_task = gp.GPTask(genepattern.get_session(0), 'urn:lsid:broad.mit.edu:cancer.software.genepattern.module.visualizer:00261')\n",
    "clsfilecreator_job_spec = clsfilecreator_task.make_job_spec()\n",
    "clsfilecreator_job_spec.set_parameter(\"input.file\", \"https://genepattern.broadinstitute.org/gp/jobResults/1556971/FTO_shRNA_k562.gct\")\n",
    "genepattern.GPTaskWidget(clsfilecreator_task)"
   ]
  },
  {
   "cell_type": "code",
   "execution_count": 15,
   "metadata": {
    "genepattern": {
     "type": "job"
    }
   },
   "outputs": [
    {
     "data": {
      "application/vnd.jupyter.widget-view+json": {
       "model_id": "01604809e48b41538800d117f39aa043"
      }
     },
     "metadata": {},
     "output_type": "display_data"
    }
   ],
   "source": [
    "job1556972 = gp.GPJob(genepattern.get_session(0), 1556972)\n",
    "genepattern.GPJobWidget(job1556972)"
   ]
  },
  {
   "cell_type": "markdown",
   "metadata": {},
   "source": [
    "**Modifying GCT file (getting rid of redundant column**\n",
    "\n",
    "We are ALMOST ready to do our GSEA analysis. We have one more thing that we need to do before we are ready, and that is get rid of an extra column in our GCT file. To do this we will:\n",
    "\n",
    "1.) Download out GCT file to our local computer. It should be in a tab-delimited GCT file format that can be opened through text editor.\n",
    "2.) Change the file extension on the .gct file to .txt. This will ensure Excel will recognize and open out file.\n",
    "3.) Open Microsoft Excel and open a new workbook. Go to File and select Import and choose txt file. This will make a make a cell-separated file that can then be edited in Excel.\n",
    "4.) Go to the Descriptions column. Notice that these cells are the same as the Name column. Keeping the header (\"Descriptions\"), clear the contents of the remaining cells below. This will ensure that our Descriptions column is empty.\n",
    "5.) \"Save As\" a tab-delimited text file (.txt). \n",
    "6.) Rename this file as a .gct file, and make sure to get rid of any .txt extensions. GSEA will only recognize files that have a .gct extension."
   ]
  },
  {
   "cell_type": "markdown",
   "metadata": {},
   "source": [
    "Now we should have everything we need for GSEA analysis:"
   ]
  },
  {
   "cell_type": "code",
   "execution_count": 16,
   "metadata": {
    "genepattern": {
     "type": "task"
    }
   },
   "outputs": [
    {
     "data": {
      "application/vnd.jupyter.widget-view+json": {
       "model_id": "ba45b89e25fe430facc0f11b325ab60c"
      }
     },
     "metadata": {},
     "output_type": "display_data"
    }
   ],
   "source": [
    "gsea_task = gp.GPTask(genepattern.get_session(0), 'urn:lsid:broad.mit.edu:cancer.software.genepattern.module.analysis:00072')\n",
    "gsea_job_spec = gsea_task.make_job_spec()\n",
    "gsea_job_spec.set_parameter(\"expression.dataset\", \"https://genepattern.broadinstitute.org/gp/users/rmarina%40ucsd.edu/tmp/run8238873762206304373.tmp/FTO_counts_for_GSEA.gct\")\n",
    "gsea_job_spec.set_parameter(\"gene.sets.database\", \"h.all.v6.0.symbols.gmt\")\n",
    "gsea_job_spec.set_parameter(\"gene.sets.database.file\", \"\")\n",
    "gsea_job_spec.set_parameter(\"number.of.permutations\", \"1000\")\n",
    "gsea_job_spec.set_parameter(\"phenotype.labels\", \"https://genepattern.broadinstitute.org/gp/users/rmarina%40ucsd.edu/tmp/run4525946911680508477.tmp/FTO_shRNA_k562%20%281%29.cls\")\n",
    "gsea_job_spec.set_parameter(\"target.profile\", \"\")\n",
    "gsea_job_spec.set_parameter(\"collapse.dataset\", \"false\")\n",
    "gsea_job_spec.set_parameter(\"permutation.type\", \"gene_set\")\n",
    "gsea_job_spec.set_parameter(\"chip.platform.file\", \"\")\n",
    "gsea_job_spec.set_parameter(\"scoring.scheme\", \"weighted\")\n",
    "gsea_job_spec.set_parameter(\"metric.for.ranking.genes\", \"Signal2Noise\")\n",
    "gsea_job_spec.set_parameter(\"gene.list.sorting.mode\", \"real\")\n",
    "gsea_job_spec.set_parameter(\"gene.list.ordering.mode\", \"descending\")\n",
    "gsea_job_spec.set_parameter(\"max.gene.set.size\", \"500\")\n",
    "gsea_job_spec.set_parameter(\"min.gene.set.size\", \"15\")\n",
    "gsea_job_spec.set_parameter(\"collapsing.mode.for.probe.sets.with.more.than.one.match\", \"Max_probe\")\n",
    "gsea_job_spec.set_parameter(\"normalization.mode\", \"meandiv\")\n",
    "gsea_job_spec.set_parameter(\"randomization.mode\", \"no_balance\")\n",
    "gsea_job_spec.set_parameter(\"omit.features.with.no.symbol.match\", \"true\")\n",
    "gsea_job_spec.set_parameter(\"make.detailed.gene.set.report\", \"true\")\n",
    "gsea_job_spec.set_parameter(\"median.for.class.metrics\", \"false\")\n",
    "gsea_job_spec.set_parameter(\"number.of.markers\", \"100\")\n",
    "gsea_job_spec.set_parameter(\"plot.graphs.for.the.top.sets.of.each.phenotype\", \"20\")\n",
    "gsea_job_spec.set_parameter(\"random.seed\", \"timestamp\")\n",
    "gsea_job_spec.set_parameter(\"save.random.ranked.lists\", \"false\")\n",
    "gsea_job_spec.set_parameter(\"output.file.name\", \"<expression.dataset_basename>.zip\")\n",
    "genepattern.GPTaskWidget(gsea_task)"
   ]
  },
  {
   "cell_type": "code",
   "execution_count": 21,
   "metadata": {
    "genepattern": {
     "type": "job"
    }
   },
   "outputs": [
    {
     "data": {
      "application/vnd.jupyter.widget-view+json": {
       "model_id": "19a0413849444fb8ac140ffc54860183"
      }
     },
     "metadata": {},
     "output_type": "display_data"
    }
   ],
   "source": [
    "job1557266 = gp.GPJob(genepattern.get_session(0), 1557266)\n",
    "genepattern.GPJobWidget(job1557266)"
   ]
  }
 ],
 "metadata": {
  "kernelspec": {
   "display_name": "Python 2",
   "language": "python",
   "name": "python2"
  },
  "language_info": {
   "codemirror_mode": {
    "name": "ipython",
    "version": 2
   },
   "file_extension": ".py",
   "mimetype": "text/x-python",
   "name": "python",
   "nbconvert_exporter": "python",
   "pygments_lexer": "ipython2",
   "version": "2.7.13"
  }
 },
 "nbformat": 4,
 "nbformat_minor": 2
}
