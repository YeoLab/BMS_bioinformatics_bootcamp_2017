{
 "cells": [
  {
   "cell_type": "markdown",
   "metadata": {},
   "source": [
    "**Example 1:**\n",
    "\n",
    "Investigations into Drosha-dependent miRNA biogenesis\n",
    "\n",
    "Proposal:\n",
    "DNA damage occurs as the result of both normal metabolism as well as radiation. DNA damage proteins that repair compromised DNA are crucial for homeostasis. The DROSHA gene encodes the ribonuclease III Drosha, a DNA damage protein involved in several cellular processes. Drosha is also an important biogenesis factor in the Drosha-dependent pathway (as opposed to the non-canonical Drosha-independent DICER-dependent pathway) for creating microRNAs (miRNAs) which assist in regulating gene expression (Figure 1). Located in the cell nucleus, RNase III Drosha binds with cofactor DGCR8 to form a complex known as Microprocessor that cleaves both damaged DNA as well as the stem loop of primary miRNAs. Properly cleaved primary miRNA results in mature miRNAs, which down-regulate gene expression (Kwon Cell 2016). If the miRNAs are not processed by RNase III Drosha, it could result in overexpression of certain genes that could lead to cancer. For this reason, it is important to understand the changes in gene expression that would occur in a knockdown of the DROSHA gene, which can be analyzed through using RNA sequencing. In addition, using an enhanced CLIP (eCLIP) assay, the specific interactions between RNase III Drosha and the miRNAs can be analyzed, allowing us to predict which genes may be controlled by the Drosha-dependent or -independent pathways.\n",
    "\n",
    "Questions:\n",
    "A comprehensive analysis of the DROSHA gene and the effects of its absence on downstream gene expression will be determined. Does Drosha bind to miRNAs and, if so, which miRNAs does Drosha bind to? How does gene expression change after knockdown of Drosha, and which genes are controlled by each pathway? \n",
    "\n",
    "Assays:\n",
    "Both eCLIP (CLIP) data and RNA-seq data found on ENCODE were chosen to answer this question. By using data from CLIP experiments, the regions of pre-miRNA bound by Drosha can be compared to the known human genome to assess which genes might be affected by the final processed miRNA. In order to analyze the effect on gene expression in the absence of Drosha, data from RNA-seq experiments in control and Drosha knockdown cell lines will be aligned to the human genome and expression levels will be quantified. Genes found to be differentially expressed in control and knockdown cell lines will be compared to the CLIP data to assess which miRNAs - if any - are affected or unaffected by Drosha. Any genes found to be unaffected after Drosha knockdown can be said to be controlled by the Drosha-independent pathway. \n",
    "\n"
   ]
  },
  {
   "cell_type": "markdown",
   "metadata": {},
   "source": [
    "**Example 2**\n",
    "\n",
    "RNA sequencing:\n",
    "Previous work has identified three genes associated with pancreatic endocrine tumors that are differentially expressed in cancerous versus noncancerous endocrine pancreatic tissue. TSC2, a tumor suppressor gene known to stimulate various GTPases, as well as PTEN, a regulator of cell division, have been found to be downregulated in cancerous pancreatic endocrine tissue (U.S. National Institutes of Health 2016; U.S. National Library of Medicine 2016). FGF13, a member of the fibroblastic growth factor family, has been found to often be upregulated in cancerous tissue (Missiaglia, Edoardo, et al 2010). Statistics compiled by the American Cancer Society show that the overwhelming majority of pancreatic cancer patients are at least 45, while ⅔ of patients are 65 and older (American Cancer Society 2016). We will use RNA-seq data from samples of healthy endocrine pancreatic tissue to determine if these same genes are differentially expressed in younger (45 years old) and older (59 years old) healthy humans. We will test whether there is a natural progression towards differential expression of these genes as a healthy human ages throughout an interval in which the risk of pancreatic cancer steadily increases. RNA-seq is a useful assay in this phase of our experiment because it will allow us to determine not only which genes are being expressed in the tissue samples, but also the levels at which these genes are being expressed. \n",
    " \n",
    " \n",
    "ChIP sequencing:\n",
    "To further characterize the upstream modulators of any differential gene expression, we sought to employ ChIP-seq in our analysis. Previous studies indicate that trimethylation of histone H3 on lysine residue 4 causes a conformational change in nearby DNA, allowing for increased access of RNA Polymerase to nearby promoters and thus resulting in upregulation of downstream genes (Chen, Kaifu, et al 2015). We plan to analyze ChIP-seq data to determine if our genes of interest are differentially associated with a trimethylated histone H3K4, revealing whether or not the gene’s activation changes with age. In a progression towards development of a cancerous genotype during the aging process, we would expect to see a decrease in H3K4me3 sites associated with PTEN and TSC2, as well as an increase in these sites associated with FGF13. \n",
    "\n",
    "\n",
    "Citations\n",
    "\n",
    "1.\tChen, Kaifu, et al. \"Broad H3K4me3 is associated with increased transcription elongation and enhancer activity at tumor-suppressor genes.\"Nature Genetics (2015).\n",
    "2.\tMissiaglia, Edoardo, et al. \"Pancreatic endocrine tumors: expression profiling evidences a role for AKT-mTOR pathway.\" Journal of Clinical Oncology 28.2 (2010): 245-255.\n",
    "3.\t\"Pancreatic Cancer Risk Factors.\" Pancreatic Cancer Risk Factors. American Cancer Society, 14 Mar. 2016. Web. 25 Sept. 2016.\n",
    "4.\t\"PTEN Gene - Genetics Home Reference.\" U.S National Library of Medicine. U.S. National Institutes of Health, 20 Sept. 2016. Web. 25 Sept. 2016..\n",
    "5.\t\"TSC2 Gene - Genetics Home Reference.\" U.S National Library of Medicine. U.S. National Library of Medicine, 20 Sept. 2016. Web. 25 Sept. 2016.\n",
    "6.\thttp://www.genecards.org/cgi-bin/carddisp.pl?gene=FGF13 \n"
   ]
  }
 ],
 "metadata": {
  "kernelspec": {
   "display_name": "python2-base",
   "language": "python",
   "name": "python2"
  },
  "language_info": {
   "codemirror_mode": {
    "name": "ipython",
    "version": 2
   },
   "file_extension": ".py",
   "mimetype": "text/x-python",
   "name": "python",
   "nbconvert_exporter": "python",
   "pygments_lexer": "ipython2",
   "version": "2.7.12"
  }
 },
 "nbformat": 4,
 "nbformat_minor": 0
}
