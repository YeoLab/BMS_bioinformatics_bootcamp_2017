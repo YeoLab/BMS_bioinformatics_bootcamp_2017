{
 "cells": [
  {
   "cell_type": "code",
   "execution_count": 1,
   "metadata": {},
   "outputs": [],
   "source": [
    "import pandas as pd\n",
    "import pybedtools\n",
    "from matplotlib_venn import venn3\n",
    "%matplotlib inline"
   ]
  },
  {
   "cell_type": "markdown",
   "metadata": {},
   "source": [
    "Let's pull out significantly differentially expressed genes."
   ]
  },
  {
   "cell_type": "code",
   "execution_count": 2,
   "metadata": {},
   "outputs": [
    {
     "data": {
      "text/html": [
       "<div>\n",
       "<table border=\"1\" class=\"dataframe\">\n",
       "  <thead>\n",
       "    <tr style=\"text-align: right;\">\n",
       "      <th></th>\n",
       "      <th>baseMean</th>\n",
       "      <th>log2FoldChange</th>\n",
       "      <th>lfcSE</th>\n",
       "      <th>stat</th>\n",
       "      <th>pvalue</th>\n",
       "      <th>padj</th>\n",
       "    </tr>\n",
       "  </thead>\n",
       "  <tbody>\n",
       "    <tr>\n",
       "      <th>ENSG00000223972.4</th>\n",
       "      <td>1.548277</td>\n",
       "      <td>-2.371333</td>\n",
       "      <td>2.573424</td>\n",
       "      <td>-0.921470</td>\n",
       "      <td>0.356805</td>\n",
       "      <td>NaN</td>\n",
       "    </tr>\n",
       "    <tr>\n",
       "      <th>ENSG00000227232.4</th>\n",
       "      <td>188.017621</td>\n",
       "      <td>0.104251</td>\n",
       "      <td>0.246626</td>\n",
       "      <td>0.422707</td>\n",
       "      <td>0.672509</td>\n",
       "      <td>0.823875</td>\n",
       "    </tr>\n",
       "    <tr>\n",
       "      <th>ENSG00000243485.2</th>\n",
       "      <td>0.263215</td>\n",
       "      <td>1.442268</td>\n",
       "      <td>4.982647</td>\n",
       "      <td>0.289458</td>\n",
       "      <td>0.772231</td>\n",
       "      <td>NaN</td>\n",
       "    </tr>\n",
       "    <tr>\n",
       "      <th>ENSG00000237613.2</th>\n",
       "      <td>4.917684</td>\n",
       "      <td>0.479224</td>\n",
       "      <td>1.333292</td>\n",
       "      <td>0.359430</td>\n",
       "      <td>0.719274</td>\n",
       "      <td>NaN</td>\n",
       "    </tr>\n",
       "    <tr>\n",
       "      <th>ENSG00000238009.2</th>\n",
       "      <td>155.704964</td>\n",
       "      <td>-0.305639</td>\n",
       "      <td>0.250297</td>\n",
       "      <td>-1.221106</td>\n",
       "      <td>0.222046</td>\n",
       "      <td>0.420962</td>\n",
       "    </tr>\n",
       "  </tbody>\n",
       "</table>\n",
       "</div>"
      ],
      "text/plain": [
       "                     baseMean  log2FoldChange     lfcSE      stat    pvalue  \\\n",
       "ENSG00000223972.4    1.548277       -2.371333  2.573424 -0.921470  0.356805   \n",
       "ENSG00000227232.4  188.017621        0.104251  0.246626  0.422707  0.672509   \n",
       "ENSG00000243485.2    0.263215        1.442268  4.982647  0.289458  0.772231   \n",
       "ENSG00000237613.2    4.917684        0.479224  1.333292  0.359430  0.719274   \n",
       "ENSG00000238009.2  155.704964       -0.305639  0.250297 -1.221106  0.222046   \n",
       "\n",
       "                       padj  \n",
       "ENSG00000223972.4       NaN  \n",
       "ENSG00000227232.4  0.823875  \n",
       "ENSG00000243485.2       NaN  \n",
       "ENSG00000237613.2       NaN  \n",
       "ENSG00000238009.2  0.420962  "
      ]
     },
     "execution_count": 2,
     "metadata": {},
     "output_type": "execute_result"
    }
   ],
   "source": [
    "deseq2_dir = \"/oasis/tscc/scratch/biom200/featurecounts/\"\n",
    "deseq2_result = pd.read_csv(deseq2_dir+\"differential_expression.csv\", index_col=0)\n",
    "deseq2_result.head()"
   ]
  },
  {
   "cell_type": "markdown",
   "metadata": {},
   "source": [
    "GeneID isn't really helpful, let's add the gene name onto the dataframe. "
   ]
  },
  {
   "cell_type": "code",
   "execution_count": 4,
   "metadata": {},
   "outputs": [
    {
     "data": {
      "text/html": [
       "<div>\n",
       "<table border=\"1\" class=\"dataframe\">\n",
       "  <thead>\n",
       "    <tr style=\"text-align: right;\">\n",
       "      <th></th>\n",
       "      <th>sym</th>\n",
       "    </tr>\n",
       "    <tr>\n",
       "      <th>id</th>\n",
       "      <th></th>\n",
       "    </tr>\n",
       "  </thead>\n",
       "  <tbody>\n",
       "    <tr>\n",
       "      <th>ENSG00000223972.4</th>\n",
       "      <td>DDX11L1</td>\n",
       "    </tr>\n",
       "    <tr>\n",
       "      <th>ENSG00000227232.4</th>\n",
       "      <td>WASH7P</td>\n",
       "    </tr>\n",
       "    <tr>\n",
       "      <th>ENSG00000243485.2</th>\n",
       "      <td>MIR1302-11</td>\n",
       "    </tr>\n",
       "    <tr>\n",
       "      <th>ENSG00000237613.2</th>\n",
       "      <td>FAM138A</td>\n",
       "    </tr>\n",
       "    <tr>\n",
       "      <th>ENSG00000268020.2</th>\n",
       "      <td>OR4G4P</td>\n",
       "    </tr>\n",
       "  </tbody>\n",
       "</table>\n",
       "</div>"
      ],
      "text/plain": [
       "                          sym\n",
       "id                           \n",
       "ENSG00000223972.4     DDX11L1\n",
       "ENSG00000227232.4      WASH7P\n",
       "ENSG00000243485.2  MIR1302-11\n",
       "ENSG00000237613.2     FAM138A\n",
       "ENSG00000268020.2      OR4G4P"
      ]
     },
     "execution_count": 4,
     "metadata": {},
     "output_type": "execute_result"
    }
   ],
   "source": [
    "peak_dir = \"/oasis/tscc/scratch/biom200/fto_clip/\"\n",
    "\n",
    "gene_names = pd.read_table(peak_dir+\"gencode.v19.annotation.genenames.txt\", index_col=0)\n",
    "gene_names.head()"
   ]
  },
  {
   "cell_type": "code",
   "execution_count": 5,
   "metadata": {},
   "outputs": [
    {
     "data": {
      "text/html": [
       "<div>\n",
       "<table border=\"1\" class=\"dataframe\">\n",
       "  <thead>\n",
       "    <tr style=\"text-align: right;\">\n",
       "      <th></th>\n",
       "      <th>baseMean</th>\n",
       "      <th>log2FoldChange</th>\n",
       "      <th>lfcSE</th>\n",
       "      <th>stat</th>\n",
       "      <th>pvalue</th>\n",
       "      <th>padj</th>\n",
       "      <th>sym</th>\n",
       "    </tr>\n",
       "  </thead>\n",
       "  <tbody>\n",
       "    <tr>\n",
       "      <th>ENSG00000223972.4</th>\n",
       "      <td>1.548277</td>\n",
       "      <td>-2.371333</td>\n",
       "      <td>2.573424</td>\n",
       "      <td>-0.921470</td>\n",
       "      <td>0.356805</td>\n",
       "      <td>NaN</td>\n",
       "      <td>DDX11L1</td>\n",
       "    </tr>\n",
       "    <tr>\n",
       "      <th>ENSG00000227232.4</th>\n",
       "      <td>188.017621</td>\n",
       "      <td>0.104251</td>\n",
       "      <td>0.246626</td>\n",
       "      <td>0.422707</td>\n",
       "      <td>0.672509</td>\n",
       "      <td>0.823875</td>\n",
       "      <td>WASH7P</td>\n",
       "    </tr>\n",
       "    <tr>\n",
       "      <th>ENSG00000243485.2</th>\n",
       "      <td>0.263215</td>\n",
       "      <td>1.442268</td>\n",
       "      <td>4.982647</td>\n",
       "      <td>0.289458</td>\n",
       "      <td>0.772231</td>\n",
       "      <td>NaN</td>\n",
       "      <td>MIR1302-11</td>\n",
       "    </tr>\n",
       "    <tr>\n",
       "      <th>ENSG00000237613.2</th>\n",
       "      <td>4.917684</td>\n",
       "      <td>0.479224</td>\n",
       "      <td>1.333292</td>\n",
       "      <td>0.359430</td>\n",
       "      <td>0.719274</td>\n",
       "      <td>NaN</td>\n",
       "      <td>FAM138A</td>\n",
       "    </tr>\n",
       "    <tr>\n",
       "      <th>ENSG00000238009.2</th>\n",
       "      <td>155.704964</td>\n",
       "      <td>-0.305639</td>\n",
       "      <td>0.250297</td>\n",
       "      <td>-1.221106</td>\n",
       "      <td>0.222046</td>\n",
       "      <td>0.420962</td>\n",
       "      <td>RP11-34P13.7</td>\n",
       "    </tr>\n",
       "  </tbody>\n",
       "</table>\n",
       "</div>"
      ],
      "text/plain": [
       "                     baseMean  log2FoldChange     lfcSE      stat    pvalue  \\\n",
       "ENSG00000223972.4    1.548277       -2.371333  2.573424 -0.921470  0.356805   \n",
       "ENSG00000227232.4  188.017621        0.104251  0.246626  0.422707  0.672509   \n",
       "ENSG00000243485.2    0.263215        1.442268  4.982647  0.289458  0.772231   \n",
       "ENSG00000237613.2    4.917684        0.479224  1.333292  0.359430  0.719274   \n",
       "ENSG00000238009.2  155.704964       -0.305639  0.250297 -1.221106  0.222046   \n",
       "\n",
       "                       padj           sym  \n",
       "ENSG00000223972.4       NaN       DDX11L1  \n",
       "ENSG00000227232.4  0.823875        WASH7P  \n",
       "ENSG00000243485.2       NaN    MIR1302-11  \n",
       "ENSG00000237613.2       NaN       FAM138A  \n",
       "ENSG00000238009.2  0.420962  RP11-34P13.7  "
      ]
     },
     "execution_count": 5,
     "metadata": {},
     "output_type": "execute_result"
    }
   ],
   "source": [
    "deseq2_result = deseq2_result.join(gene_names)\n",
    "deseq2_result.head()"
   ]
  },
  {
   "cell_type": "markdown",
   "metadata": {},
   "source": [
    "Which genes have a significant value in the padj column? "
   ]
  },
  {
   "cell_type": "code",
   "execution_count": 6,
   "metadata": {},
   "outputs": [],
   "source": [
    "sig_genes = deseq2_result.loc[deseq2_result['padj'] < 0.05]"
   ]
  },
  {
   "cell_type": "markdown",
   "metadata": {},
   "source": [
    "Let's separate those between upregulated and downregulated"
   ]
  },
  {
   "cell_type": "code",
   "execution_count": 7,
   "metadata": {},
   "outputs": [
    {
     "name": "stdout",
     "output_type": "stream",
     "text": [
      "(744, 7)\n"
     ]
    },
    {
     "data": {
      "text/html": [
       "<div>\n",
       "<table border=\"1\" class=\"dataframe\">\n",
       "  <thead>\n",
       "    <tr style=\"text-align: right;\">\n",
       "      <th></th>\n",
       "      <th>baseMean</th>\n",
       "      <th>log2FoldChange</th>\n",
       "      <th>lfcSE</th>\n",
       "      <th>stat</th>\n",
       "      <th>pvalue</th>\n",
       "      <th>padj</th>\n",
       "      <th>sym</th>\n",
       "    </tr>\n",
       "  </thead>\n",
       "  <tbody>\n",
       "    <tr>\n",
       "      <th>ENSG00000230699.2</th>\n",
       "      <td>42.862475</td>\n",
       "      <td>1.858231</td>\n",
       "      <td>0.510016</td>\n",
       "      <td>3.643478</td>\n",
       "      <td>2.689790e-04</td>\n",
       "      <td>1.952094e-03</td>\n",
       "      <td>RP11-54O7.1</td>\n",
       "    </tr>\n",
       "    <tr>\n",
       "      <th>ENSG00000223764.2</th>\n",
       "      <td>8.957234</td>\n",
       "      <td>3.407760</td>\n",
       "      <td>1.225697</td>\n",
       "      <td>2.780263</td>\n",
       "      <td>5.431483e-03</td>\n",
       "      <td>2.431475e-02</td>\n",
       "      <td>RP11-54O7.3</td>\n",
       "    </tr>\n",
       "    <tr>\n",
       "      <th>ENSG00000187634.6</th>\n",
       "      <td>20.930982</td>\n",
       "      <td>4.708596</td>\n",
       "      <td>1.025346</td>\n",
       "      <td>4.592203</td>\n",
       "      <td>4.385918e-06</td>\n",
       "      <td>5.426083e-05</td>\n",
       "      <td>SAMD11</td>\n",
       "    </tr>\n",
       "    <tr>\n",
       "      <th>ENSG00000215915.5</th>\n",
       "      <td>11.335026</td>\n",
       "      <td>3.776213</td>\n",
       "      <td>1.157018</td>\n",
       "      <td>3.263746</td>\n",
       "      <td>1.099496e-03</td>\n",
       "      <td>6.520547e-03</td>\n",
       "      <td>ATAD3C</td>\n",
       "    </tr>\n",
       "    <tr>\n",
       "      <th>ENSG00000197530.8</th>\n",
       "      <td>233.131802</td>\n",
       "      <td>1.460990</td>\n",
       "      <td>0.239785</td>\n",
       "      <td>6.092917</td>\n",
       "      <td>1.108714e-09</td>\n",
       "      <td>3.394529e-08</td>\n",
       "      <td>MIB2</td>\n",
       "    </tr>\n",
       "  </tbody>\n",
       "</table>\n",
       "</div>"
      ],
      "text/plain": [
       "                     baseMean  log2FoldChange     lfcSE      stat  \\\n",
       "ENSG00000230699.2   42.862475        1.858231  0.510016  3.643478   \n",
       "ENSG00000223764.2    8.957234        3.407760  1.225697  2.780263   \n",
       "ENSG00000187634.6   20.930982        4.708596  1.025346  4.592203   \n",
       "ENSG00000215915.5   11.335026        3.776213  1.157018  3.263746   \n",
       "ENSG00000197530.8  233.131802        1.460990  0.239785  6.092917   \n",
       "\n",
       "                         pvalue          padj          sym  \n",
       "ENSG00000230699.2  2.689790e-04  1.952094e-03  RP11-54O7.1  \n",
       "ENSG00000223764.2  5.431483e-03  2.431475e-02  RP11-54O7.3  \n",
       "ENSG00000187634.6  4.385918e-06  5.426083e-05       SAMD11  \n",
       "ENSG00000215915.5  1.099496e-03  6.520547e-03       ATAD3C  \n",
       "ENSG00000197530.8  1.108714e-09  3.394529e-08         MIB2  "
      ]
     },
     "execution_count": 7,
     "metadata": {},
     "output_type": "execute_result"
    }
   ],
   "source": [
    "sig_genes_up = sig_genes.loc[sig_genes['log2FoldChange'] > 1]\n",
    "print sig_genes_up.shape\n",
    "sig_genes_up.head()"
   ]
  },
  {
   "cell_type": "code",
   "execution_count": 8,
   "metadata": {},
   "outputs": [
    {
     "name": "stdout",
     "output_type": "stream",
     "text": [
      "(226, 7)\n"
     ]
    },
    {
     "data": {
      "text/html": [
       "<div>\n",
       "<table border=\"1\" class=\"dataframe\">\n",
       "  <thead>\n",
       "    <tr style=\"text-align: right;\">\n",
       "      <th></th>\n",
       "      <th>baseMean</th>\n",
       "      <th>log2FoldChange</th>\n",
       "      <th>lfcSE</th>\n",
       "      <th>stat</th>\n",
       "      <th>pvalue</th>\n",
       "      <th>padj</th>\n",
       "      <th>sym</th>\n",
       "    </tr>\n",
       "  </thead>\n",
       "  <tbody>\n",
       "    <tr>\n",
       "      <th>ENSG00000097021.15</th>\n",
       "      <td>310.091523</td>\n",
       "      <td>-1.372322</td>\n",
       "      <td>0.201248</td>\n",
       "      <td>-6.819059</td>\n",
       "      <td>9.163884e-12</td>\n",
       "      <td>4.135108e-10</td>\n",
       "      <td>ACOT7</td>\n",
       "    </tr>\n",
       "    <tr>\n",
       "      <th>ENSG00000131914.6</th>\n",
       "      <td>37.609710</td>\n",
       "      <td>-2.327575</td>\n",
       "      <td>0.532776</td>\n",
       "      <td>-4.368772</td>\n",
       "      <td>1.249469e-05</td>\n",
       "      <td>1.391319e-04</td>\n",
       "      <td>LIN28A</td>\n",
       "    </tr>\n",
       "    <tr>\n",
       "      <th>ENSG00000175130.6</th>\n",
       "      <td>2758.189342</td>\n",
       "      <td>-1.042473</td>\n",
       "      <td>0.098009</td>\n",
       "      <td>-10.636476</td>\n",
       "      <td>2.016108e-26</td>\n",
       "      <td>7.179096e-24</td>\n",
       "      <td>MARCKSL1</td>\n",
       "    </tr>\n",
       "    <tr>\n",
       "      <th>ENSG00000214114.4</th>\n",
       "      <td>462.320291</td>\n",
       "      <td>-1.043618</td>\n",
       "      <td>0.159934</td>\n",
       "      <td>-6.525288</td>\n",
       "      <td>6.787080e-11</td>\n",
       "      <td>2.628189e-09</td>\n",
       "      <td>MYCBP</td>\n",
       "    </tr>\n",
       "    <tr>\n",
       "      <th>ENSG00000157193.10</th>\n",
       "      <td>1011.776526</td>\n",
       "      <td>-1.116318</td>\n",
       "      <td>0.127472</td>\n",
       "      <td>-8.757379</td>\n",
       "      <td>1.998436e-18</td>\n",
       "      <td>2.922713e-16</td>\n",
       "      <td>LRP8</td>\n",
       "    </tr>\n",
       "  </tbody>\n",
       "</table>\n",
       "</div>"
      ],
      "text/plain": [
       "                       baseMean  log2FoldChange     lfcSE       stat  \\\n",
       "ENSG00000097021.15   310.091523       -1.372322  0.201248  -6.819059   \n",
       "ENSG00000131914.6     37.609710       -2.327575  0.532776  -4.368772   \n",
       "ENSG00000175130.6   2758.189342       -1.042473  0.098009 -10.636476   \n",
       "ENSG00000214114.4    462.320291       -1.043618  0.159934  -6.525288   \n",
       "ENSG00000157193.10  1011.776526       -1.116318  0.127472  -8.757379   \n",
       "\n",
       "                          pvalue          padj       sym  \n",
       "ENSG00000097021.15  9.163884e-12  4.135108e-10     ACOT7  \n",
       "ENSG00000131914.6   1.249469e-05  1.391319e-04    LIN28A  \n",
       "ENSG00000175130.6   2.016108e-26  7.179096e-24  MARCKSL1  \n",
       "ENSG00000214114.4   6.787080e-11  2.628189e-09     MYCBP  \n",
       "ENSG00000157193.10  1.998436e-18  2.922713e-16      LRP8  "
      ]
     },
     "execution_count": 8,
     "metadata": {},
     "output_type": "execute_result"
    }
   ],
   "source": [
    "sig_genes_down = sig_genes.loc[sig_genes['log2FoldChange'] < -1]\n",
    "print sig_genes_down.shape\n",
    "sig_genes_down.head()"
   ]
  },
  {
   "cell_type": "markdown",
   "metadata": {},
   "source": [
    "I want to save those geneIDs, now that I have called them as significant, I don't care about the rest of the stuff"
   ]
  },
  {
   "cell_type": "code",
   "execution_count": 9,
   "metadata": {},
   "outputs": [],
   "source": [
    "upregulated_genes = sig_genes_up.index\n",
    "downregulated_genes = sig_genes_down.index"
   ]
  },
  {
   "cell_type": "markdown",
   "metadata": {},
   "source": [
    "We are going to use bedtools to intersect those genes with a list of peaks that we called from FTO clip. Check out the bedtools documentation. In particular, we are going to use bedtools intersect. \n",
    "\n",
    "In order to use bedtools intersect, we need a bed file of genes, not just a list of geneIDs. I put a bed file in the shared folder, let's load that in as a dataframe and make new bed files of genes that we are interested in"
   ]
  },
  {
   "cell_type": "code",
   "execution_count": 15,
   "metadata": {},
   "outputs": [
    {
     "data": {
      "text/html": [
       "<div>\n",
       "<table border=\"1\" class=\"dataframe\">\n",
       "  <thead>\n",
       "    <tr style=\"text-align: right;\">\n",
       "      <th></th>\n",
       "      <th>chrom</th>\n",
       "      <th>start</th>\n",
       "      <th>stop</th>\n",
       "      <th>geneid</th>\n",
       "      <th>name</th>\n",
       "      <th>strand</th>\n",
       "    </tr>\n",
       "  </thead>\n",
       "  <tbody>\n",
       "    <tr>\n",
       "      <th>0</th>\n",
       "      <td>chr1</td>\n",
       "      <td>11869</td>\n",
       "      <td>14412</td>\n",
       "      <td>ENSG00000223972.4</td>\n",
       "      <td>DDX11L1</td>\n",
       "      <td>+</td>\n",
       "    </tr>\n",
       "    <tr>\n",
       "      <th>1</th>\n",
       "      <td>chr1</td>\n",
       "      <td>14363</td>\n",
       "      <td>29806</td>\n",
       "      <td>ENSG00000227232.4</td>\n",
       "      <td>WASH7P</td>\n",
       "      <td>-</td>\n",
       "    </tr>\n",
       "    <tr>\n",
       "      <th>2</th>\n",
       "      <td>chr1</td>\n",
       "      <td>29554</td>\n",
       "      <td>31109</td>\n",
       "      <td>ENSG00000243485.2</td>\n",
       "      <td>MIR1302-11</td>\n",
       "      <td>+</td>\n",
       "    </tr>\n",
       "    <tr>\n",
       "      <th>3</th>\n",
       "      <td>chr1</td>\n",
       "      <td>34554</td>\n",
       "      <td>36081</td>\n",
       "      <td>ENSG00000237613.2</td>\n",
       "      <td>FAM138A</td>\n",
       "      <td>-</td>\n",
       "    </tr>\n",
       "    <tr>\n",
       "      <th>4</th>\n",
       "      <td>chr1</td>\n",
       "      <td>52473</td>\n",
       "      <td>54936</td>\n",
       "      <td>ENSG00000268020.2</td>\n",
       "      <td>OR4G4P</td>\n",
       "      <td>+</td>\n",
       "    </tr>\n",
       "  </tbody>\n",
       "</table>\n",
       "</div>"
      ],
      "text/plain": [
       "  chrom  start   stop             geneid        name strand\n",
       "0  chr1  11869  14412  ENSG00000223972.4     DDX11L1      +\n",
       "1  chr1  14363  29806  ENSG00000227232.4      WASH7P      -\n",
       "2  chr1  29554  31109  ENSG00000243485.2  MIR1302-11      +\n",
       "3  chr1  34554  36081  ENSG00000237613.2     FAM138A      -\n",
       "4  chr1  52473  54936  ENSG00000268020.2      OR4G4P      +"
      ]
     },
     "execution_count": 15,
     "metadata": {},
     "output_type": "execute_result"
    }
   ],
   "source": [
    "bedfile_of_genes = pd.read_table(peak_dir+\"hg19_genes.bed\",  \n",
    "                              names = ['chrom','start','stop','geneid','name','strand'])\n",
    "bedfile_of_genes.head()"
   ]
  },
  {
   "cell_type": "markdown",
   "metadata": {},
   "source": [
    "I want to set the geneID as the index"
   ]
  },
  {
   "cell_type": "code",
   "execution_count": 16,
   "metadata": {},
   "outputs": [
    {
     "data": {
      "text/html": [
       "<div>\n",
       "<table border=\"1\" class=\"dataframe\">\n",
       "  <thead>\n",
       "    <tr style=\"text-align: right;\">\n",
       "      <th></th>\n",
       "      <th>chrom</th>\n",
       "      <th>start</th>\n",
       "      <th>stop</th>\n",
       "      <th>geneid</th>\n",
       "      <th>name</th>\n",
       "      <th>strand</th>\n",
       "    </tr>\n",
       "    <tr>\n",
       "      <th>geneid</th>\n",
       "      <th></th>\n",
       "      <th></th>\n",
       "      <th></th>\n",
       "      <th></th>\n",
       "      <th></th>\n",
       "      <th></th>\n",
       "    </tr>\n",
       "  </thead>\n",
       "  <tbody>\n",
       "    <tr>\n",
       "      <th>ENSG00000223972.4</th>\n",
       "      <td>chr1</td>\n",
       "      <td>11869</td>\n",
       "      <td>14412</td>\n",
       "      <td>ENSG00000223972.4</td>\n",
       "      <td>DDX11L1</td>\n",
       "      <td>+</td>\n",
       "    </tr>\n",
       "    <tr>\n",
       "      <th>ENSG00000227232.4</th>\n",
       "      <td>chr1</td>\n",
       "      <td>14363</td>\n",
       "      <td>29806</td>\n",
       "      <td>ENSG00000227232.4</td>\n",
       "      <td>WASH7P</td>\n",
       "      <td>-</td>\n",
       "    </tr>\n",
       "    <tr>\n",
       "      <th>ENSG00000243485.2</th>\n",
       "      <td>chr1</td>\n",
       "      <td>29554</td>\n",
       "      <td>31109</td>\n",
       "      <td>ENSG00000243485.2</td>\n",
       "      <td>MIR1302-11</td>\n",
       "      <td>+</td>\n",
       "    </tr>\n",
       "    <tr>\n",
       "      <th>ENSG00000237613.2</th>\n",
       "      <td>chr1</td>\n",
       "      <td>34554</td>\n",
       "      <td>36081</td>\n",
       "      <td>ENSG00000237613.2</td>\n",
       "      <td>FAM138A</td>\n",
       "      <td>-</td>\n",
       "    </tr>\n",
       "    <tr>\n",
       "      <th>ENSG00000268020.2</th>\n",
       "      <td>chr1</td>\n",
       "      <td>52473</td>\n",
       "      <td>54936</td>\n",
       "      <td>ENSG00000268020.2</td>\n",
       "      <td>OR4G4P</td>\n",
       "      <td>+</td>\n",
       "    </tr>\n",
       "  </tbody>\n",
       "</table>\n",
       "</div>"
      ],
      "text/plain": [
       "                  chrom  start   stop             geneid        name strand\n",
       "geneid                                                                     \n",
       "ENSG00000223972.4  chr1  11869  14412  ENSG00000223972.4     DDX11L1      +\n",
       "ENSG00000227232.4  chr1  14363  29806  ENSG00000227232.4      WASH7P      -\n",
       "ENSG00000243485.2  chr1  29554  31109  ENSG00000243485.2  MIR1302-11      +\n",
       "ENSG00000237613.2  chr1  34554  36081  ENSG00000237613.2     FAM138A      -\n",
       "ENSG00000268020.2  chr1  52473  54936  ENSG00000268020.2      OR4G4P      +"
      ]
     },
     "execution_count": 16,
     "metadata": {},
     "output_type": "execute_result"
    }
   ],
   "source": [
    "bedfile_of_genes.set_index(\"geneid\", drop=False, inplace=True)\n",
    "bedfile_of_genes.head()"
   ]
  },
  {
   "cell_type": "markdown",
   "metadata": {},
   "source": [
    "How do I use this new index to grab only upregulated genes?"
   ]
  },
  {
   "cell_type": "code",
   "execution_count": 20,
   "metadata": {},
   "outputs": [],
   "source": [
    "upregulated_bed = bedfile_of_genes.loc[upregulated_genes]"
   ]
  },
  {
   "cell_type": "code",
   "execution_count": 21,
   "metadata": {},
   "outputs": [],
   "source": [
    "downregulated_bed = bedfile_of_genes.loc[downregulated_genes]"
   ]
  },
  {
   "cell_type": "markdown",
   "metadata": {},
   "source": [
    "Let's save those files, but we don't want to save the index again or the header because bedfiles don't have a header. They also need to be tab separated"
   ]
  },
  {
   "cell_type": "code",
   "execution_count": 23,
   "metadata": {},
   "outputs": [],
   "source": [
    "save_dir = \"/home/ucsd-train01/projects/fto_shrna/fto_clip/\"\n",
    "upregulated_bed.to_csv(save_dir+\"upregulated_genes.bed\", index=None, header=None, sep=\"\\t\")\n",
    "downregulated_bed.to_csv(save_dir+\"downregulated_genes.bed\", index=None, header=None, sep=\"\\t\")"
   ]
  },
  {
   "cell_type": "markdown",
   "metadata": {},
   "source": [
    "One more thing, we need a bedfile of significant peaks to compare to these upregulated and downregulated genes. Let's load up the peak file, and filter for pvalue and fold change cutoffs"
   ]
  },
  {
   "cell_type": "code",
   "execution_count": 24,
   "metadata": {},
   "outputs": [
    {
     "data": {
      "text/html": [
       "<div>\n",
       "<table border=\"1\" class=\"dataframe\">\n",
       "  <thead>\n",
       "    <tr style=\"text-align: right;\">\n",
       "      <th></th>\n",
       "      <th>start</th>\n",
       "      <th>stop</th>\n",
       "      <th>pval</th>\n",
       "      <th>fc</th>\n",
       "      <th>strand</th>\n",
       "    </tr>\n",
       "    <tr>\n",
       "      <th>chrom</th>\n",
       "      <th></th>\n",
       "      <th></th>\n",
       "      <th></th>\n",
       "      <th></th>\n",
       "      <th></th>\n",
       "    </tr>\n",
       "  </thead>\n",
       "  <tbody>\n",
       "    <tr>\n",
       "      <th>chr7</th>\n",
       "      <td>128502977</td>\n",
       "      <td>128503105</td>\n",
       "      <td>27.176232</td>\n",
       "      <td>2.874631</td>\n",
       "      <td>+</td>\n",
       "    </tr>\n",
       "    <tr>\n",
       "      <th>chr7</th>\n",
       "      <td>140396555</td>\n",
       "      <td>140396643</td>\n",
       "      <td>24.549890</td>\n",
       "      <td>3.739772</td>\n",
       "      <td>+</td>\n",
       "    </tr>\n",
       "    <tr>\n",
       "      <th>chr7</th>\n",
       "      <td>150066826</td>\n",
       "      <td>150066915</td>\n",
       "      <td>17.262688</td>\n",
       "      <td>3.449854</td>\n",
       "      <td>+</td>\n",
       "    </tr>\n",
       "    <tr>\n",
       "      <th>chr7</th>\n",
       "      <td>140402683</td>\n",
       "      <td>140402751</td>\n",
       "      <td>16.942373</td>\n",
       "      <td>4.468390</td>\n",
       "      <td>+</td>\n",
       "    </tr>\n",
       "    <tr>\n",
       "      <th>chr7</th>\n",
       "      <td>128388639</td>\n",
       "      <td>128388728</td>\n",
       "      <td>15.599877</td>\n",
       "      <td>2.498764</td>\n",
       "      <td>+</td>\n",
       "    </tr>\n",
       "  </tbody>\n",
       "</table>\n",
       "</div>"
      ],
      "text/plain": [
       "           start       stop       pval        fc strand\n",
       "chrom                                                  \n",
       "chr7   128502977  128503105  27.176232  2.874631      +\n",
       "chr7   140396555  140396643  24.549890  3.739772      +\n",
       "chr7   150066826  150066915  17.262688  3.449854      +\n",
       "chr7   140402683  140402751  16.942373  4.468390      +\n",
       "chr7   128388639  128388728  15.599877  2.498764      +"
      ]
     },
     "execution_count": 24,
     "metadata": {},
     "output_type": "execute_result"
    }
   ],
   "source": [
    "rep1_peaks = pd.read_table(peak_dir+\"fto_clip_rep1.bed\", index_col=0, \n",
    "                          names = ['chrom','start','stop','pval','fc','strand'])\n",
    "rep1_peaks.head()"
   ]
  },
  {
   "cell_type": "markdown",
   "metadata": {},
   "source": [
    "How do we select rows with pval greater than 3 and fold change greater than 2?"
   ]
  },
  {
   "cell_type": "code",
   "execution_count": 28,
   "metadata": {},
   "outputs": [
    {
     "data": {
      "text/html": [
       "<div>\n",
       "<table border=\"1\" class=\"dataframe\">\n",
       "  <thead>\n",
       "    <tr style=\"text-align: right;\">\n",
       "      <th></th>\n",
       "      <th>start</th>\n",
       "      <th>stop</th>\n",
       "      <th>pval</th>\n",
       "      <th>fc</th>\n",
       "      <th>strand</th>\n",
       "    </tr>\n",
       "    <tr>\n",
       "      <th>chrom</th>\n",
       "      <th></th>\n",
       "      <th></th>\n",
       "      <th></th>\n",
       "      <th></th>\n",
       "      <th></th>\n",
       "    </tr>\n",
       "  </thead>\n",
       "  <tbody>\n",
       "    <tr>\n",
       "      <th>chr7</th>\n",
       "      <td>128502977</td>\n",
       "      <td>128503105</td>\n",
       "      <td>27.176232</td>\n",
       "      <td>2.874631</td>\n",
       "      <td>+</td>\n",
       "    </tr>\n",
       "    <tr>\n",
       "      <th>chr7</th>\n",
       "      <td>140396555</td>\n",
       "      <td>140396643</td>\n",
       "      <td>24.549890</td>\n",
       "      <td>3.739772</td>\n",
       "      <td>+</td>\n",
       "    </tr>\n",
       "    <tr>\n",
       "      <th>chr7</th>\n",
       "      <td>150066826</td>\n",
       "      <td>150066915</td>\n",
       "      <td>17.262688</td>\n",
       "      <td>3.449854</td>\n",
       "      <td>+</td>\n",
       "    </tr>\n",
       "    <tr>\n",
       "      <th>chr7</th>\n",
       "      <td>140402683</td>\n",
       "      <td>140402751</td>\n",
       "      <td>16.942373</td>\n",
       "      <td>4.468390</td>\n",
       "      <td>+</td>\n",
       "    </tr>\n",
       "    <tr>\n",
       "      <th>chr7</th>\n",
       "      <td>128388639</td>\n",
       "      <td>128388728</td>\n",
       "      <td>15.599877</td>\n",
       "      <td>2.498764</td>\n",
       "      <td>+</td>\n",
       "    </tr>\n",
       "  </tbody>\n",
       "</table>\n",
       "</div>"
      ],
      "text/plain": [
       "           start       stop       pval        fc strand\n",
       "chrom                                                  \n",
       "chr7   128502977  128503105  27.176232  2.874631      +\n",
       "chr7   140396555  140396643  24.549890  3.739772      +\n",
       "chr7   150066826  150066915  17.262688  3.449854      +\n",
       "chr7   140402683  140402751  16.942373  4.468390      +\n",
       "chr7   128388639  128388728  15.599877  2.498764      +"
      ]
     },
     "execution_count": 28,
     "metadata": {},
     "output_type": "execute_result"
    }
   ],
   "source": [
    "rep1_peaks_sig_peaks = rep1_peaks.loc[(rep1_peaks['pval'] > 3) &\n",
    "               (rep1_peaks['fc'] > 2)]\n",
    "rep1_peaks_sig_peaks.head()"
   ]
  },
  {
   "cell_type": "code",
   "execution_count": 30,
   "metadata": {},
   "outputs": [],
   "source": [
    "rep1_peaks_sig_peaks.to_csv(save_dir+\"fto_rep1_sig_peaks.bed\", header=None, sep=\"\\t\")"
   ]
  },
  {
   "cell_type": "markdown",
   "metadata": {},
   "source": [
    "Let's do the same thing for rep2 peaks"
   ]
  },
  {
   "cell_type": "code",
   "execution_count": 31,
   "metadata": {},
   "outputs": [
    {
     "data": {
      "text/html": [
       "<div>\n",
       "<table border=\"1\" class=\"dataframe\">\n",
       "  <thead>\n",
       "    <tr style=\"text-align: right;\">\n",
       "      <th></th>\n",
       "      <th>start</th>\n",
       "      <th>stop</th>\n",
       "      <th>pval</th>\n",
       "      <th>fc</th>\n",
       "      <th>strand</th>\n",
       "    </tr>\n",
       "    <tr>\n",
       "      <th>chrom</th>\n",
       "      <th></th>\n",
       "      <th></th>\n",
       "      <th></th>\n",
       "      <th></th>\n",
       "      <th></th>\n",
       "    </tr>\n",
       "  </thead>\n",
       "  <tbody>\n",
       "    <tr>\n",
       "      <th>chr7</th>\n",
       "      <td>140396556</td>\n",
       "      <td>140396627</td>\n",
       "      <td>26.740645</td>\n",
       "      <td>3.866446</td>\n",
       "      <td>+</td>\n",
       "    </tr>\n",
       "    <tr>\n",
       "      <th>chr7</th>\n",
       "      <td>128502937</td>\n",
       "      <td>128503095</td>\n",
       "      <td>24.969441</td>\n",
       "      <td>2.631810</td>\n",
       "      <td>+</td>\n",
       "    </tr>\n",
       "    <tr>\n",
       "      <th>chr7</th>\n",
       "      <td>140396627</td>\n",
       "      <td>140396643</td>\n",
       "      <td>21.331381</td>\n",
       "      <td>4.526628</td>\n",
       "      <td>+</td>\n",
       "    </tr>\n",
       "    <tr>\n",
       "      <th>chr7</th>\n",
       "      <td>128388651</td>\n",
       "      <td>128388732</td>\n",
       "      <td>19.171018</td>\n",
       "      <td>2.849902</td>\n",
       "      <td>+</td>\n",
       "    </tr>\n",
       "    <tr>\n",
       "      <th>chr7</th>\n",
       "      <td>140402664</td>\n",
       "      <td>140402746</td>\n",
       "      <td>18.386657</td>\n",
       "      <td>4.667984</td>\n",
       "      <td>+</td>\n",
       "    </tr>\n",
       "  </tbody>\n",
       "</table>\n",
       "</div>"
      ],
      "text/plain": [
       "           start       stop       pval        fc strand\n",
       "chrom                                                  \n",
       "chr7   140396556  140396627  26.740645  3.866446      +\n",
       "chr7   128502937  128503095  24.969441  2.631810      +\n",
       "chr7   140396627  140396643  21.331381  4.526628      +\n",
       "chr7   128388651  128388732  19.171018  2.849902      +\n",
       "chr7   140402664  140402746  18.386657  4.667984      +"
      ]
     },
     "execution_count": 31,
     "metadata": {},
     "output_type": "execute_result"
    }
   ],
   "source": [
    "rep2_peaks = pd.read_table(peak_dir+\"fto_clip_rep2.bed\", index_col=0, \n",
    "                          names = ['chrom','start','stop','pval','fc','strand'])\n",
    "rep2_peaks.head()"
   ]
  },
  {
   "cell_type": "code",
   "execution_count": 32,
   "metadata": {},
   "outputs": [
    {
     "data": {
      "text/html": [
       "<div>\n",
       "<table border=\"1\" class=\"dataframe\">\n",
       "  <thead>\n",
       "    <tr style=\"text-align: right;\">\n",
       "      <th></th>\n",
       "      <th>start</th>\n",
       "      <th>stop</th>\n",
       "      <th>pval</th>\n",
       "      <th>fc</th>\n",
       "      <th>strand</th>\n",
       "    </tr>\n",
       "    <tr>\n",
       "      <th>chrom</th>\n",
       "      <th></th>\n",
       "      <th></th>\n",
       "      <th></th>\n",
       "      <th></th>\n",
       "      <th></th>\n",
       "    </tr>\n",
       "  </thead>\n",
       "  <tbody>\n",
       "    <tr>\n",
       "      <th>chr7</th>\n",
       "      <td>140396556</td>\n",
       "      <td>140396627</td>\n",
       "      <td>26.740645</td>\n",
       "      <td>3.866446</td>\n",
       "      <td>+</td>\n",
       "    </tr>\n",
       "    <tr>\n",
       "      <th>chr7</th>\n",
       "      <td>128502937</td>\n",
       "      <td>128503095</td>\n",
       "      <td>24.969441</td>\n",
       "      <td>2.631810</td>\n",
       "      <td>+</td>\n",
       "    </tr>\n",
       "    <tr>\n",
       "      <th>chr7</th>\n",
       "      <td>140396627</td>\n",
       "      <td>140396643</td>\n",
       "      <td>21.331381</td>\n",
       "      <td>4.526628</td>\n",
       "      <td>+</td>\n",
       "    </tr>\n",
       "    <tr>\n",
       "      <th>chr7</th>\n",
       "      <td>128388651</td>\n",
       "      <td>128388732</td>\n",
       "      <td>19.171018</td>\n",
       "      <td>2.849902</td>\n",
       "      <td>+</td>\n",
       "    </tr>\n",
       "    <tr>\n",
       "      <th>chr7</th>\n",
       "      <td>140402664</td>\n",
       "      <td>140402746</td>\n",
       "      <td>18.386657</td>\n",
       "      <td>4.667984</td>\n",
       "      <td>+</td>\n",
       "    </tr>\n",
       "  </tbody>\n",
       "</table>\n",
       "</div>"
      ],
      "text/plain": [
       "           start       stop       pval        fc strand\n",
       "chrom                                                  \n",
       "chr7   140396556  140396627  26.740645  3.866446      +\n",
       "chr7   128502937  128503095  24.969441  2.631810      +\n",
       "chr7   140396627  140396643  21.331381  4.526628      +\n",
       "chr7   128388651  128388732  19.171018  2.849902      +\n",
       "chr7   140402664  140402746  18.386657  4.667984      +"
      ]
     },
     "execution_count": 32,
     "metadata": {},
     "output_type": "execute_result"
    }
   ],
   "source": [
    "rep2_peaks_sig_peaks = rep2_peaks.loc[(rep2_peaks['pval'] > 3) &\n",
    "               (rep2_peaks['fc'] > 2)]\n",
    "rep2_peaks_sig_peaks.head()"
   ]
  },
  {
   "cell_type": "code",
   "execution_count": 33,
   "metadata": {},
   "outputs": [],
   "source": [
    "rep2_peaks_sig_peaks.to_csv(save_dir+\"fto_rep2_sig_peaks.bed\", header=None, sep=\"\\t\")"
   ]
  },
  {
   "cell_type": "markdown",
   "metadata": {},
   "source": [
    "Now we're ready to move onto bedtools."
   ]
  }
 ],
 "metadata": {
  "kernelspec": {
   "display_name": "python2-base",
   "language": "python",
   "name": "python2"
  },
  "language_info": {
   "codemirror_mode": {
    "name": "ipython",
    "version": 2
   },
   "file_extension": ".py",
   "mimetype": "text/x-python",
   "name": "python",
   "nbconvert_exporter": "python",
   "pygments_lexer": "ipython2",
   "version": "2.7.12"
  }
 },
 "nbformat": 4,
 "nbformat_minor": 1
}
