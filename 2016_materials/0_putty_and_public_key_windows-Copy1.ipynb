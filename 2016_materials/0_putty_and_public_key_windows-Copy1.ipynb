{
 "cells": [
  {
   "cell_type": "markdown",
   "metadata": {},
   "source": [
    "# This is for all students who will be using a windows machine. Please follow the instructions below before day 1 so I can get your account properly setup with TSCC"
   ]
  },
  {
   "cell_type": "markdown",
   "metadata": {},
   "source": [
    "**1) Download Cygwin**\n",
    "\n",
    "Determine if you have a 32 or 64 bit version of Windows.\n",
    "\n",
    "https://support.microsoft.com/en-us/kb/827218.\n",
    "\n",
    "http://cygwin.com/install.html.\n",
    "\n",
    "Run setup-x86.exe if you have 32 bit windows. If not Run setup-x86_64.exe\n",
    "\n",
    "Choose a Download site - just pick the first one \"cygwin.mirror.constant.com\"\n",
    "\n",
    "Select packages - in the seach bar type cygwin and then press next - Click next again to install all the packages that satisfy the necessary dependencies.\n",
    "\n",
    "Install Cygwin and double-click on Cygwin Terminal to open"
   ]
  },
  {
   "cell_type": "markdown",
   "metadata": {},
   "source": [
    "**2) Download Putty**\n",
    "\n",
    "Cygwin is a good program to give you access to the command line on a windows machine, but we will need to download putty to access TSCC. \n",
    "\n",
    "Go [here](http://www.chiark.greenend.org.uk/~sgtatham/putty/download.html) to find the most revent putty files. \n",
    "\n",
    "Download the putty-0.67-installer.msi file\n",
    "\n",
    "By default this will go to your downlaods folder and the file is called putty-0.6.7-installer. Double clinck on it and follow the installation instructions."
   ]
  },
  {
   "cell_type": "markdown",
   "metadata": {},
   "source": [
    "**3) Put icons on your desktop**\n",
    "\n",
    "In startup menu - all programs, there is a folder called PuTTY. Copy 3 icons to your desktop by right click - Send to - Desktop (create shortcut)\n",
    "\n",
    "Do it for PuTTY, PuTTYgen, and PSFTP\n",
    "\n"
   ]
  },
  {
   "cell_type": "markdown",
   "metadata": {},
   "source": [
    "**4) Install winSCP**\n",
    "\n",
    "Go to this [website](https://winscp.net/eng/download.php) and click \"Installation package.\" The program should start downloading (or you can directly download it from this [link](https://winscp.net/download/WinSCP-5.9.1-Setup.exe)\n",
    "\n",
    "This file will appear in your downloads, double click on it and follow the installation instructions. A WinSCP icon should appeak on your desktop. There is also a folder in your \"All Programs\" folder in your startup menu called WinSCP. "
   ]
  },
  {
   "cell_type": "markdown",
   "metadata": {},
   "source": [
    "**5) Create a public/private key pair**\n",
    "\n",
    "Double click on PuTTYgen to open the key generator. Click on Generate to generate the key. Move your mouse over the blank area to generate some randomness (if you don't do this, nothing will happen). \n",
    "\n",
    "Once your key as been generated, click \"Save Public Key\" Put it somewhere meaningful to you, maybe in your home - Documents folder. This doesn't really matter, just make sure you know where it is. Type public.pkk in the File name field and click save. You should see a file appear called \"private\" and the type should be PuTTY Private Key file. \n",
    "\n",
    "Now save your private key. Generate a password for your private key and enter it into the Key passphrase and confirm it by typing it again in the Confirm passphrase field. Then click \"Save private key\" By default, this will go to the same location where you saved your public key, but double check that you are in the same folder where your public key is located at. Save this file as private.pkk \n",
    "\n",
    "Now your public and private keys have been generated. Before you exit the Key generator, copy the entire contents of the field \"Public key for pasting into OpenSSH authorized_file\". Paste that into an email and send it to me (ecwheele@ucsd.edu).\n"
   ]
  },
  {
   "cell_type": "markdown",
   "metadata": {},
   "source": [
    "**6) Open PuTTY to login to TSCC**\n",
    "\n",
    "Click on the PuTTY executible. In the left side of the application, click on connection - SSH - Auth\n",
    "\n",
    "In the field \"Private key file for authentication:\" click on Browse to find the location where you saved your private key. \n",
    "\n",
    "Then go back to the left \"category\" panel of your screen and select \"session\"\n",
    "\n",
    "Use the \"UCSD-train account assignments\" file in the dropbox to find the username you have been assigned for TSCC. In the host name (or IP address) field type: ucsd-train##@tscc-login.sdsc.edu Remember to put your specific number where I have written ##\n",
    "\n",
    "\n",
    "The connection type should be \"SSH\" and the Port# is 22\n",
    "\n",
    "Give this a name by typing: tscc in the \"Saves Sessions\" field so you can load it again later when you login to tscc. \n",
    "\n",
    "Click \"Open\"\n",
    "\n",
    "You will get a security alert and click \"Yes\"\n",
    "\n",
    "You will be prompted to enter your passphrase. Enter the one you created when generating your key. \n",
    "\n",
    "Success! You are now logged onto TSCC"
   ]
  },
  {
   "cell_type": "markdown",
   "metadata": {},
   "source": [
    "**7) WinSCP to move files**\n",
    "\n",
    "Double click on the WinSCP icon on your desktop. \n",
    "\n",
    "File protocol: SCP\n",
    "\n",
    "Host name: tscc-login.sdsc.edu\n",
    "\n",
    "Ucsd Name: ucsd-train##\n",
    "\n",
    "Advanced - SSH - Authentication - Private key file: click on the 3 dots after the field and find your private key file that you have saved on your Desktop.\n",
    "\n",
    "Click OK\n",
    "\n",
    "Login - \"Yes\"\n",
    "\n",
    "You can see the files that are in your home folder on tscc. Use the refresh button to see what is most current. Drag and drop files between your home computer and TSCC.\n"
   ]
  },
  {
   "cell_type": "markdown",
   "metadata": {},
   "source": [
    "**8) Jupyter notebook**\n",
    "\n",
    "Open PuTTY\n",
    "\n",
    "Load up your session information with your saved ucsd-train## session\n",
    "\n",
    "Connection - SSH - auth = load your private Key\n",
    "\n",
    "Click on Tunnels - \"source port\" - enter the 4 digit number you made from the Jupyer notebook command. "
   ]
  },
  {
   "cell_type": "code",
   "execution_count": null,
   "metadata": {
    "collapsed": true
   },
   "outputs": [],
   "source": []
  }
 ],
 "metadata": {
  "kernelspec": {
   "display_name": "Python 2",
   "language": "python",
   "name": "python2"
  },
  "language_info": {
   "codemirror_mode": {
    "name": "ipython",
    "version": 2
   },
   "file_extension": ".py",
   "mimetype": "text/x-python",
   "name": "python",
   "nbconvert_exporter": "python",
   "pygments_lexer": "ipython2",
   "version": "2.7.12"
  }
 },
 "nbformat": 4,
 "nbformat_minor": 0
}
