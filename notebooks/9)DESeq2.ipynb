{
 "cells": [
  {
   "cell_type": "markdown",
   "metadata": {},
   "source": [
    "# Now we will load DESeq2 for differential expression analysis"
   ]
  },
  {
   "cell_type": "markdown",
   "metadata": {},
   "source": [
    "You will first need to install DESeq2. This is a program that runs in R, so we need to install it within R. First, we will use conda to download R in our anaconda. If you check which R before installing it to conda, it might take you to a R installation that already exists on TSCC. Since we want to be in control of our specific version and installs, we will use anaconda to install it.\n",
    "\n",
    "    conda install -c r r\n",
    "    \n",
    "There is an r-essentials packages that has a lot of the commonly used R packages available for install all in one! We will use conda to install that package too.\n",
    "\n",
    "    conda install -c r r-essentials\n",
    "    \n",
    "In order to run DESeq2, we need to update a few other r packages (I found this out by trying to install DESeq2 and getting errors that it needs a newer version of these programs).\n",
    "\n",
    "    conda install -c r r-xml\n",
    "    \n",
    "    conda install gcc\n",
    "\n",
    "Open R in your terminal on TSCC by typing:\n",
    "\n",
    "    R\n",
    "    \n",
    "This will now take you into R where you can do your installation. Note that your command line now has a > rather than your TSCC login. This is specific to the R language. Now you are coding in R, not BASH. Use the following two commands to install DESeq2:\n",
    "\n",
    "    source(\"http://bioconductor.org/biocLite.R\")\n",
    "    \n",
    "    biocLite(\"DESeq2\")\n",
    "    \n",
    "It will ask you about updating packages:\n",
    "\n",
    "    Update all/some/none? [a/s/n]: \n",
    "    \n",
    "Type a to update all.\n",
    "\n",
    "It might error out at the end saying that some packages had \"Non-Zero Exit status.\" That is okay, move forward with the next command to see if you can load DESeq2.\n",
    "\n",
    "    library(\"DESeq2\")\n",
    "    \n",
    "It should load without any error messages. There will be a lot of other messages that come up with the package loading, but nothing that says error or failed. Great! Now that we know it installed properly, let's get out of R and go back to the bash terminal. To get back to a bash command line, quit R with:\n",
    "\n",
    "    quit()\n",
    "    \n",
    "Do you want to save the workspace image? No.\n",
    "    \n",
    "Now when you open a jupyter notebook, you will have the option to select R as a kernel in a new notebook. Try it out! If you already have jupyter running, refresh your web browser (or refresh your notebook kernel) to activate these changes. "
   ]
  },
  {
   "cell_type": "code",
   "execution_count": null,
   "metadata": {
    "collapsed": false
   },
   "outputs": [],
   "source": [
    "suppressMessages(library(\"DESeq2\"))\n",
    "\n",
    "library(\"ggplot2\")\n",
    "\n",
    "library(\"RColorBrewer\")"
   ]
  },
  {
   "cell_type": "code",
   "execution_count": null,
   "metadata": {
    "collapsed": false
   },
   "outputs": [],
   "source": [
    "counts <- read.csv('/home/ucsd-train01/projects/fto_shrna/deseq2/fto_counts_for_deseq2.csv',\n",
    "                  header=TRUE, row.names=1)\n",
    "head(counts)"
   ]
  },
  {
   "cell_type": "code",
   "execution_count": null,
   "metadata": {
    "collapsed": false
   },
   "outputs": [],
   "source": [
    "col_data <- read.csv('/home/ucsd-train01/projects/fto_shrna/deseq2/fto_conditions_for_deseq2.csv',\n",
    "                  header=TRUE, row.names=1)\n",
    "\n",
    "head(col_data)"
   ]
  },
  {
   "cell_type": "code",
   "execution_count": null,
   "metadata": {
    "collapsed": true
   },
   "outputs": [],
   "source": [
    "dds <- DESeqDataSetFromMatrix(countData = counts,\n",
    "                              colData = col_data,\n",
    "                              design = ~ condition)"
   ]
  },
  {
   "cell_type": "code",
   "execution_count": null,
   "metadata": {
    "collapsed": false
   },
   "outputs": [],
   "source": [
    "dds <- DESeq(dds)"
   ]
  },
  {
   "cell_type": "code",
   "execution_count": null,
   "metadata": {
    "collapsed": false
   },
   "outputs": [],
   "source": [
    "res <- results(dds)\n",
    "\n",
    "write.csv(as.data.frame(res), file=\"/home/ucsd-train01/projects/fto_shrna/deseq2/fto_differential_expression.csv\")"
   ]
  },
  {
   "cell_type": "code",
   "execution_count": null,
   "metadata": {
    "collapsed": false
   },
   "outputs": [],
   "source": [
    "summary(res)"
   ]
  },
  {
   "cell_type": "code",
   "execution_count": null,
   "metadata": {
    "collapsed": false
   },
   "outputs": [],
   "source": [
    "plotMA(res, main=\"DESeq2\", ylim=c(-2,2))"
   ]
  },
  {
   "cell_type": "code",
   "execution_count": null,
   "metadata": {
    "collapsed": false
   },
   "outputs": [],
   "source": [
    "res05 <- results(dds, alpha=0.05)\n",
    "\n",
    "plotMA(res05, main=\"alpha=0.05\", ylim=c(-2,2))"
   ]
  },
  {
   "cell_type": "code",
   "execution_count": null,
   "metadata": {
    "collapsed": false
   },
   "outputs": [],
   "source": [
    "rld <- rlog(dds)\n",
    "vsd <- varianceStabilizingTransformation(dds)\n",
    "\n",
    "data <- plotPCA(rld, intgroup=\"condition\", returnData=TRUE)\n",
    "percentVar <- round(100 * attr(data, \"percentVar\"))\n",
    "ggplot(data, aes(PC1, PC2, color=condition)) +\n",
    "    geom_point(size=3) +\n",
    "    xlab(paste0(\"PC1: \",percentVar[1],\"% variance\")) \n",
    "    ylab(paste0(\"PC2: \",percentVar[2],\"% variance\"))"
   ]
  },
  {
   "cell_type": "code",
   "execution_count": null,
   "metadata": {
    "collapsed": false
   },
   "outputs": [],
   "source": [
    "sampleDists <- dist(t(assay(rld)))\n",
    "\n",
    "\n",
    "sampleDistMatrix <- as.matrix(sampleDists)\n",
    "\n",
    "rownames(sampleDistMatrix) <- paste(rld$condition)\n",
    "\n",
    "colnames(sampleDistMatrix) <- paste(rld$condition)\n",
    "\n",
    "colors <- colorRampPalette( rev(brewer.pal(9, \"Blues\")) )(255)\n",
    "\n",
    "heatmap(sampleDistMatrix,\n",
    "clustering_distance_rows=sampleDists,\n",
    "clustering_distance_cols=sampleDists,\n",
    "col=colors)"
   ]
  },
  {
   "cell_type": "markdown",
   "metadata": {},
   "source": [
    "**Q: How do I make a plot of the counts for the gene that has the smallest adjusted p-value?**"
   ]
  },
  {
   "cell_type": "code",
   "execution_count": null,
   "metadata": {
    "collapsed": true
   },
   "outputs": [],
   "source": []
  }
 ],
 "metadata": {
  "kernelspec": {
   "display_name": "R",
   "language": "R",
   "name": "ir"
  },
  "language_info": {
   "codemirror_mode": "r",
   "file_extension": ".r",
   "mimetype": "text/x-r-source",
   "name": "R",
   "pygments_lexer": "r",
   "version": "3.2.2"
  }
 },
 "nbformat": 4,
 "nbformat_minor": 0
}
