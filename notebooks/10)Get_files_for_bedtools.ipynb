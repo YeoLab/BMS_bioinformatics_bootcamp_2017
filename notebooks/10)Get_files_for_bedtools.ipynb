{
 "cells": [
  {
   "cell_type": "code",
   "execution_count": null,
   "metadata": {},
   "outputs": [],
   "source": [
    "import pandas as pd"
   ]
  },
  {
   "cell_type": "markdown",
   "metadata": {},
   "source": [
    "Let's pull out significantly differentially expressed genes."
   ]
  },
  {
   "cell_type": "code",
   "execution_count": null,
   "metadata": {},
   "outputs": [],
   "source": [
    "deseq2_dir = \"/oasis/tscc/scratch/biom200/featurecounts/\"\n",
    "deseq2_result = pd.read_csv(deseq2_dir+\"differential_expression.csv\", index_col=0)\n",
    "deseq2_result.head()"
   ]
  },
  {
   "cell_type": "markdown",
   "metadata": {},
   "source": [
    "GeneID isn't really helpful, let's add the gene name onto the dataframe. "
   ]
  },
  {
   "cell_type": "code",
   "execution_count": null,
   "metadata": {},
   "outputs": [],
   "source": [
    "peak_dir = \"/oasis/tscc/scratch/biom200/fto_clip/\"\n",
    "\n",
    "gene_names = pd.read_table(peak_dir+\"gencode.v19.annotation.genenames.txt\", index_col=0)\n",
    "gene_names.head()"
   ]
  },
  {
   "cell_type": "code",
   "execution_count": null,
   "metadata": {},
   "outputs": [],
   "source": [
    "deseq2_result = deseq2_result.join(gene_names)\n",
    "deseq2_result.head()"
   ]
  },
  {
   "cell_type": "markdown",
   "metadata": {},
   "source": [
    "Which genes have a significant value in the padj column? "
   ]
  },
  {
   "cell_type": "code",
   "execution_count": null,
   "metadata": {},
   "outputs": [],
   "source": [
    "sig_genes = deseq2_result.loc[deseq2_result['padj'] < 0.05]"
   ]
  },
  {
   "cell_type": "markdown",
   "metadata": {},
   "source": [
    "Let's separate those between upregulated and downregulated"
   ]
  },
  {
   "cell_type": "code",
   "execution_count": null,
   "metadata": {},
   "outputs": [],
   "source": [
    "sig_genes_up = sig_genes.loc[sig_genes['log2FoldChange'] > 1]\n",
    "print sig_genes_up.shape\n",
    "sig_genes_up.head()"
   ]
  },
  {
   "cell_type": "code",
   "execution_count": null,
   "metadata": {},
   "outputs": [],
   "source": [
    "sig_genes_down = sig_genes.loc[sig_genes['log2FoldChange'] < -1]\n",
    "print sig_genes_down.shape\n",
    "sig_genes_down.head()"
   ]
  },
  {
   "cell_type": "markdown",
   "metadata": {},
   "source": [
    "I want to save those geneIDs, now that I have called them as significant, I don't care about the rest of the stuff"
   ]
  },
  {
   "cell_type": "code",
   "execution_count": null,
   "metadata": {},
   "outputs": [],
   "source": [
    "upregulated_genes = sig_genes_up.index\n",
    "downregulated_genes = sig_genes_down.index"
   ]
  },
  {
   "cell_type": "markdown",
   "metadata": {},
   "source": [
    "We are going to use bedtools to intersect those genes with a list of peaks that we called from FTO clip. Check out the bedtools documentation. In particular, we are going to use bedtools intersect. \n",
    "\n",
    "In order to use bedtools intersect, we need a bed file of genes, not just a list of geneIDs. I put a bed file in the shared folder, let's load that in as a dataframe and make new bed files of genes that we are interested in"
   ]
  },
  {
   "cell_type": "code",
   "execution_count": null,
   "metadata": {},
   "outputs": [],
   "source": [
    "bedfile_of_genes = pd.read_table(peak_dir+\"hg19_genes.bed\",  \n",
    "                              names = ['chrom','start','stop','geneid','name','strand'])\n",
    "bedfile_of_genes.head()"
   ]
  },
  {
   "cell_type": "markdown",
   "metadata": {},
   "source": [
    "I want to set the geneID as the index"
   ]
  },
  {
   "cell_type": "code",
   "execution_count": null,
   "metadata": {},
   "outputs": [],
   "source": [
    "bedfile_of_genes.set_index(\"geneid\", drop=False, inplace=True)\n",
    "bedfile_of_genes.head()"
   ]
  },
  {
   "cell_type": "markdown",
   "metadata": {},
   "source": [
    "How do I use this new index to grab only upregulated genes?"
   ]
  },
  {
   "cell_type": "code",
   "execution_count": null,
   "metadata": {},
   "outputs": [],
   "source": [
    "upregulated_bed = bedfile_of_genes.loc[upregulated_genes]"
   ]
  },
  {
   "cell_type": "code",
   "execution_count": null,
   "metadata": {},
   "outputs": [],
   "source": [
    "downregulated_bed = bedfile_of_genes.loc[downregulated_genes]"
   ]
  },
  {
   "cell_type": "markdown",
   "metadata": {},
   "source": [
    "Let's save those files, but we don't want to save the index again or the header because bedfiles don't have a header. They also need to be tab separated"
   ]
  },
  {
   "cell_type": "code",
   "execution_count": null,
   "metadata": {},
   "outputs": [],
   "source": [
    "save_dir = \"/home/ucsd-train01/projects/fto_shrna/fto_clip/\"\n",
    "upregulated_bed.to_csv(save_dir+\"upregulated_genes.bed\", index=None, header=None, sep=\"\\t\")\n",
    "downregulated_bed.to_csv(save_dir+\"downregulated_genes.bed\", index=None, header=None, sep=\"\\t\")"
   ]
  },
  {
   "cell_type": "markdown",
   "metadata": {},
   "source": [
    "One more thing, we need a bedfile of significant peaks to compare to these upregulated and downregulated genes. Let's load up the peak file, and filter for pvalue and fold change cutoffs"
   ]
  },
  {
   "cell_type": "code",
   "execution_count": null,
   "metadata": {},
   "outputs": [],
   "source": [
    "rep1_peaks = pd.read_table(peak_dir+\"fto_clip_rep1.bed\", index_col=0, \n",
    "                          names = ['chrom','start','stop','pval','fc','strand'])\n",
    "rep1_peaks.head()"
   ]
  },
  {
   "cell_type": "markdown",
   "metadata": {},
   "source": [
    "How do we select rows with pval greater than 3 and fold change greater than 2?"
   ]
  },
  {
   "cell_type": "code",
   "execution_count": null,
   "metadata": {},
   "outputs": [],
   "source": [
    "rep1_peaks_sig_peaks = rep1_peaks.loc[(rep1_peaks['pval'] > 3) &\n",
    "               (rep1_peaks['fc'] > 2)]\n",
    "rep1_peaks_sig_peaks.head()"
   ]
  },
  {
   "cell_type": "code",
   "execution_count": null,
   "metadata": {},
   "outputs": [],
   "source": [
    "rep1_peaks_sig_peaks.to_csv(save_dir+\"fto_rep1_sig_peaks.bed\", header=None, sep=\"\\t\")"
   ]
  },
  {
   "cell_type": "markdown",
   "metadata": {},
   "source": [
    "Let's do the same thing for rep2 peaks"
   ]
  },
  {
   "cell_type": "code",
   "execution_count": null,
   "metadata": {},
   "outputs": [],
   "source": [
    "rep2_peaks = pd.read_table(peak_dir+\"fto_clip_rep2.bed\", index_col=0, \n",
    "                          names = ['chrom','start','stop','pval','fc','strand'])\n",
    "rep2_peaks.head()"
   ]
  },
  {
   "cell_type": "code",
   "execution_count": null,
   "metadata": {},
   "outputs": [],
   "source": [
    "rep2_peaks_sig_peaks = rep2_peaks.loc[(rep2_peaks['pval'] > 3) &\n",
    "               (rep2_peaks['fc'] > 2)]\n",
    "rep2_peaks_sig_peaks.head()"
   ]
  },
  {
   "cell_type": "code",
   "execution_count": null,
   "metadata": {},
   "outputs": [],
   "source": [
    "rep2_peaks_sig_peaks.to_csv(save_dir+\"fto_rep2_sig_peaks.bed\", header=None, sep=\"\\t\")"
   ]
  },
  {
   "cell_type": "markdown",
   "metadata": {},
   "source": [
    "Now we're ready to move onto bedtools."
   ]
  }
 ],
 "metadata": {
  "kernelspec": {
   "display_name": "python2-base",
   "language": "python",
   "name": "python2"
  },
  "language_info": {
   "codemirror_mode": {
    "name": "ipython",
    "version": 2
   },
   "file_extension": ".py",
   "mimetype": "text/x-python",
   "name": "python",
   "nbconvert_exporter": "python",
   "pygments_lexer": "ipython2",
   "version": "2.7.12"
  }
 },
 "nbformat": 4,
 "nbformat_minor": 1
}
