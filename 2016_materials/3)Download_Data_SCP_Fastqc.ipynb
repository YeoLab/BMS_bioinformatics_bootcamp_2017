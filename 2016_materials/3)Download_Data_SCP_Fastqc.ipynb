{
 "cells": [
  {
   "cell_type": "markdown",
   "metadata": {},
   "source": [
    "# Track the flow of work we have done in processing the datasets"
   ]
  },
  {
   "cell_type": "markdown",
   "metadata": {},
   "source": [
    "**Step 1: Download dataset**\n",
    "\n",
    "\n",
    "First we will download the data from the [ENCODE](https://www.encodeproject.org/) website. There are many different experiments and datasets available here. You can download both raw and fully processed data. For our learning purposes, we will download the raw data (fastq). Let's take a look at knockdown of LIN28B in K562 cells (data [here](https://www.encodeproject.org/experiments/ENCSR598YQX/)). When you have found the link to the fastq files, right click on it and select \"copy Link Address\". \n",
    "\n",
    "Then on TSCC, put your file in the proper directory by first moving into the directory where you would like your data to end up, and then pasting the link you have copied after the \"wget\" command. (Remember this is what we did when we downloaded Anaconda). Keep in mind that this data is paired-end, so there are two reads per dataset (R1 and R2). So you will need to download two files. \n",
    "\n",
    "    cd ~/raw_data/\n",
    "    \n",
    "Let's make a directory in raw_data specifically for the raw data for this project. \n",
    "\n",
    "    mkdir ~/raw_data/lin28b_shrna/\n",
    "    \n",
    "Then move into that directory before running wget. REMEMBER TO USE TABS TO EASILY MOVE BETWEEN DIRECTORIES. \n",
    "\n",
    "    cd ~/raw_data/lin28b_shrna/\n",
    "\n",
    "    wget https://www.encodeproject.org/files/ENCFF653FTD/@@download/ENCFF653FTD.fastq.gz\n",
    "    \n",
    "    wget https://www.encodeproject.org/files/ENCFF621LMO/@@download/ENCFF621LMO.fastq.gz\n",
    "    \n"
   ]
  },
  {
   "cell_type": "markdown",
   "metadata": {},
   "source": [
    "**Step 2: Run fastqc to check the sequencing quality of the reads that you downloaded. Remember that we installed fastqc with:**\n",
    "\n",
    "    conda install -c bioconda fastqc\n",
    "    \n",
    "You can see that it has installed properly with:\n",
    "\n",
    "    which fastqc\n",
    "    \n",
    "The output should be something like:\n",
    "\n",
    "    ~/anaconda2/bin/fastqc\n",
    "    \n",
    "*Q. Why is it finding the program in this location?*\n",
    "\n",
    "Let's make a directory in projects for our new lin28b_shrna project, and make another directory within that folder for the restuls of our fastqc run.\n",
    "\n",
    "    mkdir ~/projects/lin28b_shrna/\n",
    "    mkdir ~/projects/lin28b_shrna/fastqc/\n",
    "\n",
    "Run fastqc to check the quality of your sequencing results. Remember to specify the full path of where your datasets are stored and where you want the processed data to end up. You will have to do this one one file at a time. REMEMBER TO USE TABS TO AVOID TYPOS! The -o argument is used to specify the location of the output files.\n",
    "\n",
    "    fastqc ENCFF621LMO.fastq.gz -o ~/projects/lin28b_shrna/fastqc/\n",
    "    fastqc ENCFF653FTD.fastq.gz -o ~/projects/lin28b_shrna/fastqc/\n"
   ]
  },
  {
   "cell_type": "markdown",
   "metadata": {},
   "source": [
    "**Step 3 Move file outputs to your Desktop:**\n",
    "\n",
    "**For Windows Users:**\n",
    "\n",
    "Download WinSCP. Go to this [website](https://winscp.net/eng/download.php) and click \"Installation package.\" The program should start downloading (or you can directly download it from this [link](https://winscp.net/download/WinSCP-5.9.1-Setup.exe)\n",
    "\n",
    "This file will appear in your downloads, double click on it and follow the installation instructions. A WinSCP icon should appeak on your desktop. There is also a folder in your \"All Programs\" folder in your startup menu called WinSCP.\n",
    "\n",
    "Double click on the WinSCP icon on your desktop. \n",
    "\n",
    "File protocol: SCP\n",
    "\n",
    "Host name: tscc-login.sdsc.edu\n",
    "\n",
    "Ucsd Name: ucsd-train##\n",
    "\n",
    "Advanced - SSH - Authentication - Private key file: click on the 3 dots after the field and find your private key file that you have saved on your Desktop.\n",
    "\n",
    "Click OK\n",
    "\n",
    "Login - \"Yes\"\n",
    "\n",
    "You can see the files that are in your home folder on tscc. Use the refresh button to see what is most current. Drag and drop files between your home computer and TSCC."
   ]
  },
  {
   "cell_type": "markdown",
   "metadata": {
    "collapsed": true
   },
   "source": [
    "**For MAC users:** \n",
    "\n",
    "Use scp (secure copy). scp is a bash command, the syntax is always:\n",
    "\n",
    "scp sourcefile destinationfile\n",
    "\n",
    "This is the same syntax that you learned for cp (copy), but there is one added step for scp (secure copy)\n",
    "\n",
    "Since in this instance, the sourcefile is on tscc, you need to include your login information followed by a colon before the full path of the file you would like to move. \n",
    "\n",
    "Notice the * at the end of the line. This is a wild-card character. This will copy all files that have the same prefix.\n",
    "\n",
    "The destination file is simply ./ meaning the file that we are currently sitting in on our home computer. This is because we first moved into the directory where we want these files to be copied to.\n",
    "\n",
    "On your local machine (NOT TSCC). Make a folder where you want this data to land and move into it. In this example, I am copying data into a folder on my desktop called module 1 (note this folder is located in a BIOM200 folder... take a look at the full path). Keep in mind this folder must exist before you try to copy something into it. Make sure you are running this command from your LOCAL MACHINE (NOT TSCC).\n",
    "    \n",
    "    mkdir ~/Desktop/BIOM200/module_1\n",
    "    cd ~/Desktop/BIOM200/module_1\n",
    "    scp ucsd-train##@tscc-login.sdsc.edu:~/projects/lin28b_shrna/fastqc/ENCFF943VGE_fastqc* ./\n",
    "    \n",
    "or:\n",
    "\n",
    "    mkdir ~/BIOM200/module_1\n",
    "    scp ucsd-train##@tscc-login.sdsc.edu:~/projects/lin28b_shrna/fastqc/ENCFF943VGE_fastqc* ~/Desktop/BIOM200/module_1/\n",
    "    \n",
    "The most common error message associated with this command will be that the file or destination does not exist. When possible, use tabs to make sure you are avoiding typos. Also copy and paste directories directly works well. If you are getting this error, check what you wrote and copy that full path onto tscc. You can check if you typed it right with, \n",
    "\n",
    "    ls ~/projects/lin28b_shrna/fastqc/ENCFF943VGE_fastqc*\n",
    "    \n",
    "If it tells you this doesn't exist, there is a typo somewhere or you haven't defined the full path properly.\n",
    "\n",
    "*Q: How could you use scp to copy ALL files at once within the folder?*\n",
    "\n",
    "*HINT - Use man to learn more about the scp command*\n",
    "\n",
    "Open a finder window to the location where you put the files on your computer and click on the html link to access the fastqc results."
   ]
  },
  {
   "cell_type": "code",
   "execution_count": null,
   "metadata": {
    "collapsed": true
   },
   "outputs": [],
   "source": []
  }
 ],
 "metadata": {
  "kernelspec": {
   "display_name": "Python 2",
   "language": "python",
   "name": "python2"
  },
  "language_info": {
   "codemirror_mode": {
    "name": "ipython",
    "version": 2
   },
   "file_extension": ".py",
   "mimetype": "text/x-python",
   "name": "python",
   "nbconvert_exporter": "python",
   "pygments_lexer": "ipython2",
   "version": "2.7.12"
  }
 },
 "nbformat": 4,
 "nbformat_minor": 0
}
