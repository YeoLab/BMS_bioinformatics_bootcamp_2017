{
 "cells": [
  {
   "cell_type": "markdown",
   "metadata": {},
   "source": [
    "# Bioinformatics Bootcamp 2017\n",
    "**Biomedical Sciences Program - University of California San Diego (UCSD)**  \n",
    "\n",
    "### Contact us:\n",
    "Instructor: [Emily Wheeler](mailto:ecwheele@ucsd.edu) (ecwheele@ucsd.edu)  \n",
    "Instructor: [Ryan Marina](mailto:rmarina@ucsd.edu) (rmarina@ucsd.edu)  \n",
    "Lecturer: [Dave Gorkin](mailto:dgorkin@ucsd.edu) (dgorkin@ucsd.edu)  \n",
    "Lecturer: [Eric Van Nostrand](mailto:elvannostrand@ucsd.edu) (elvannostrand@ucsd.edu)  \n",
    "\n",
    "### Lecture Location\n",
    "Lectures will all be held in CMME room 2017. See below for daily schedule.\n",
    "\n",
    "\n",
    "### Homework Submission\n",
    "One homework will be assigned on Friday and due on Monday.\n",
    "\n"
    ]
  },
  {
   "cell_type": "markdown",
   "metadata": {},
   "source": [
    "## Syllabus\n",
    "\n",
    "| Day | Date | Time | Topic | Lecture |\n",
    "| --- | ---- | ---- | ----- | ------- |\n",
    "| **0** | Pre-CLASS |  | Setup TSCC accounts |  |\n",
    "| **Wednesday** | 9/27/17 | 9A - 1P | Sequencing Applications Lecture and Intro to Unix |  |\n",
    "| **Thursday** | 9/28/27 | 9A - 1P | Downloading Data, Fastqc, Intro to Alignment |  |\n",
    "| **Friday** | 9/29/17 | 9A - 12P | Alignment and Job Submitting to Cluster |  |\n",
    "| **Monday** | 10/2/17 | 9A - 1P | Samtools and Gene quantification |  |\n",
    "| **Tuesday** | 10/3/17 | 9A - 1P | Differential Expression |  |\n",
    "| **Wednesday** | 10/4/17 | 9A - 1P | Python Demo |  |\n",
    "\n"
   ]
  },
  {
   "cell_type": "markdown",
   "metadata": {},
   "source": [
    "\n",
    "\n",
    "## Group Project\n",
    "\n",
    "**Details to come:**\n",
    "\n"
   ]
  }
 ],
 "metadata": {
  "kernelspec": {
   "display_name": "Python 2",
   "language": "python",
   "name": "python2"
  },
  "language_info": {
   "codemirror_mode": {
    "name": "ipython",
    "version": 2
   },
   "file_extension": ".py",
   "mimetype": "text/x-python",
   "name": "python",
   "nbconvert_exporter": "python",
   "pygments_lexer": "ipython2",
   "version": "2.7.11"
  }
 },
 "nbformat": 4,
 "nbformat_minor": 0
}
