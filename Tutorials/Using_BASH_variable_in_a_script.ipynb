{
 "cells": [
  {
   "cell_type": "markdown",
   "metadata": {},
   "source": [
    "We talked about using shortcuts in bash to replace the sample name with a variable to make sure that we rename it properly for all parts in the script. Here is an example of how to do that. Our STAR mapping script looks like this:\n",
    "\n",
    "    #!/bin/bash\n",
    "    #PBS -q hotel\n",
    "    #PBS -N star_mapping\n",
    "    #PBS -l nodes=1:ppn=8\n",
    "    #PBS -l walltime=1:00:00\n",
    "    #PBS -o star_mapping.out\n",
    "    #PBS -e star_mapping.err\n",
    "\n",
    "    STAR --runThreadN 8 --genomeDir ~/scratch/annotations/hg19/star --readFilesIn ~/biom200/fastqs/k562_FTO_shRNA_rep1_R1.fastq.gz ~/biom200/fastqs/k562_FTO_shRNA_rep1_R2.fastq.gz --readFilesCommand zcat --genomeLoad LoadAndRemove --outFilterType BySJout --outFilterMultimapNmax 10 --alignSJoverhangMin 8 --alignSJDBoverhangMin 1 --outFilterMismatchNmax 4 --alignIntronMin 20 --alignIntronMax 1000000 --alignMatesGapMax 100000 --outFileNamePrefix ~/projects/fto_shrna/star_alignment/k562_FTO_shRNA_rep1_\n",
    "    \n",
    "I want to replace:\n",
    "\n",
    "    k562_FTO_shRNA_rep1_\n",
    "    \n",
    "with a variable. I can define the variable at the top of my script with:\n",
    "\n",
    "    SAMPLE=k562_FTO_shRNA_rep1_\n",
    "    \n",
    "To call that variable in the script. You can use:\n",
    "\n",
    "    ${SAMPLE}\n",
    "    \n",
    "So the new script will look like:\n",
    "\n",
    "    #!/bin/bash\n",
    "    #PBS -q hotel\n",
    "    #PBS -N star_mapping\n",
    "    #PBS -l nodes=1:ppn=8\n",
    "    #PBS -l walltime=1:00:00\n",
    "    #PBS -o star_mapping.out\n",
    "    #PBS -e star_mapping.err\n",
    "    \n",
    "    SAMPLE=k562_FTO_shRNA_rep1_\n",
    "\n",
    "    STAR --runThreadN 8 --genomeDir ~/scratch/annotations/hg19/star --readFilesIn ~/biom200/fastqs/${SAMPLE}R1.fastq.gz ~/biom200/fastqs/${SAMPLE}R2.fastq.gz --readFilesCommand zcat --genomeLoad LoadAndRemove --outFilterType BySJout --outFilterMultimapNmax 10 --alignSJoverhangMin 8 --alignSJDBoverhangMin 1 --outFilterMismatchNmax 4 --alignIntronMin 20 --alignIntronMax 1000000 --alignMatesGapMax 100000 --outFileNamePrefix ~/projects/fto_shrna/star_alignment/${SAMPLE}"
   ]
  },
  {
   "cell_type": "code",
   "execution_count": null,
   "metadata": {
    "collapsed": true
   },
   "outputs": [],
   "source": []
  }
 ],
 "metadata": {
  "kernelspec": {
   "display_name": "python2-base",
   "language": "python",
   "name": "python2"
  },
  "language_info": {
   "codemirror_mode": {
    "name": "ipython",
    "version": 2
   },
   "file_extension": ".py",
   "mimetype": "text/x-python",
   "name": "python",
   "nbconvert_exporter": "python",
   "pygments_lexer": "ipython2",
   "version": "2.7.12"
  }
 },
 "nbformat": 4,
 "nbformat_minor": 0
}
