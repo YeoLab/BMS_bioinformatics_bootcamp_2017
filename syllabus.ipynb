{
 "cells": [
  {
   "cell_type": "markdown",
   "metadata": {},
   "source": [
    "# Bioinformatics Bootcamp 2017\n",
    "**Biomedical Sciences Program - University of California San Diego (UCSD)**  \n",
    "\n",
    "### Contact us:\n",
    "Instructor: [Emily Wheeler](mailto:ecwheele@ucsd.edu) (ecwheele@ucsd.edu)  \n",
    "Instructor: [Ryan Marina](mailto:rmarina@ucsd.edu) (rmarina@ucsd.edu)  \n",
    "\n",
    "Lecturer: [Dave Gorkin](mailto:dgorkin@ucsd.edu) (dgorkin@ucsd.edu)  \n",
    "Lecturer: [Eric Van Nostrand](mailto:elvannostrand@ucsd.edu) (elvannostrand@ucsd.edu)  \n",
    "\n",
    "### Lecture Location\n",
    "Lectures will all be held in CMME room 2047. See below for daily schedule.\n",
    "\n",
    "\n",
    "### Homework Submission\n",
    "One homework will be assigned on Friday and due on Monday. Details of the assignment coming soon. \n",
    "\n"
   ]
  },
  {
   "cell_type": "markdown",
   "metadata": {},
   "source": [
    "## Schedule\n",
    "\n",
    "| Day | Date | Time | Topic | Lecture |\n",
    "| --- | ---- | ---- | ----- | ------- |\n",
    "| **0** | Pre-CLASS |  | Setup TSCC accounts |  |\n",
    "| **Wednesday** | 9/27/17 | 9A - 1P | Sequencing Applications Lecture (Dave Gorkin) and Intro to Unix |  |\n",
    "| **Thursday** | 9/28/27 | 9A - 1P | Downloading Data, Fastqc, Intro to Alignment |  |\n",
    "| **Friday** | 9/29/17 | 9A - 1P | Alignment and Job Submitting to Cluster |  |\n",
    "| **Monday** | 10/2/17 | 9A - 1P | Samtools and Gene quantification |  |\n",
    "| **Tuesday** | 10/3/17 | 9A - 1P | RNA Applications Lecutre (Eric Van Nostrand) and Differential Expression |  |\n",
    "| **Wednesday** | 10/4/17 | 9A - 1P | Python Demo |  |"
   ]
  },
  {
   "cell_type": "markdown",
   "metadata": {},
   "source": [
    "## Office Hours\n",
    "\n",
    "| Day | Date | Time | Location | Hosting |\n",
    "| --- | ---- | ---- | ----- | ------- |\n",
    "| **Thursday** | 9/28/27 | 4P - 6P | The Lounge (old Cafe Vita) | Ryan M |\n",
    "| **Sunday** | 10/1/17 | 1P - 3P | Mesa Nueva | Emily + Krystyna |\n",
    "| **Tuesday** | 10/3/17 | 6P - 8P | Regents Pizza | Emily |\n",
    "| **Thursday** | 10/5/17 | 4P - 6P | Leichtag Lobby | Josh + Ryan G |\n",
    "| **Sunday** | 10/8/17 | 1P - 3P | Mesa Nueva | Krystyna |"
   ]
  },
  {
   "cell_type": "markdown",
   "metadata": {},
   "source": [
    "\n",
    "\n",
    "## Group Project\n",
    "\n",
    "**Group Assignments**\n",
    " \n",
    "| Group 1 | Group 2 | Group 3 | Group 4 | Group 5 | Group 6 |\n",
    "| ------ | ------ | ------ | ------ | ------ | ------ |\n",
    "| Helen | Spencer | Matthew | Dominic | Tom | Erin |\n",
    "| Derrick | Bernadette | Josh B. | Alex | Gabby | Melinda |\n",
    "| Celeste | Margaret | Juan | Ryan | Phoebe | Carter |\n",
    "| Josh L. | Brian | Rebecca | Alanna | Yilan | Noor |\n",
    "| Ila | Tiani | | | | Emily| \n",
    "\n",
    "**Proposal**\n",
    "\n",
    "* Assigned Friday 9/29\n",
    "\n",
    "\n",
    "* Due to Emily and Ryan via email Sunday 10/1 at 11:59 PM \n",
    "\n",
    "\n",
    "* Work together on your teams to generate an interesting biological question that can be answered with publically available datasets. You can use the ENCODE website, or other sources that you find. You can even use things that have been published and uploaded to the GEO repository, we will help you download any datasets that you find particularly interesting!\n",
    " \n",
    " \n",
    "* Your question must incorporate the integration of data from two different assays, one of which must be RNA-Seq, and the second must be something other than RNA-Seq (CHIP-Seq, CLIP-Seq, ATAC-Seq, exome sequencing, genome sequencing). The RNA-Seq must have at least two conditions and two replicates per condition (3 replicates is even better!) Explain why you chose the datasets you did and how they will be used to answer your question. What particular features of that type of assay make it the best choice in order to answer your particular question? Make sure that for your second dataset, you can download processed data (a list of peaks, or DNA variants that were called).\n",
    "\n",
    "\n",
    "* Write up a proposal (half page, single spaced) explaining your question and computational approach. Feel free to use the literature to draw inspiration for your proposal (you will need to include literature citations in your final report). \n"
   ]
  },
  {
   "cell_type": "code",
   "execution_count": null,
   "metadata": {
    "collapsed": true
   },
   "outputs": [],
   "source": []
  }
 ],
 "metadata": {
  "kernelspec": {
   "display_name": "python2-base",
   "language": "python",
   "name": "python2"
  },
  "language_info": {
   "codemirror_mode": {
    "name": "ipython",
    "version": 2
   },
   "file_extension": ".py",
   "mimetype": "text/x-python",
   "name": "python",
   "nbconvert_exporter": "python",
   "pygments_lexer": "ipython2",
   "version": "2.7.12"
  }
 },
 "nbformat": 4,
 "nbformat_minor": 0
}
