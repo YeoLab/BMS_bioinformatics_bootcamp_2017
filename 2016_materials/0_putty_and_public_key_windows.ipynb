{
 "cells": [
  {
   "cell_type": "markdown",
   "metadata": {},
   "source": [
    "# This is for all students who will be using a windows machine. Please follow the instructions below before day 1 so I can get your account properly setup with TSCC"
   ]
  },
  {
   "cell_type": "markdown",
   "metadata": {},
   "source": [
    "**1) Download Putty**\n",
    "\n",
    "We will need to download putty to access TSCC. \n",
    "\n",
    "Go [here](http://www.chiark.greenend.org.uk/~sgtatham/putty/download.html) to find the most recent putty files. \n",
    "\n",
    "Download the putty-0.67-installer.msi file\n",
    "\n",
    "By default this will go to your downlaods folder and the file is called putty-0.6.7-installer. Double click on it and follow the installation instructions."
   ]
  },
  {
   "cell_type": "markdown",
   "metadata": {},
   "source": [
    "**2) Generate a public-private key with PuTTY Keygen**\n",
    "\n",
    "Start - All Programs - PuTTY - PuTTYgen\n",
    "\n",
    "Actions - Generate  a public/private key pair - Generate\n",
    "\n",
    "Generate randomness!\n",
    "\n",
    "Copy and paste the entire contents of the \"Public key for pasting into OpenSSH authorized_keys file:\" into an email to me (ecwheele@ucsd.edu)\n",
    "\n",
    "Create a password for this key and enter it in the \"Key passphrase:\" field. Enter it a second time in \"Confirm passphrase:\" Remember this password, this is what you will use to login to TSCC.\n",
    "\n",
    "Save the generated key - Save public key\n",
    "\n",
    "Move to a location that you will remember to save your keys (I recommend something like users - documents) and save your keys as \"public.pkk\" and \"private.pkk\" You will have to do this twice, once for the public and once for the private key. Put them in the same folder. \n",
    "\n",
    "Once you have saved both the public and private key, confirm that they are in the location where you saved them and exit the PuTTY Key generator. \n"
   ]
  },
  {
   "cell_type": "markdown",
   "metadata": {},
   "source": [
    "**3) Log on to TSCC!**\n",
    "\n",
    "I will respond to your email that you sent me with the public key and give you a ucsd-train number for your login. Once you have received this from me, open PuTTY. I think by default there is a link to it on your Desktop after installation, but you can also find it under all programs. \n",
    "\n",
    "In the \"HostName\" field enter ucsd-train##@tscc-login.sdsc.edu (remember to put your specific number in place of ##). \n",
    "\n",
    "In the \"Saved Sessions\" field, type tscc and click Save.\n",
    "\n",
    "In the left hand panel, click through Connection - SSH - Auth\n",
    "\n",
    "In the \"Private key file for authentication:\" field, use the Browse button to find the private key file you have saved in step 2. You might have to change the file type to \"all files\" in the bottom right corner to see the files you have saved. Click on \"private.pkk\" and select Open.\n",
    "\n",
    "Now you are back in the PuTTY window. Click \"Open\"\n",
    "\n",
    "You will get a security alert. Click \"Yes\"\n",
    "\n",
    "You will be prompted to enter your password, type it in and then press enter. The cursor will not move while you are entering your password. You will see a bunch of stuff come up on your screen including something like \"Welcome to TSCC.\" Success! You are now ready for day 1. Get out of tscc by typeing: exit and then press enter. \n",
    "\n",
    "Your terminal window will go away. Practice this a few times so you are ready to access TSCC on day 1. \n"
   ]
  }
 ],
 "metadata": {
  "kernelspec": {
   "display_name": "Python 2",
   "language": "python",
   "name": "python2"
  },
  "language_info": {
   "codemirror_mode": {
    "name": "ipython",
    "version": 2
   },
   "file_extension": ".py",
   "mimetype": "text/x-python",
   "name": "python",
   "nbconvert_exporter": "python",
   "pygments_lexer": "ipython2",
   "version": "2.7.12"
  }
 },
 "nbformat": 4,
 "nbformat_minor": 0
}
