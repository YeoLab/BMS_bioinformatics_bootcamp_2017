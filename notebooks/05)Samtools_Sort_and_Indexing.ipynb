{
 "cells": [
  {
   "cell_type": "markdown",
   "metadata": {},
   "source": [
    "# In this notebook, we will sort and index bam files for downstream analyses"
   ]
  },
  {
   "cell_type": "markdown",
   "metadata": {},
   "source": [
    "**Introduction to samtools**\n",
    "\n",
    "We will next use samtools to work with out aligned sequencing data, which is currently in SAM (Sequence Alignment/Map) format. Samtools is a nice tool to manipulate alignments stored in both SAM and BAM (binary version of SAM) files. Since BAM files are binary, they can only be read by the computer. Samtools is a great tool that lets us view the contents of BAM files and perform various manipulations on them. \n",
    "\n",
    "Check out the samtools [documentation](http://www.htslib.org/doc/samtools.html).\n",
    "\n",
    "*Q: Remember we downloaded samtools on day 1. How do you check if it downloaded and what version you are running?*\n",
    "    \n",
    "\n",
    "First, create a new directory where we can store our BAM files. Let's call it something like:\n",
    "\n",
    "    ~/projects/fto_shrna/star_alignment/all_bams\n",
    "\n",
    "Now we need to use samtools to sort and index BAM files for downstream analysis. First, work with your partner to figure out how you would sort a BAM/SAM file and save it to a new file with the extension .sorted.bam\n",
    "\n",
    "\n",
    "    samtools sort -@ N -o interesting_file.sorted.bam interesting_file.bam\n",
    "  \n",
    "\n",
    "*Q: What was the file format of output of out alignment? Will this work (and if so, how do you know)*\n",
    "\n",
    "\n",
    "We also need a bai index of the sorted bam file that we just created. Again, work with your partner to determine what that command would look like.\n",
    "\n",
    "\n",
    "    samtools index interesting_file.sorted.bam \n",
    "    \n",
    "\n",
    "Now that you have figured out what the commands should be, write a submitter script with both of those commands that you can submit for the file you made. The sorting takes 8 processors, so we need to submit a job and a walltime of 1 hour. Keep in mind that you can include the two commands in the same script. Just put one below the other and your second one will run after the first one is finished.\n",
    "\n",
    "When you are satisfied with the command you have written, let us know and we can go over it together.\n",
    "\n",
    "This is just for practice on the bam file you made. We have already done this for the bam files for use in the next step of out pipeline (featurecounts) and visualization on a genome browser tool (IGV) later on.\n"
   ]
  },
  {
   "cell_type": "markdown",
   "metadata": {},
   "source": [
    " "
   ]
  },
  {
   "cell_type": "markdown",
   "metadata": {},
   "source": [
    "**Looking at bam files with samtools**\n",
    "\n",
    "On the resulting BAM files, try out some of the samtools commands:\n",
    "\n",
    "    samtools view interesting_file.bam (or intersting_file.sam)\n",
    "    \n",
    "This will print all the alignments in the provided alignment file in SAM format. This leads to A LOT of text being dispayed in the screen at once. Use control-c (or cmd-c) to end the command. How would I be able to use samtools to viewe my BAM file of interest but only display minimal text at one time (*hint: look at your piping commands tutorial*). \n",
    "    \n",
    "    samtools flagstat insteresting_file.bam\n",
    "    \n",
    "This will calculate and give you quality control (QC) statistics for your alignment file.\n",
    "\n",
    "\n",
    "*What else can samtools do? Read the documentation to find out what other tools are available to you through samtools.*"
   ]
  },
  {
   "cell_type": "markdown",
   "metadata": {
    "collapsed": true
   },
   "source": [
    "We will use the resulting sorted BAM files to run featureCounts, which will summarize our reads and map them back to genomic features (in our case, genes) so we can perform differential gene expression analysis."
   ]
  },
  {
   "cell_type": "code",
   "execution_count": null,
   "metadata": {
    "collapsed": true
   },
   "outputs": [],
   "source": []
  }
 ],
 "metadata": {
  "kernelspec": {
   "display_name": "Python [Root]",
   "language": "python",
   "name": "Python [Root]"
  },
  "language_info": {
   "codemirror_mode": {
    "name": "ipython",
    "version": 2
   },
   "file_extension": ".py",
   "mimetype": "text/x-python",
   "name": "python",
   "nbconvert_exporter": "python",
   "pygments_lexer": "ipython2",
   "version": "2.7.12"
  }
 },
 "nbformat": 4,
 "nbformat_minor": 0
}
