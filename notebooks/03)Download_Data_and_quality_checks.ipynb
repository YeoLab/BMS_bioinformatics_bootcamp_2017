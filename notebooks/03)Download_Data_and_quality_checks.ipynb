{
 "cells": [
  {
   "cell_type": "markdown",
   "metadata": {},
   "source": [
    "# Download fastq files from the web and run fastqc to look at the quality of the sequencing run"
   ]
  },
  {
   "cell_type": "markdown",
   "metadata": {},
   "source": [
    "**Step 1: Download dataset**\n",
    "\n",
    "\n",
    "First we will download the data from the [ENCODE](https://www.encodeproject.org/) website. There are many different experiments and datasets available here. You can download both raw and fully processed data. For our learning purposes, we will download the raw data (fastq). Let's take a look at knockdown of FTO in K562 cells (data [here](https://www.encodeproject.org/experiments/ENCSR688GVV/)). \n",
    "\n",
    "Let's find the fastq files now. Go down to the \"Files\" section and click on the \"File details\" tab. Under the \"Raw sequencing data\" we can find our fastq files. When you have found the link to the fastq files, right click on it and select \"copy Link Address\". ENCODE also has processed data files that have already been aligned (to different genome builds GRCh38 V28 or hg19) and quantified. In order to run the entire pipeline, we only want the raw reads stored in fastq.  \n",
    "\n",
    "Then on TSCC, put your file in the proper directory by first moving into the directory where you would like your data to end up, and then pasting the link you have copied after the \"wget\" command. (Remember this is what we did when we downloaded Anaconda). Keep in mind that this data is paired-end, so there are two reads per dataset (R1 and R2). So you will need to download two files per sample. \n",
    "\n",
    "    cd ~/raw_data/\n",
    "    \n",
    "Let's make a directory in raw_data specifically for the raw data for this project. \n",
    "\n",
    "    mkdir ~/raw_data/fto_shrna/\n",
    "    \n",
    "Then move into that directory before running wget. REMEMBER TO USE TABS TO EASILY MOVE BETWEEN DIRECTORIES. \n",
    "\n",
    "    cd ~/raw_data/fto_shrna/\n",
    "\n",
    "    wget https://www.encodeproject.org/files/ENCFF585DOI/@@download/ENCFF585DOI.fastq.gz\n",
    "    \n",
    "    wget https://www.encodeproject.org/files/ENCFF644HMG/@@download/ENCFF644HMG.fastq.gz  \n",
    "    \n",
    "*NOTE* - to avoid a backlog on the head node with all of us downloading the same datasets, please make a softlinks to the files that I have already downloaded and stored them in our shared folder for later use:\n",
    "\n",
    "    ~/biom200/fastqs/\n",
    "    \n",
    "    \n",
    "Here you will find fastq files named:\n",
    "    \n",
    "    k562_control_shRNA_rep1_R1.fastq.gz\n",
    "    k562_control_shRNA_rep1_R2.fastq.gz\n",
    "    k562_control_shRNA_rep2_R1.fastq.gz\n",
    "    k562_control_shRNA_rep2_R2.fastq.gz\n",
    "    \n",
    "    \n",
    "    k562_FTO_shRNA_rep1_R1.fastq.gz    \n",
    "    k562_FTO_shRNA_rep1_R2.fastq.gz\n",
    "    k562_FTO_shRNA_rep2_R1.fastq.gz\n",
    "    k562_FTO_shRNA_rep2_R2.fastq.gz\n",
    "      \n",
    "\n",
    "\n",
    "***Note*** If you do plan on downloading datasets, be sure use mv to rename your files something more meaningful. It is too difficult to go throug the remainder of the pipeline steps with coded language:\n",
    "\n",
    "    mv ENCFF585DOI.fastq.gz k562_FTO_shRNA_rep1_R1.fastq.gz\n",
    "    mv ENCFF644HMG.fastq.gz k562_FTO_shRNA_rep1_R2.fastq.gz"
   ]
  },
  {
   "cell_type": "markdown",
   "metadata": {},
   "source": [
    "**Step 2: Run fastqc to check the sequencing quality of the reads that you downloaded. Remember that we installed fastqc with:**\n",
    "\n",
    "    conda install -c bioconda fastqc\n",
    "    \n",
    "You can see that it has installed properly with:\n",
    "\n",
    "    which fastqc\n",
    "    \n",
    "The output should be something like:\n",
    "\n",
    "    ~/anaconda2/bin/fastqc\n",
    "    \n",
    "*Q. Why is it finding the program in this location?*\n",
    "\n",
    "Let's make a directory in projects for our new fto_shrna project, and make another directory within that folder for the restuls of our fastqc run.\n",
    "\n",
    "    mkdir ~/projects/fto_shrna/\n",
    "    mkdir ~/projects/fto_shrna/fastqc/\n",
    "    \n",
    "For future reference, you could aternatively use the -p flag to make the fastqc directory and its parent directory (fto_shrna/) in one step:\n",
    "\n",
    "    mkdir -p ~/projects/fto_shrna/fastqc/\n",
    "    \n",
    "\n",
    "Let's run fastqc to check the quality of your sequencing results. Remember to specify the *full path* of where your datasets are stored and where you want the processed data to end up. You will have to do this one one file at a time. REMEMBER TO USE TABS TO AVOID TYPOS! The -o argument is used to specify the location of the output files.\n",
    "\n",
    "    fastqc ~/raw_data/fto_shrna/ENCFF585DOI.fastq.gz -o ~/projects/fto_shrna/fastqc/\n",
    "    \n",
    "\n",
    "If you could not download the files yourself, run from the shared folder \n",
    "    \n",
    "    fastqc ~/biom200/fastqs/k562_FTO_shRNA_rep1_R1.fastq.gz -o ~/projects/fto_shrna/fastqc/\n",
    "\n",
    "This wil take a few minutes to run. When finished, you should have a .zip file and a .html file.\n"
   ]
  },
  {
   "cell_type": "markdown",
   "metadata": {},
   "source": [
    "**Step 3: View your output files in a web browser:**\n",
    "\n",
    "Using SSHFS, double click on the html files in the output folder and view the results in a web browser."
   ]
  },
  {
   "cell_type": "code",
   "execution_count": null,
   "metadata": {
    "collapsed": true
   },
   "outputs": [],
   "source": []
  }
 ],
 "metadata": {
  "kernelspec": {
   "display_name": "Python [Root]",
   "language": "python",
   "name": "Python [Root]"
  },
  "language_info": {
   "codemirror_mode": {
    "name": "ipython",
    "version": 2
   },
   "file_extension": ".py",
   "mimetype": "text/x-python",
   "name": "python",
   "nbconvert_exporter": "python",
   "pygments_lexer": "ipython2",
   "version": "2.7.12"
  }
 },
 "nbformat": 4,
 "nbformat_minor": 1
}
