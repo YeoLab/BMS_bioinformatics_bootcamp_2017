{
 "cells": [
  {
   "cell_type": "markdown",
   "metadata": {},
   "source": [
    "# Everyone Downloads These"
   ]
  },
  {
   "cell_type": "markdown",
   "metadata": {},
   "source": [
    "**1) Download R Studio**\n",
    "\n",
    "Go to the R studio downloads [website](https://www.rstudio.com/products/rstudio/download3/) and download the RStudio Desktop version for your operating system.\n",
    "\n",
    "**2) Download Sublime Text 2**\n",
    "\n",
    "TextEdit does annoying formatting things to scripts that mess them up on TSCC. So we need to download Sublime Text 2 [here](http://www.sublimetext.com/2). Get the appropriate version for your operating system.\n",
    "\n",
    "**3) Download Integrated Genomics Viewer (IGV)**\n",
    "\n",
    "Check out the IGV [website](http://software.broadinstitute.org/software/igv/). Click on the downloads button and select the download for your operating system.\n",
    "\n",
    "*Binary option* - If you scroll all the way down you can download the binary distribution. I recommend doing this, it can load and read more data without crashing (the app version has limited space). However, I think this only works on mac/linux operating systems. For the purpose of this class, the datasets we will work with will be small enough to view in the app version for windows users.\n",
    "\n",
    "You might also have to update Java before downloading IGV."
   ]
  },
  {
   "cell_type": "markdown",
   "metadata": {},
   "source": [
    "# Windows users only "
   ]
  },
  {
   "cell_type": "markdown",
   "metadata": {},
   "source": [
    "**1) Download cygwin**\n",
    "\n",
    "*NOTE - The purpose of this is to have access to a linux terminal when not connected to TSCC. I believe some later versions of windows have this already. If you have your own preferred platform, feel free to use it. If not, here is one that will work.*\n",
    "\n",
    "Determine if you have a 32 or 64 bit version of Windows.\n",
    "\n",
    "https://support.microsoft.com/en-us/kb/827218.\n",
    "\n",
    "http://cygwin.com/install.html.\n",
    "\n",
    "Run setup-x86.exe if you have 32 bit windows. If not Run setup-x86_64.exe\n",
    "\n",
    "Choose a Download site - just pick the first one \"cygwin.mirror.constant.com\"\n",
    "\n",
    "Select packages - in the seach bar type cygwin and then press next - Click next again to install all the packages that satisfy the necessary dependencies.\n",
    "\n",
    "Install Cygwin and double-click on Cygwin Terminal to open"
   ]
  },
  {
   "cell_type": "markdown",
   "metadata": {},
   "source": [
    "**2) Setup sshfs**\n",
    "\n",
    "Download win-sshfs manager [here](http://download.cnet.com/win-sshfs/3000-7240_4-75642379.html). The link for Windows10 can be found [here](https://igikorn.com/sshfs-windows-10/). You need to Install Dokany SSHFS AND Win-SSHFS.\n",
    "\n",
    "Follow the instructions to complete the download and installation. After the program is installed, your PC will shut down and reboot.\n",
    "\n",
    "Go back into puttygen where you generated your public/private key. Load the one you already generated. Once it has been loaded select \"Conversion\" and then \"export open ssh private key.\" Give this a new name and save it somewhere you will find it again later.\n",
    "\n",
    "Open the installed sshfs manager and fill in the following information:\n",
    "\n",
    "Drive Name: TSCC-home\n",
    "\n",
    "Host: tscc.sdsc.edu\n",
    "\n",
    "Port: 22\n",
    "\n",
    "Username: ucsd-train## (remember to replace ## with your train number)\n",
    "\n",
    "Authentication method: Private Key\n",
    "\n",
    "Load your private key file that you exported above.\n",
    "\n",
    "Enter your password in the empty box below your private key.\n",
    "\n",
    "Directory: /home/ucsd-train## (remember to replace ## with your train number)\n",
    "\n",
    "Drive letter: Wherever you want it to appear in your computer.\n",
    "\n",
    "You can save settings if you wish and click the button at the bottom to mount. Use the same button to unmount when you are done.\n",
    "\n",
    "Go open the drive that you specified on your computer. Your directory will be mounted there."
   ]
  },
  {
   "cell_type": "markdown",
   "metadata": {},
   "source": [
    "# Mac users only"
   ]
  },
  {
   "cell_type": "markdown",
   "metadata": {},
   "source": [
    "**1) Setup sshfs**\n",
    "\n",
    "Download Fuse for mac [here](https://osxfuse.github.io/). You need to complete BOTH downloads from the \"Stable Releases\" box (FUSE and sshfs). \n",
    "\n",
    "Make a folder on your desktop called \"sshfs-home\"\n",
    "\n",
    "Run the following command from a terminal window that is NOT logged onto TSCC:\n",
    "\n",
    "    sshfs -o follow_symlinks ucsd-train##@tscc-login.sdsc.edu:/home/ucsd-train##/ ~/Desktop/sshfs-home/\n",
    "    \n",
    "To unmount your folder, drag the desktop icon to your trash. You can reload it again with the above command.\n"
   ]
  }
 ],
 "metadata": {
  "kernelspec": {
   "display_name": "Python 2",
   "language": "python",
   "name": "python2"
  },
  "language_info": {
   "codemirror_mode": {
    "name": "ipython",
    "version": 2
   },
   "file_extension": ".py",
   "mimetype": "text/x-python",
   "name": "python",
   "nbconvert_exporter": "python",
   "pygments_lexer": "ipython2",
   "version": "2.7.12"
  }
 },
 "nbformat": 4,
 "nbformat_minor": 0
}
