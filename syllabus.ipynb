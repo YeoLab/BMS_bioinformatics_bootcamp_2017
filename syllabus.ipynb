{
 "cells": [
  {
   "cell_type": "markdown",
   "metadata": {},
   "source": [
    "# Bioinformatics Bootcamp 2017\n",
    "**University of California San Diego (UCSD)**  \n",
    "\n",
    "### Contact us:\n",
    "Instructor [Emily Wheeler](mailto:ecwheele@ucsd.edu) (ecwheele@ucsd.edu)  \n",
    "Instructor [Ryan Marina](mailto:rmarina@ucsd.edu) (rmarina@ucsd.edu)  \n",
    "\n",
    "Lecture-specific contact info provided below.\n",
    "\n",
    "### Lecture Location\n",
    "Lectures will all be held in CMME room 2017. See below for daily schedule as times change.\n",
    "\n",
    "\n",
    "### Homework Submission\n",
    "One homework will be assigned on Friday and due on Monday.\n",
    "\n"
    ]
  },
  {
   "cell_type": "markdown",
   "metadata": {},
   "source": [
    "## Syllabus\n",
    "\n",
    "| Lecture Num. | Date | Time | Topic | Lecture |\n",
    "| ------------ | ---- | ---- | ----- | ------- |\n",
    "| **0** |  |  |  |  |\n",
    "| **1** |  |  |  |  |\n",
    "| **2** |  |  |  |  |\n",
    "| **3** |  |  |  |  |\n",
    "| **4** |  |  |  |  |\n",
    "| **5** |  |  |  |  |\n",
    "| **6** |  |  |  |  |\n",
    "| **7** |  |  |  |  |\n",
    "| **8** |  |  |  |  |\n",
    "\n"
   ]
  },
  {
   "cell_type": "markdown",
   "metadata": {},
   "source": [
    "\n",
    "\n",
    "## Group Project\n",
    "\n",
    "**Details to come:**\n",
    "\n"
   ]
  }
 ],
 "metadata": {
  "kernelspec": {
   "display_name": "Python 2",
   "language": "python",
   "name": "python2"
  },
  "language_info": {
   "codemirror_mode": {
    "name": "ipython",
    "version": 2
   },
   "file_extension": ".py",
   "mimetype": "text/x-python",
   "name": "python",
   "nbconvert_exporter": "python",
   "pygments_lexer": "ipython2",
   "version": "2.7.11"
  }
 },
 "nbformat": 4,
 "nbformat_minor": 0
}
