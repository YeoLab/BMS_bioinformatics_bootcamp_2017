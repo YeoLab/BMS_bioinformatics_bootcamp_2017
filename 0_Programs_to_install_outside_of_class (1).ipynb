{
 "cells": [
  {
   "cell_type": "markdown",
   "metadata": {},
   "source": [
    "# Everyone Downloads These"
   ]
  },
  {
   "cell_type": "markdown",
   "metadata": {},
   "source": [
    "**1) Download R Studio**\n",
    "\n",
    "Go to the R studio downloads [website](https://www.rstudio.com/products/rstudio/download3/) and download the RStudio Desktop version for your operating system.\n",
    "\n",
    "**2) Download Sublime Text 2**\n",
    "\n",
    "TextEdit does annoying formatting things to scripts that mess them up on TSCC. So we need to download Sublime Text 2 [here](http://www.sublimetext.com/2). Get the appropriate version for your operating system.\n",
    "\n",
    "**3) Download Integrated Genomics Viewer (IGV)**\n",
    "\n",
    "Check out the IGV [website](http://software.broadinstitute.org/software/igv/). Click on the downloads button and select the download for your operating system.\n",
    "\n",
    "*Binary option* - If you scroll all the way down you can download the binary distribution. I recommend doing this, it can load and read more data without crashing (the app version has limited space). However, I think this only works on mac/linux operating systems. For the purpose of this class, the datasets we will work with will be small enough to view in the app version for windows users.\n",
    "\n",
    "You might also have to update Java before downloading IGV."
   ]
  },
  {
   "cell_type": "markdown",
   "metadata": {},
   "source": [
    "# Windows users only "
   ]
  },
  {
   "cell_type": "markdown",
   "metadata": {},
   "source": [
    "**Download cygwin**\n",
    "\n",
    "*NOTE - The purpose of this is to have access to a linux terminal when not connected to TSCC. I believe some later versions of windows have this already. If you have your own preferred platform, feel free to use it. If not, here is one that will work.*\n",
    "\n",
    "Determine if you have a 32 or 64 bit version of Windows.\n",
    "\n",
    "*For Windows 10:*\n",
    "https://www.howtogeek.com/howto/21726/how-do-i-know-if-im-running-32-bit-or-64-bit-windows-answers/\n",
    "\n",
    "\n",
    "*Prior to Windows 10:*\n",
    "https://support.microsoft.com/en-us/kb/827218\n",
    "\n",
    "\n",
    "**Cygwin installation**\n",
    "http://cygwin.com/install.html.\n",
    "\n",
    "Run setup-x86.exe if you have 32 bit windows. If not Run setup-x86_64.exe\n",
    "\n",
    "Choose a Download site - just pick the first one \"cygwin.mirror.constant.com\"\n",
    "\n",
    "Select packages - in the seach bar type cygwin and then press next - Click next again to install all the packages that satisfy the necessary dependencies.\n",
    "\n",
    "Install Cygwin and double-click on Cygwin Terminal to open"
   ]
  },
  {
   "cell_type": "markdown",
   "metadata": {},
   "source": [
    "Congrats! You now have access to a linux terminal."
   ]
  },
  {
   "cell_type": "markdown",
   "metadata": {},
   "source": [
    "# Mac users only"
   ]
  },
  {
   "cell_type": "markdown",
   "metadata": {},
   "source": [
    "You already have a terminal available to you on your computer (no installs necessary)\n",
    "\n",
    "To find it, navigate to:\n",
    "\n",
    "Applications- Utilities - Launch Terminal\n",
    "\n",
    "For easier future access, consider adding it to your dock"
   ]
  },
  {
   "cell_type": "code",
   "execution_count": null,
   "metadata": {
    "collapsed": true
   },
   "outputs": [],
   "source": []
  }
 ],
 "metadata": {
  "kernelspec": {
   "display_name": "Python [Root]",
   "language": "python",
   "name": "Python [Root]"
  },
  "language_info": {
   "codemirror_mode": {
    "name": "ipython",
    "version": 2
   },
   "file_extension": ".py",
   "mimetype": "text/x-python",
   "name": "python",
   "nbconvert_exporter": "python",
   "pygments_lexer": "ipython2",
   "version": "2.7.12"
  }
 },
 "nbformat": 4,
 "nbformat_minor": 1
}
