{
 "cells": [
  {
   "cell_type": "markdown",
   "metadata": {},
   "source": [
    "# Differential Expression of RNA-Seq data in GenePattern Notebook\n",
    "\n",
    "Compute differentially expressed genes or transcripts and visualize the results\n",
    "\n",
    "## Before you begin\n",
    "\n",
    "* Sign in to GenePattern by entering your username and password into the form below. \n",
    "* Gene expression data must be in a [GCT or RES file](https://genepattern.broadinstitute.org/gp/pages/protocols/GctResFiles.html).\n",
    "    * Example file: [all_aml_test.gct](https://software.broadinstitute.org/cancer/software/genepattern/data/all_aml/all_aml_test.gct).\n",
    "* The class of each sample must be identified in a [CLS file](https://genepattern.broadinstitute.org/gp/pages/protocols/ClsFiles.html).\n",
    "    * Example file: [all_aml_test.cls](https://software.broadinstitute.org/cancer/software/genepattern/data/all_aml/all_aml_test.cls).\n",
    "* Learn more by reading about [file formats](http://www.broadinstitute.org/cancer/software/genepattern/file-formats-guide#GCT).\n"
   ]
  },
  {
   "cell_type": "code",
   "execution_count": 3,
   "metadata": {
    "genepattern": {
     "server": "https://genepattern.broadinstitute.org/gp",
     "type": "auth"
    }
   },
   "outputs": [
    {
     "data": {
      "application/vnd.jupyter.widget-view+json": {
       "model_id": "817a4a8d790e4a0f8e55f37024a60f0b"
      }
     },
     "metadata": {},
     "output_type": "display_data"
    }
   ],
   "source": [
    "# Requires GenePattern Notebook: pip install genepattern-notebook\n",
    "import gp\n",
    "import genepattern\n",
    "\n",
    "# Username and password removed for security reasons.\n",
    "genepattern.GPAuthWidget(genepattern.register_session(\"https://genepattern.broadinstitute.org/gp\", \"\", \"\"))"
   ]
  },
  {
   "cell_type": "markdown",
   "metadata": {},
   "source": [
    "## BMS Workshop data and differential expression\n",
    "Because you have already used DESeq2 to compute differentially expressed genes, it is only necessary to visualize the differentially expressed genes in this notebook.\n",
    "\n",
    "We will skip the steps of PreprocessReadCounts and DESeq2. However, when you wish to perform differential expression analysis of RNA-seq data, this notebook presents a complete workflow starting with a file of merged read counts."
   ]
  },
  {
   "cell_type": "markdown",
   "metadata": {},
   "source": [
    "<div class=\"alert alert-info\">\n",
    "**To continue, go to [Visualizing Differential Expression Results](#visualizing)**"
   ]
  },
  {
   "cell_type": "markdown",
   "metadata": {},
   "source": [
    "## Merge read counts from RNA-seq quantitation methods\n",
    "- RNA-seq quantitation methods create tab-delimited files consisting of transcript identifiers, e.g., ENSG00000000003, and their read counts.\n",
    "- The MergeHTSeqCounts module combines these files into a single [GCT](http://software.broadinstitute.org/cancer/software/genepattern/file-formats-guide#GCT) format for later analysis in GenePattern."
   ]
  },
  {
   "cell_type": "code",
   "execution_count": 18,
   "metadata": {
    "genepattern": {
     "type": "task"
    }
   },
   "outputs": [
    {
     "data": {
      "application/vnd.jupyter.widget-view+json": {
       "model_id": "1a3413e6dc7d4b3dac2fb9ef1feaeea7"
      }
     },
     "metadata": {},
     "output_type": "display_data"
    }
   ],
   "source": [
    "mergehtseqcounts_task = gp.GPTask(genepattern.get_session(0), 'urn:lsid:broad.mit.edu:cancer.software.genepattern.module.analysis:00354')\n",
    "mergehtseqcounts_job_spec = mergehtseqcounts_task.make_job_spec()\n",
    "mergehtseqcounts_job_spec.set_parameter(\"input.files\", \"\")\n",
    "mergehtseqcounts_job_spec.set_parameter(\"output.prefix\", \"<input.files_basename>\")\n",
    "genepattern.GPTaskWidget(mergehtseqcounts_task)"
   ]
  },
  {
   "cell_type": "markdown",
   "metadata": {},
   "source": [
    "## Compute differentially expressed transcripts\n",
    "- Run DESeq2 on the gene expression matrix derived in the above step"
   ]
  },
  {
   "cell_type": "code",
   "execution_count": 16,
   "metadata": {
    "genepattern": {
     "type": "task"
    }
   },
   "outputs": [
    {
     "data": {
      "application/vnd.jupyter.widget-view+json": {
       "model_id": "caf793009bd1418abb5ede46aed62397"
      }
     },
     "metadata": {},
     "output_type": "display_data"
    }
   ],
   "source": [
    "deseq2_task = gp.GPTask(genepattern.get_session(0), 'urn:lsid:broad.mit.edu:cancer.software.genepattern.module.analysis:00362')\n",
    "deseq2_job_spec = deseq2_task.make_job_spec()\n",
    "deseq2_job_spec.set_parameter(\"input.file\", \"\")\n",
    "deseq2_job_spec.set_parameter(\"cls.file\", \"\")\n",
    "deseq2_job_spec.set_parameter(\"confounding.variable.cls.file\", \"\")\n",
    "deseq2_job_spec.set_parameter(\"output.file.base\", \"<input.file_basename>\")\n",
    "deseq2_job_spec.set_parameter(\"qc.plot.format\", \"skip\")\n",
    "deseq2_job_spec.set_parameter(\"fdr.threshold\", \"0.1\")\n",
    "deseq2_job_spec.set_parameter(\"top.N.count\", \"20\")\n",
    "deseq2_job_spec.set_parameter(\"random.seed\", \"779948241\")\n",
    "genepattern.GPTaskWidget(deseq2_task)"
   ]
  },
  {
   "cell_type": "markdown",
   "metadata": {},
   "source": [
    "<a id=\"visualizing\"></a>"
   ]
  },
  {
   "cell_type": "markdown",
   "metadata": {},
   "source": [
    "# Visualizing Differential Expression Results\n",
    "\n",
    "The ComparativeMarkerSelectionViewer allows you to view the results of a differential expression analysis as a heatmap, profile of differentially expressed genes, histogram, or list. It also includes features that allow you to filter results, zoom in and out of a section of the gene list, and export results in a number of formats.\n",
    "\n",
    "Run the ComparativeMarkerSelectionViewer module to view the results. The viewer displays the test statistic score, its p value, and additional statistics as computed by the differential expression method.\n",
    "\n",
    "* Learn more by reading about the [ComparativeMarkerSelectionViewer](https://genepattern.broadinstitute.org/gp/getTaskDoc.jsp?name=ComparativeMarkerSelectionViewer) module."
   ]
  },
  {
   "cell_type": "markdown",
   "metadata": {},
   "source": [
    "<div class=\"alert alert-info\">\n",
    "<h3>Instructions</h3>\n",
    "<p>The ComparativeMarkerSelectionViewer requires two files:\n",
    "<ul>\n",
    "<li><b>comparative marker selection filename</b> - this is the results file from your differential expression analysis. We have provided the DESeq2 output in the required ODF format: [differential_expression_genes.odf](https://www.broadinstitute.org/personal/michaelr/BMS_bioinformatics_bootcamp_2017/differential_expression_genes.odf).</li>\n",
    "<li><b>dataset filename</b> - this is the original dataset containing the expression values. We have provided the expression data in the required GCT format: [counts_for_deseq2_genes.gct](https://www.broadinstitute.org/personal/michaelr/BMS_bioinformatics_bootcamp_2017/counts_for_deseq2_genes.gct).\n",
    "</ul>\n",
    "</p>\n",
    "<p>To launch the viewer: <br>\n",
    "(NOTE: if clicking and dragging the links does not work, right-click the links and save them locally, and upload them by clicking **Upload File...** in the corresponding input box)\n",
    "<ol>\n",
    "<li>Click and drag the [differential_expression_genes.odf](https://www.broadinstitute.org/personal/michaelr/BMS_bioinformatics_bootcamp_2017/differential_expression_genes.odf) file to the <b>comparative marker selection filename</b> input box below.</li>\n",
    "<li>Click and drag the [counts_for_deseq2_genes.gct](https://www.broadinstitute.org/personal/michaelr/BMS_bioinformatics_bootcamp_2017/counts_for_deseq2_genes.gct) file to the <b>dataset filename</b> input box below.</li>\n",
    "<li>Click *Run* for the analysis below. Once the job downloads the necessary data it will display a visualization of the differential expression results.</li>\n",
    "</ol>\n",
    "</p>\n",
    "</div>"
   ]
  },
  {
   "cell_type": "code",
   "execution_count": 4,
   "metadata": {
    "genepattern": {
     "type": "task"
    }
   },
   "outputs": [
    {
     "data": {
      "application/vnd.jupyter.widget-view+json": {
       "model_id": "17a32b507b8a44faa0f623ac7d1bf0f9"
      }
     },
     "metadata": {},
     "output_type": "display_data"
    }
   ],
   "source": [
    "comparativemarkerselectionviewer_task = gp.GPTask(genepattern.get_session(0), 'urn:lsid:broad.mit.edu:cancer.software.genepattern.module.visualizer:00045')\n",
    "comparativemarkerselectionviewer_job_spec = comparativemarkerselectionviewer_task.make_job_spec()\n",
    "comparativemarkerselectionviewer_job_spec.set_parameter(\"comparative.marker.selection.filename\", \"\")\n",
    "comparativemarkerselectionviewer_job_spec.set_parameter(\"dataset.filename\", \"\")\n",
    "genepattern.GPTaskWidget(comparativemarkerselectionviewer_task)"
   ]
  }
 ],
 "metadata": {
  "anaconda-cloud": {},
  "kernelspec": {
   "display_name": "Python 3.6",
   "language": "python",
   "name": "python3.6"
  },
  "language_info": {
   "codemirror_mode": {
    "name": "ipython",
    "version": 3
   },
   "file_extension": ".py",
   "mimetype": "text/x-python",
   "name": "python",
   "nbconvert_exporter": "python",
   "pygments_lexer": "ipython3",
   "version": "3.6.1"
  },
  "widgets": {
   "state": {
    "2a5e839a40ac4aad9e170213613fb672": {
     "views": [
      {
       "cell_index": 1
      }
     ]
    },
    "52c44c2ff34e4cf69825b4e9ba8ac674": {
     "views": [
      {
       "cell_index": 7
      }
     ]
    },
    "9b98374208954f2bb68b6e45664d0e9e": {
     "views": [
      {
       "cell_index": 4
      }
     ]
    },
    "dc62ee2ed17b4b7ab96a5e4b73d6b521": {
     "views": [
      {
       "cell_index": 10
      }
     ]
    }
   },
   "version": "1.2.0"
  }
 },
 "nbformat": 4,
 "nbformat_minor": 1
}
