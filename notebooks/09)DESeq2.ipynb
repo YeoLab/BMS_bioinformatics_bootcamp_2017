{
 "cells": [
  {
   "cell_type": "markdown",
   "metadata": {},
   "source": [
    "# Now we will load DESeq2 for differential expression analysis"
   ]
  },
  {
   "cell_type": "markdown",
   "metadata": {},
   "source": [
    "You will first need to install DESeq2. This is a program that runs in R, so we need to install it within R. First, we will use conda to download R in our anaconda. If you check which R before installing it to conda, it might take you to a R installation that already exists on TSCC. Since we want to be in control of our specific version and installs, we will use anaconda to install it.\n",
    "\n",
    "    conda install -c r r\n",
    "    \n",
    "There is an r-essentials packages that has a lot of the commonly used R packages available for install all in one! We will use conda to install that package too.\n",
    "\n",
    "    conda install -c r r-essentials\n",
    "    \n",
    "In order to run DESeq2, we need to update a few other r packages (I found this out by trying to install DESeq2 and getting errors that it needs a newer version of these programs).\n",
    "\n",
    "    conda install -c r r-xml\n",
    "    \n",
    "    conda install gcc\n",
    "\n",
    "Open R in your terminal on TSCC by typing:\n",
    "\n",
    "    R\n",
    "    \n",
    "This will now take you into R where you can do your installation. Note that your command line now has a > rather than your TSCC login. This is specific to the R language. Now you are coding in R, not BASH. Use the following two commands to install DESeq2:\n",
    "\n",
    "    source(\"http://bioconductor.org/biocLite.R\")\n",
    "    \n",
    "    biocLite(\"DESeq2\")\n",
    "    \n",
    "It will ask you about updating packages:\n",
    "\n",
    "    Update all/some/none? [a/s/n]: \n",
    "    \n",
    "Type a to update all.\n",
    "\n",
    "It might error out at the end saying that some packages had \"Non-Zero Exit status.\" That is okay, move forward with the next command to see if you can load DESeq2.\n",
    "\n",
    "    library(\"DESeq2\")\n",
    "    \n",
    "It should load without any error messages. There will be a lot of other messages that come up with the package loading, but nothing that says error or failed. Great! Now that we know it installed properly, let's get out of R and go back to the bash terminal. To get back to a bash command line, quit R with:\n",
    "\n",
    "    quit()\n",
    "    \n",
    "Do you want to save the workspace image? No.\n",
    "    \n",
    "Now when you open a jupyter notebook, you will have the option to select R as a kernel in a new notebook. Try it out! If you already have jupyter running, refresh your web browser (or refresh your notebook kernel) to activate these changes. "
   ]
  },
  {
   "cell_type": "code",
   "execution_count": 1,
   "metadata": {
    "collapsed": false
   },
   "outputs": [],
   "source": [
    "suppressMessages(library(\"DESeq2\"))\n",
    "\n",
    "library(\"ggplot2\")\n",
    "\n",
    "library(\"RColorBrewer\")"
   ]
  },
  {
   "cell_type": "code",
   "execution_count": 2,
   "metadata": {
    "collapsed": false
   },
   "outputs": [
    {
     "data": {
      "text/html": [
       "<table>\n",
       "<thead><tr><th></th><th scope=col>FTO_shrna_rep1</th><th scope=col>FTO_shrna_rep2</th><th scope=col>FTO_control_rep1</th><th scope=col>FTO_control_rep2</th></tr></thead>\n",
       "<tbody>\n",
       "\t<tr><th scope=row>ENSG00000227232.4</th><td>154</td><td>257</td><td>170</td><td>183</td></tr>\n",
       "\t<tr><th scope=row>ENSG00000238009.2</th><td>126</td><td>165</td><td>159</td><td>176</td></tr>\n",
       "\t<tr><th scope=row>ENSG00000237683.5</th><td>773</td><td>1079</td><td>890</td><td>931</td></tr>\n",
       "\t<tr><th scope=row>ENSG00000239906.1</th><td>28</td><td>32</td><td>46</td><td>47</td></tr>\n",
       "\t<tr><th scope=row>ENSG00000241860.2</th><td>84</td><td>95</td><td>96</td><td>101</td></tr>\n",
       "\t<tr><th scope=row>ENSG00000228463.4</th><td>573</td><td>622</td><td>527</td><td>508</td></tr>\n",
       "</tbody>\n",
       "</table>\n"
      ],
      "text/latex": [
       "\\begin{tabular}{r|llll}\n",
       "  & FTO_shrna_rep1 & FTO_shrna_rep2 & FTO_control_rep1 & FTO_control_rep2\\\\\n",
       "\\hline\n",
       "\tENSG00000227232.4 & 154 & 257 & 170 & 183\\\\\n",
       "\tENSG00000238009.2 & 126 & 165 & 159 & 176\\\\\n",
       "\tENSG00000237683.5 & 773 & 1079 & 890 & 931\\\\\n",
       "\tENSG00000239906.1 & 28 & 32 & 46 & 47\\\\\n",
       "\tENSG00000241860.2 & 84 & 95 & 96 & 101\\\\\n",
       "\tENSG00000228463.4 & 573 & 622 & 527 & 508\\\\\n",
       "\\end{tabular}\n"
      ],
      "text/plain": [
       "                  FTO_shrna_rep1 FTO_shrna_rep2 FTO_control_rep1\n",
       "ENSG00000227232.4            154            257              170\n",
       "ENSG00000238009.2            126            165              159\n",
       "ENSG00000237683.5            773           1079              890\n",
       "ENSG00000239906.1             28             32               46\n",
       "ENSG00000241860.2             84             95               96\n",
       "ENSG00000228463.4            573            622              527\n",
       "                  FTO_control_rep2\n",
       "ENSG00000227232.4              183\n",
       "ENSG00000238009.2              176\n",
       "ENSG00000237683.5              931\n",
       "ENSG00000239906.1               47\n",
       "ENSG00000241860.2              101\n",
       "ENSG00000228463.4              508"
      ]
     },
     "execution_count": 2,
     "metadata": {},
     "output_type": "execute_result"
    }
   ],
   "source": [
    "counts <- read.csv('/home/ucsd-train01/projects/fto_shrna/deseq2/fto_counts_for_deseq2.csv',\n",
    "                  header=TRUE, row.names=1)\n",
    "head(counts)"
   ]
  },
  {
   "cell_type": "code",
   "execution_count": 3,
   "metadata": {
    "collapsed": false
   },
   "outputs": [
    {
     "data": {
      "text/html": [
       "<table>\n",
       "<thead><tr><th></th><th scope=col>condition</th></tr></thead>\n",
       "<tbody>\n",
       "\t<tr><th scope=row>FTO_shrna_rep1</th><td>knockdown</td></tr>\n",
       "\t<tr><th scope=row>FTO_shrna_rep2</th><td>knockdown</td></tr>\n",
       "\t<tr><th scope=row>FTO_control_rep1</th><td>control</td></tr>\n",
       "\t<tr><th scope=row>FTO_control_rep2</th><td>control</td></tr>\n",
       "</tbody>\n",
       "</table>\n"
      ],
      "text/latex": [
       "\\begin{tabular}{r|l}\n",
       "  & condition\\\\\n",
       "\\hline\n",
       "\tFTO_shrna_rep1 & knockdown\\\\\n",
       "\tFTO_shrna_rep2 & knockdown\\\\\n",
       "\tFTO_control_rep1 & control\\\\\n",
       "\tFTO_control_rep2 & control\\\\\n",
       "\\end{tabular}\n"
      ],
      "text/plain": [
       "                 condition\n",
       "FTO_shrna_rep1   knockdown\n",
       "FTO_shrna_rep2   knockdown\n",
       "FTO_control_rep1   control\n",
       "FTO_control_rep2   control"
      ]
     },
     "execution_count": 3,
     "metadata": {},
     "output_type": "execute_result"
    }
   ],
   "source": [
    "col_data <- read.csv('/home/ucsd-train01/projects/fto_shrna/deseq2/fto_conditions_for_deseq2.csv',\n",
    "                  header=TRUE, row.names=1)\n",
    "\n",
    "head(col_data)"
   ]
  },
  {
   "cell_type": "code",
   "execution_count": 4,
   "metadata": {
    "collapsed": true
   },
   "outputs": [],
   "source": [
    "dds <- DESeqDataSetFromMatrix(countData = counts,\n",
    "                              colData = col_data,\n",
    "                              design = ~ condition)"
   ]
  },
  {
   "cell_type": "code",
   "execution_count": 5,
   "metadata": {
    "collapsed": false
   },
   "outputs": [
    {
     "name": "stderr",
     "output_type": "stream",
     "text": [
      "estimating size factors\n",
      "estimating dispersions\n",
      "gene-wise dispersion estimates\n",
      "mean-dispersion relationship\n",
      "final dispersion estimates\n",
      "fitting model and testing\n"
     ]
    }
   ],
   "source": [
    "dds <- DESeq(dds)"
   ]
  },
  {
   "cell_type": "code",
   "execution_count": 6,
   "metadata": {
    "collapsed": false
   },
   "outputs": [],
   "source": [
    "res <- results(dds)\n",
    "\n",
    "write.csv(as.data.frame(res), file=\"/home/ucsd-train01/projects/fto_shrna/deseq2/fto_differential_expression.csv\")"
   ]
  },
  {
   "cell_type": "code",
   "execution_count": 7,
   "metadata": {
    "collapsed": false
   },
   "outputs": [
    {
     "name": "stdout",
     "output_type": "stream",
     "text": [
      "\n",
      "out of 16659 with nonzero total read count\n",
      "adjusted p-value < 0.1\n",
      "LFC > 0 (up)     : 2521, 15% \n",
      "LFC < 0 (down)   : 3028, 18% \n",
      "outliers [1]     : 0, 0% \n",
      "low counts [2]   : 323, 1.9% \n",
      "(mean count < 6)\n",
      "[1] see 'cooksCutoff' argument of ?results\n",
      "[2] see 'independentFiltering' argument of ?results\n",
      "\n"
     ]
    }
   ],
   "source": [
    "summary(res)"
   ]
  },
  {
   "cell_type": "code",
   "execution_count": null,
   "metadata": {
    "collapsed": false
   },
   "outputs": [],
   "source": [
    "plotMA(res, main=\"DESeq2\", ylim=c(-2,2))"
   ]
  },
  {
   "cell_type": "code",
   "execution_count": null,
   "metadata": {
    "collapsed": false
   },
   "outputs": [],
   "source": [
    "res05 <- results(dds, alpha=0.05)\n",
    "\n",
    "plotMA(res05, main=\"alpha=0.05\", ylim=c(-2,2))"
   ]
  },
  {
   "cell_type": "code",
   "execution_count": null,
   "metadata": {
    "collapsed": false
   },
   "outputs": [],
   "source": [
    "rld <- rlog(dds)\n",
    "vsd <- varianceStabilizingTransformation(dds)\n",
    "\n",
    "data <- plotPCA(rld, intgroup=\"condition\", returnData=TRUE)\n",
    "percentVar <- round(100 * attr(data, \"percentVar\"))\n",
    "ggplot(data, aes(PC1, PC2, color=condition)) +\n",
    "    geom_point(size=3) +\n",
    "    xlab(paste0(\"PC1: \",percentVar[1],\"% variance\")) \n",
    "    ylab(paste0(\"PC2: \",percentVar[2],\"% variance\"))"
   ]
  },
  {
   "cell_type": "code",
   "execution_count": null,
   "metadata": {
    "collapsed": false
   },
   "outputs": [],
   "source": [
    "sampleDists <- dist(t(assay(rld)))\n",
    "\n",
    "\n",
    "sampleDistMatrix <- as.matrix(sampleDists)\n",
    "\n",
    "rownames(sampleDistMatrix) <- paste(rld$condition)\n",
    "\n",
    "colnames(sampleDistMatrix) <- paste(rld$condition)\n",
    "\n",
    "colors <- colorRampPalette( rev(brewer.pal(9, \"Blues\")) )(255)\n",
    "\n",
    "heatmap(sampleDistMatrix,\n",
    "clustering_distance_rows=sampleDists,\n",
    "clustering_distance_cols=sampleDists,\n",
    "col=colors)"
   ]
  },
  {
   "cell_type": "markdown",
   "metadata": {},
   "source": [
    "**Q: How do I make a plot of the counts for the gene that has the smallest adjusted p-value?**"
   ]
  },
  {
   "cell_type": "code",
   "execution_count": null,
   "metadata": {
    "collapsed": true
   },
   "outputs": [],
   "source": []
  }
 ],
 "metadata": {
  "kernelspec": {
   "display_name": "R",
   "language": "R",
   "name": "ir"
  },
  "language_info": {
   "codemirror_mode": "r",
   "file_extension": ".r",
   "mimetype": "text/x-r-source",
   "name": "R",
   "pygments_lexer": "r",
   "version": "3.2.2"
  }
 },
 "nbformat": 4,
 "nbformat_minor": 0
}
