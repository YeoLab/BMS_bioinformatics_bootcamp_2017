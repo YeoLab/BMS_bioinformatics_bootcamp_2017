{
 "cells": [
  {
   "cell_type": "markdown",
   "metadata": {},
   "source": [
    "# Bioinformatics Bootcamp 2017\n",
    "**University of California San Diego (UCSD)**  \n",
    "\n",
    "### Contact us:\n",
    "Instructor [Emily Wheeler](mailto:ecwheele@ucsd.edu) (ecwheele@ucsd.edu)  \n",
    "Instructor [Ryan Marina](mailto:rmarina@ucsd.edu) (rmarina@ucsd.edu)  \n",
    "  \n",
    "Lecture-specific contact info provided below.\n",
    "\n",
    "### Lecture Location\n",
    "Lectures will all be held in CMME room 2017. See below for daily schedule as times change.\n",
    "\n",
    "\n",
    "### Homework Submission\n",
    "One homework will be assigned on Friday and due on Monday.\n",
    "\n"
    ]
  },
  {
   "cell_type": "markdown",
   "metadata": {},
   "source": [
    "## Syllabus\n",
    "\n",
    "| Module Num. | Date |  Lecture Room | Lecturer | Topic | Lecture | Homework | Solutions |\n",
    "| ----------- | ---- | ------------- | -------- | ----- | ------- | -------- | --------- |\n",
    "| **0** |  |  |  | Pre-class Setup | [Windows](http://nbviewer.jupyter.org/github/biom262/biom262-2017/blob/master/Module1/0_Generate_public_and_private_key_windows.ipynb) [Mac/Linux](http://nbviewer.jupyter.org/github/biom262/biom262-2017/blob/master/Module1/0_Generate_public_private_key_mac.ipynb) |  |  |\n",
    "| **1** | 1/10/17 | 1013A+B | **Emily Wheeler** ([contact](mailto:ecwheele@ucsd.edu)) | Unix, TSCC, Jupyter I | [Downloads](https://github.com/biom262/biom262-2017/blob/master/Module1/0_Programs_to_install_outside_of_class.ipynb) [BASH Intro](https://github.com/biom262/biom262-2017/blob/master/Module1/1_Intro_to_BASH.ipynb)[TSCC Intro](https://github.com/biom262/biom262-2017/blob/master/Module1/2_TSCC_login_and_program_downloads.ipynb) |  |  |\n",
    "|       | 1/12/17 | 1013A+B | Emily Wheeler | RNA-Seq (Transcriptomics Analysis) I |[Overview_Lecture](https://github.com/biom262/biom262-2017/blob/master/Module1/Week1_Day2.pptx)[Data_Download](https://github.com/biom262/biom262-2017/blob/master/Module1/3_Download_Data_and_quality_checks.ipynb) [STAR_alignment](https://github.com/biom262/biom262-2017/blob/master/Module1/4_STAR_and_ailases.ipynb) | | |\n",
    "| **2** | 1/17/17 | 1013A+B | **Scott Rifkin** ([contact](mailto:sarifkin@ucsd.edu))  | Statistics I|[Module_Materials](https://github.com/biom262/biom262-2017/tree/master/Module2_statistics) | | |\n",
    "|       | 1/19/17 | 1013A+B | Scott Rifkin | Statistics II | |[Homework](https://github.com/biom262/biom262-2017/blob/master/Module2_statistics/introToRAssignment.Rmd) |[solution](https://github.com/biom262/biom262-2017/blob/master/Module2_statistics/introToRAssignment_Ans-1.Rmd) |\n",
    "| **3** | 1/24/17 | Auditorium | **Gene Yeo** ([contact](mailto:geneyeo@ucsd.edu)) | RNA-seq (Transcriptomics Analysis) II |[STAR](https://github.com/biom262/biom262-2017/blob/master/Module1/4_STAR_and_ailases.ipynb)  [samtools](https://github.com/biom262/biom262-2017/blob/master/Module1/5_Samtools_and_IGV.ipynb)  [featureCounts](https://github.com/biom262/biom262-2017/blob/master/Module1/6_featureCounts.ipynb) | | |\n",
    "|       | 1/26/17 | Auditorium | Emily Wheeler | RNA-seq (Transcriptomics Analysis) III |[lecture_slides](https://github.com/biom262/biom262-2017/blob/master/Module1/Yeo_slides_2016-01-26.pptx)  [code_demo](https://github.com/biom262/biom262-2017/blob/master/Module1/8_python_code_tutorial.ipynb) |[homework](https://github.com/biom262/biom262-2017/blob/master/Module1/homework/Week3_homework.ipynb) |[solution](https://github.com/biom262/biom262-2017/blob/master/Module1/homework/calculate_rpkm_tpm_in_a_function_hw3_solution.ipynb) |\n",
    "| **4** | 1/31/17 | 1013A+B | Emily Wheeler | RNA-seq (Transcriptomics Analysis) IV |[DESeq2](https://github.com/biom262/biom262-2017/blob/master/Module1/9_DESeq2.ipynb) [class_code](https://github.com/biom262/biom262-2017/tree/master/Module1/class_code_jan_31) | | |\n",
    "|       | 2/2/17 | 1013A+B | Emily Wheeler | RNA-seq (Transcriptomics Analysis) V |[tpm_plotting](https://github.com/biom262/biom262-2017/blob/master/Module1/10_summarize_expression_results.ipynb) [rMATS](https://github.com/biom262/biom262-2017/blob/master/Module1/11_rMATS_alternative_splicing.ipynb) [class_code](https://github.com/biom262/biom262-2017/tree/master/Module1/class_code_02_02) |[homework](https://github.com/biom262/biom262-2017/blob/master/Module1/homework/week_4_homework.ipynb) | |\n",
    "| **5** | 2/7/16 | 1013A+B | Scott Rifkin  | Statistics IIII | [Lecture Materials](http://nbviewer.jupyter.org/github/biom262/biom262-2017/blob/master/Module2_statistics/Lecture3_inClass.Rmd) | | |\n",
    "|       | 2/9/16 | 1013A+B | Scott Rifkin | Statistics IV | | | |\n",
    "| **6** | 2/14/16 | 1013A+B |  **Olivier Harismendy** ([contact](mailto:oharismendy@ucsd.edu@ucsd.edu)) | DNA Analysis and Variant Calling I | [Lecture_Slides](https://github.com/biom262/biom262-2017/blob/master/Module3_Harismendy/BIOM262_lecture.pptx) [In_Class_Execution_Methods](http://nbviewer.jupyter.org/github/biom262/biom262-2017/blob/master/Module3_Harismendy/class.sh) | | |\n",
    "|       | 2/16/16 | 2803 | Olivier Harismendy | DNA Analysis and Variant Calling II | [In_Class_Run_Commands](http://nbviewer.jupyter.org/github/biom262/biom262-2017/blob/master/Module3_Harismendy/class_20170205.sh) | | |\n",
    "| **7** | 2/21/16 | 1013A+B | **Alon Goren** ([contact](mailto:agoren@ucsd.edu)) | ChIP Binding Data I |[pre_class_paper](https://github.com/biom262/biom262-2017/blob/master/Module4_Goren/goren_pre_class_paper.pdf)  [install_homer](https://github.com/biom262/biom262-2017/blob/master/Module4_Goren/Install_Homer.ipynb)  [in class demo](https://github.com/biom262/biom262-2017/blob/master/Module4_Goren/BIOM262-ChIPseq-workshop-2.21.17.pdf) | | |\n",
    "|       | 2/23/16 | 1013A+B | Alon Goren | ChIP Binding Data II |[in class demo](https://github.com/biom262/biom262-2017/blob/master/Module4_Goren/BIOM262-ChIPseq-workshop-2.23.17.pdf) |[homework](https://github.com/biom262/biom262-2017/blob/master/Module4_Goren/Homework-BIM262-Goren-ChIP-seq.docx) |[solution](https://github.com/biom262/biom262-2017/blob/master/Module4_Goren/Homework-BIM262-Goren-ChIP-seq%2BAnswers.docx) |\n",
    "| **8** | 2/28/16 | 1013A+B | **Graham McVicker** ([contact](mailto:gmcvicker@salk.edu)) | Genetic Variation and Transcription Regulation I |[Lecture](https://github.com/biom262/biom262-2017/blob/master/module5_McVicker/BIOM262_lecture_mcvicker.pdf)  [In_class_commands](https://github.com/biom262/biom262-2017/blob/master/module5_McVicker/BIOM262_mcvicker_class1.R) | | |\n",
    "|       | 3/2/16 | 1013A+B | Graham McVicker | Genetic Variation and Transcription Regulation II |[code_demo](https://github.com/biom262/biom262-2017/blob/master/module5_McVicker/BIOM262_notebook_mcvicker_class2.Rmd) |[homework](https://github.com/biom262/biom262-2017/blob/master/module5_McVicker/BIOM262_homework.Rmd) | [solution](https://github.com/biom262/biom262-2017/blob/master/module5_McVicker/BIOM262_homework_with_answers.Rmd) |\n",
    "| **9** | 3/7/16 | Auditorium | **Hannah Carter** ([contact](mailto:hcarte10@gmail.com)) | Variation (genetic, inherited, somatic variation.) II |[Lecture](https://github.com/biom262/biom262-2017/blob/master/Module6_Carter/Day%201.pptx)  [Install_Instructions](https://github.com/biom262/biom262-2017/blob/master/Module6_Carter/install_instructions_week9.ipynb)  [Network_basics](https://github.com/biom262/biom262-2017/blob/master/Module6_Carter/Network_Basics.ipynb) | | |\n",
    "|       | 3/9/16 | 1013A+B | Hannah Carter | Variation (genetic, inherited, somatic variation.) I |[Lecture_Part_1](https://github.com/biom262/biom262-2017/blob/master/Module6_Carter/Carter_day2_1.pptx)  [Lecture_part_2](https://github.com/biom262/biom262-2017/blob/master/Module6_Carter/Carter_day2_2.pptx) |[Homework](https://github.com/biom262/biom262-2017/blob/master/Module6_Carter/Homework.ipynb) |[solution](https://github.com/biom262/biom262-2017/blob/master/Module6_Carter/Homework%20Solutions.ipynb) |\n",
    "| **10** | 3/14/16 | 1013A+B | **Nicholas Schork** ([contact](mailto:nschork@ucsd.edu)) | Modern Applied Population Genetics. Admixture Mapping. | [Lecture 1](https://github.com/biom262/biom262-2017/blob/master/schork1.pptx) [Lecture 2](https://github.com/biom262/biom262-2017/blob/master/schork2.pptx) [Lecture 3](https://github.com/biom262/biom262-2017/blob/master/schork3.pptx) | | |\n",
    "|       | 3/16/16 | 1013A+B |  **Ondrej Libiger** ([contact](mailto:ondrej@mdrevolution.com)) | Python and PLINK | [PLINK Module](http://nbviewer.jupyter.org/github/biom262/biom262-2017/blob/master/PLINK_Demo.ipynb?flush_cache=true) [installs](https://github.com/biom262/biom262-2017/blob/master/week10_install_instructions.ipynb) | | |"
   ]
  },
  {
   "cell_type": "markdown",
   "metadata": {},
   "source": [
    "\n",
    "\n",
    "## Take Home Exams\n",
    "\n",
    "**Midterm:** Assigned on 2/10, Due on 2/19 at 11:59PM  \n",
    "**Final Exam:** [here](https://github.com/biom262/biom262-2017/tree/master/Final_Exam) Assigned on 3/17, Due on 3/26 at 11:59PM"
   ]
  }
 ],
 "metadata": {
  "kernelspec": {
   "display_name": "Python 2",
   "language": "python",
   "name": "python2"
  },
  "language_info": {
   "codemirror_mode": {
    "name": "ipython",
    "version": 2
   },
   "file_extension": ".py",
   "mimetype": "text/x-python",
   "name": "python",
   "nbconvert_exporter": "python",
   "pygments_lexer": "ipython2",
   "version": "2.7.11"
  }
 },
 "nbformat": 4,
 "nbformat_minor": 0
}
